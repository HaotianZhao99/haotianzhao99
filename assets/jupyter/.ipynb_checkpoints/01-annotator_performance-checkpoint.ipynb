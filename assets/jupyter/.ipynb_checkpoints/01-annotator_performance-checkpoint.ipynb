{
 "cells": [
  {
   "cell_type": "code",
   "execution_count": 12,
   "id": "f60692f4",
   "metadata": {
    "colab": {
     "base_uri": "https://localhost:8080/",
     "height": 110
    },
    "execution": {
     "iopub.execute_input": "2024-03-26T09:26:04.348171Z",
     "iopub.status.busy": "2024-03-26T09:26:04.347990Z",
     "iopub.status.idle": "2024-03-26T09:26:30.357598Z",
     "shell.execute_reply": "2024-03-26T09:26:30.357035Z"
    },
    "executionInfo": {
     "elapsed": 1213,
     "status": "ok",
     "timestamp": 1735216443389,
     "user": {
      "displayName": "Peaslee Arnetta",
      "userId": "17047474016460582436"
     },
     "user_tz": -480
    },
    "id": "f60692f4",
    "outputId": "9b67dd6e-c695-45b0-9b49-9ac45155a572",
    "papermill": {
     "duration": 26.015084,
     "end_time": "2024-03-26T09:26:30.358609",
     "exception": false,
     "start_time": "2024-03-26T09:26:04.343525",
     "status": "completed"
    },
    "tags": []
   },
   "outputs": [
    {
     "name": "stdout",
     "output_type": "stream",
     "text": [
      "The rpy2.ipython extension is already loaded. To reload it, use:\n",
      "  %reload_ext rpy2.ipython\n",
      "- Project '/content' loaded. [renv 1.0.11]\n"
     ]
    },
    {
     "data": {
      "text/html": [
       "\n",
       "        <span>StrVector with 1 elements.</span>\n",
       "        <table>\n",
       "        <tbody>\n",
       "          <tr>\n",
       "          \n",
       "            <td>\n",
       "            '/content'\n",
       "            </td>\n",
       "          \n",
       "          </tr>\n",
       "        </tbody>\n",
       "        </table>\n",
       "        "
      ],
      "text/plain": [
       "<rpy2.robjects.vectors.StrVector object at 0x7def1a43aa00> [RTYPES.STRSXP]\n",
       "R classes: ('character',)\n",
       "['/content']"
      ]
     },
     "execution_count": 12,
     "metadata": {},
     "output_type": "execute_result"
    }
   ],
   "source": [
    "# Load R language extension into Jupyter environment\n",
    "%load_ext rpy2.ipython\n",
    "# Load R project dependency management environment\n",
    "%R renv::load()"
   ]
  },
  {
   "cell_type": "code",
   "execution_count": 21,
   "id": "nWJPXdpJ-bE8",
   "metadata": {
    "colab": {
     "base_uri": "https://localhost:8080/"
    },
    "executionInfo": {
     "elapsed": 10773,
     "status": "ok",
     "timestamp": 1735216914471,
     "user": {
      "displayName": "Peaslee Arnetta",
      "userId": "17047474016460582436"
     },
     "user_tz": -480
    },
    "id": "nWJPXdpJ-bE8",
    "outputId": "0247faf3-8874-4820-df0e-c68a0d069e2c"
   },
   "outputs": [
    {
     "name": "stdout",
     "output_type": "stream",
     "text": [
      "Drive already mounted at /content/drive; to attempt to forcibly remount, call drive.mount(\"/content/drive\", force_remount=True).\n"
     ]
    }
   ],
   "source": [
    "\n",
    "from google.colab import drive\n",
    "drive.mount('/content/drive')\n",
    "\n",
    "import os\n",
    "project_path = \"/content/drive/MyDrive/PopBERT/\"\n",
    "os.chdir(project_path)\n",
    "\n",
    "import sys\n",
    "sys.path.append(project_path)"
   ]
  },
  {
   "cell_type": "code",
   "execution_count": 24,
   "id": "28be3638",
   "metadata": {
    "execution": {
     "iopub.execute_input": "2024-03-26T09:26:30.365827Z",
     "iopub.status.busy": "2024-03-26T09:26:30.365574Z",
     "iopub.status.idle": "2024-03-26T09:26:34.298628Z",
     "shell.execute_reply": "2024-03-26T09:26:34.298051Z"
    },
    "executionInfo": {
     "elapsed": 3,
     "status": "ok",
     "timestamp": 1735216989200,
     "user": {
      "displayName": "Peaslee Arnetta",
      "userId": "17047474016460582436"
     },
     "user_tz": -480
    },
    "id": "28be3638",
    "papermill": {
     "duration": 3.93721,
     "end_time": "2024-03-26T09:26:34.300002",
     "exception": false,
     "start_time": "2024-03-26T09:26:30.362792",
     "status": "completed"
    },
    "tags": []
   },
   "outputs": [],
   "source": [
    "from itertools import combinations # Import combination function tool from Python standard library\n",
    "\n",
    "import numpy as np\n",
    "import pandas as pd\n",
    "\n",
    "# Import R language interaction related libraries\n",
    "import rpy2.robjects as ro\n",
    "from rpy2.robjects import numpy2ri\n",
    "from rpy2.robjects.packages import importr\n",
    "\n",
    "# Import machine learning evaluation metrics and statistical tools\n",
    "from sklearn.metrics import f1_score\n",
    "from statsmodels.stats import inter_rater\n",
    "\n",
    "# Import local src module and its submodules\n",
    "import src\n",
    "import src.bert.dataset.strategies as strategies\n",
    "import src.db.connect\n",
    "from src.bert.dataset import PBertDataset"
   ]
  },
  {
   "cell_type": "code",
   "execution_count": 25,
   "id": "b95bd128",
   "metadata": {
    "execution": {
     "iopub.execute_input": "2024-03-26T09:26:34.305943Z",
     "iopub.status.busy": "2024-03-26T09:26:34.305630Z",
     "iopub.status.idle": "2024-03-26T09:26:35.112132Z",
     "shell.execute_reply": "2024-03-26T09:26:35.111612Z"
    },
    "executionInfo": {
     "elapsed": 3090,
     "status": "ok",
     "timestamp": 1735217047343,
     "user": {
      "displayName": "Peaslee Arnetta",
      "userId": "17047474016460582436"
     },
     "user_tz": -480
    },
    "id": "b95bd128",
    "papermill": {
     "duration": 0.810619,
     "end_time": "2024-03-26T09:26:35.113369",
     "exception": false,
     "start_time": "2024-03-26T09:26:34.302750",
     "status": "completed"
    },
    "tags": []
   },
   "outputs": [],
   "source": [
    "dataset = PBertDataset.from_disk(\n",
    "    path=src.PATH / \"data/labeled_data/full.csv.zip\",\n",
    "    exclude_coders=[],\n",
    "    label_strategy=strategies.MLMin1PopIdeol(output_fmt=\"single_task\"),\n",
    ")"
   ]
  },
  {
   "cell_type": "code",
   "execution_count": 26,
   "id": "a5acf656",
   "metadata": {
    "execution": {
     "iopub.execute_input": "2024-03-26T09:26:35.119287Z",
     "iopub.status.busy": "2024-03-26T09:26:35.118995Z",
     "iopub.status.idle": "2024-03-26T09:26:35.122988Z",
     "shell.execute_reply": "2024-03-26T09:26:35.122629Z"
    },
    "executionInfo": {
     "elapsed": 786,
     "status": "ok",
     "timestamp": 1735217200136,
     "user": {
      "displayName": "Peaslee Arnetta",
      "userId": "17047474016460582436"
     },
     "user_tz": -480
    },
    "id": "a5acf656",
    "papermill": {
     "duration": 0.007753,
     "end_time": "2024-03-26T09:26:35.123907",
     "exception": false,
     "start_time": "2024-03-26T09:26:35.116154",
     "status": "completed"
    },
    "tags": []
   },
   "outputs": [],
   "source": [
    "def pairwise_f1_agreement(df):\n",
    "    scores = []\n",
    "    for i, j in combinations(df.columns, r=2):\n",
    "        coder1 = df[i].apply(pd.Series).to_numpy()\n",
    "        coder2 = df[j].apply(pd.Series).to_numpy()\n",
    "        score = f1_score(coder1, coder2, average=\"binary\")\n",
    "        scores.append(score)\n",
    "\n",
    "    return np.mean(scores)"
   ]
  },
  {
   "cell_type": "markdown",
   "id": "8OuIpgceAKU4",
   "metadata": {
    "id": "8OuIpgceAKU4"
   },
   "source": [
    "Evaluate the annotation consistency among multiple coders.\n",
    "- Uses F1 score to measure agreement between each pair of coders\n",
    "- Takes the average of all pairwise F1 scores as the overall consistency metric"
   ]
  },
  {
   "cell_type": "code",
   "execution_count": 29,
   "id": "f9c51423",
   "metadata": {
    "execution": {
     "iopub.execute_input": "2024-03-26T09:26:35.129055Z",
     "iopub.status.busy": "2024-03-26T09:26:35.128767Z",
     "iopub.status.idle": "2024-03-26T09:26:35.691257Z",
     "shell.execute_reply": "2024-03-26T09:26:35.690634Z"
    },
    "executionInfo": {
     "elapsed": 994,
     "status": "ok",
     "timestamp": 1735217356634,
     "user": {
      "displayName": "Peaslee Arnetta",
      "userId": "17047474016460582436"
     },
     "user_tz": -480
    },
    "id": "f9c51423",
    "papermill": {
     "duration": 0.566386,
     "end_time": "2024-03-26T09:26:35.692526",
     "exception": false,
     "start_time": "2024-03-26T09:26:35.126140",
     "status": "completed"
    },
    "tags": []
   },
   "outputs": [],
   "source": [
    "base = importr(\"base\")\n",
    "\n",
    "# Import R irr package (for calculating inter-rater reliability)\n",
    "irr = importr(\"irr\")"
   ]
  },
  {
   "cell_type": "code",
   "execution_count": 30,
   "id": "000d581f",
   "metadata": {
    "execution": {
     "iopub.execute_input": "2024-03-26T09:26:35.698422Z",
     "iopub.status.busy": "2024-03-26T09:26:35.698166Z",
     "iopub.status.idle": "2024-03-26T09:26:35.702212Z",
     "shell.execute_reply": "2024-03-26T09:26:35.701857Z"
    },
    "executionInfo": {
     "elapsed": 1180,
     "status": "ok",
     "timestamp": 1735217520535,
     "user": {
      "displayName": "Peaslee Arnetta",
      "userId": "17047474016460582436"
     },
     "user_tz": -480
    },
    "id": "000d581f",
    "papermill": {
     "duration": 0.008155,
     "end_time": "2024-03-26T09:26:35.703222",
     "exception": false,
     "start_time": "2024-03-26T09:26:35.695067",
     "status": "completed"
    },
    "tags": []
   },
   "outputs": [],
   "source": [
    "def pairwise_f1_agreement(df):\n",
    "    scores = []\n",
    "    for i, j in combinations(df.columns, r=2):\n",
    "        coder1 = df[i]\n",
    "        coder2 = df[j]\n",
    "        score = f1_score(coder1, coder2, average=\"binary\")\n",
    "        scores.append(score)\n",
    "\n",
    "    return np.mean(scores)"
   ]
  },
  {
   "cell_type": "code",
   "execution_count": 35,
   "id": "dbb60937",
   "metadata": {
    "execution": {
     "iopub.execute_input": "2024-03-26T09:26:35.708316Z",
     "iopub.status.busy": "2024-03-26T09:26:35.708081Z",
     "iopub.status.idle": "2024-03-26T09:26:35.713486Z",
     "shell.execute_reply": "2024-03-26T09:26:35.713143Z"
    },
    "executionInfo": {
     "elapsed": 670,
     "status": "ok",
     "timestamp": 1735217842940,
     "user": {
      "displayName": "Peaslee Arnetta",
      "userId": "17047474016460582436"
     },
     "user_tz": -480
    },
    "id": "dbb60937",
    "papermill": {
     "duration": 0.008991,
     "end_time": "2024-03-26T09:26:35.714409",
     "exception": false,
     "start_time": "2024-03-26T09:26:35.705418",
     "status": "completed"
    },
    "tags": []
   },
   "outputs": [],
   "source": [
    "def calculate_kappa(dataset, strategy, coders):\n",
    "    dataset.valid_coders = coders\n",
    "    dataset.strategy = strategy\n",
    "    dataset.apply_label_strategy()\n",
    "\n",
    "    df = dataset.df_labels.copy()\n",
    "    raw_data = pd.DataFrame(df.labels.tolist(), columns=dataset.coders, index=df.id)\n",
    "    f1_agreement = pairwise_f1_agreement(raw_data)\n",
    "    raw_data = raw_data.to_numpy()\n",
    "\n",
    "\n",
    "    numpy2ri.activate()  # 激活numpy到R的转换\n",
    "    try:\n",
    "        r_mat = ro.conversion.py2rpy(raw_data)\n",
    "\n",
    "        out = irr.kappam_fleiss(r_mat, exact=False)\n",
    "        kappa = np.array(out.rx(\"value\"))[0][0]\n",
    "\n",
    "        out = irr.agree(r_mat, tolerance=0)\n",
    "        agree = np.array(out.rx(\"value\"))[0][0]\n",
    "\n",
    "        out = irr.kripp_alpha(base.t(r_mat), method=\"nominal\")\n",
    "        alpha = np.array(out.rx(\"value\"))[0][0]\n",
    "    finally:\n",
    "        numpy2ri.deactivate()  # 确保在完成后停用转换\n",
    "\n",
    "    return round(kappa, 3), round(alpha, 3), round(agree, 1), round(f1_agreement, 3)"
   ]
  },
  {
   "cell_type": "markdown",
   "id": "gV0HImWtB4El",
   "metadata": {
    "id": "gV0HImWtB4El"
   },
   "source": [
    "This code implements a comprehensive inter-rater reliability assessment system for text classification tasks. The calculate_kappa function calculates multiple reliability metrics to evaluate the agreement between different coders (annotators) who have labeled the same text data."
   ]
  },
  {
   "cell_type": "code",
   "execution_count": 32,
   "id": "b8c8cbcc",
   "metadata": {
    "execution": {
     "iopub.execute_input": "2024-03-26T09:26:35.719617Z",
     "iopub.status.busy": "2024-03-26T09:26:35.719391Z",
     "iopub.status.idle": "2024-03-26T09:26:35.722597Z",
     "shell.execute_reply": "2024-03-26T09:26:35.722255Z"
    },
    "executionInfo": {
     "elapsed": 725,
     "status": "ok",
     "timestamp": 1735217664265,
     "user": {
      "displayName": "Peaslee Arnetta",
      "userId": "17047474016460582436"
     },
     "user_tz": -480
    },
    "id": "b8c8cbcc",
    "papermill": {
     "duration": 0.006887,
     "end_time": "2024-03-26T09:26:35.723512",
     "exception": false,
     "start_time": "2024-03-26T09:26:35.716625",
     "status": "completed"
    },
    "tags": []
   },
   "outputs": [],
   "source": [
    "coder_sets = {\"all_coders\": dataset.all_coders}\n",
    "\n",
    "label_strategies = [\n",
    "    strategies.PopEliteBin(),\n",
    "    strategies.PopCentrBin(),\n",
    "    strategies.IdeolLeftBin(),\n",
    "    strategies.IdeolRightBin(),\n",
    "]"
   ]
  },
  {
   "cell_type": "markdown",
   "id": "75c4caf9",
   "metadata": {
    "id": "75c4caf9",
    "papermill": {
     "duration": 0.002126,
     "end_time": "2024-03-26T09:26:35.727924",
     "exception": false,
     "start_time": "2024-03-26T09:26:35.725798",
     "status": "completed"
    },
    "tags": []
   },
   "source": [
    "# Kappa Values\n"
   ]
  },
  {
   "cell_type": "code",
   "execution_count": 36,
   "id": "59183526",
   "metadata": {
    "execution": {
     "iopub.execute_input": "2024-03-26T09:26:35.732889Z",
     "iopub.status.busy": "2024-03-26T09:26:35.732620Z",
     "iopub.status.idle": "2024-03-26T09:26:42.444693Z",
     "shell.execute_reply": "2024-03-26T09:26:42.444080Z"
    },
    "executionInfo": {
     "elapsed": 16709,
     "status": "ok",
     "timestamp": 1735217864596,
     "user": {
      "displayName": "Peaslee Arnetta",
      "userId": "17047474016460582436"
     },
     "user_tz": -480
    },
    "id": "59183526",
    "papermill": {
     "duration": 6.716013,
     "end_time": "2024-03-26T09:26:42.446024",
     "exception": false,
     "start_time": "2024-03-26T09:26:35.730011",
     "status": "completed"
    },
    "tags": []
   },
   "outputs": [],
   "source": [
    "rows = []\n",
    "for strat in label_strategies:\n",
    "    for set_name, coders in coder_sets.items():\n",
    "        kappa, alpha, agree, f1 = calculate_kappa(dataset, strat, coders)\n",
    "        rows.append((type(strat).__name__, set_name, kappa, f1, alpha, agree))\n",
    "\n",
    "table = pd.DataFrame(\n",
    "    rows,\n",
    "    columns=[\n",
    "        \"strategy\",\n",
    "        \"coder_set\",\n",
    "        \"fleiss_kappa\",\n",
    "        \"f1\",\n",
    "        \"krippendorff_alpha\",\n",
    "        \"agree\",\n",
    "    ],\n",
    ").set_index([\"strategy\", \"coder_set\"])"
   ]
  },
  {
   "cell_type": "code",
   "execution_count": 37,
   "id": "73cdd079",
   "metadata": {
    "colab": {
     "base_uri": "https://localhost:8080/",
     "height": 206
    },
    "execution": {
     "iopub.execute_input": "2024-03-26T09:26:42.453342Z",
     "iopub.status.busy": "2024-03-26T09:26:42.453105Z",
     "iopub.status.idle": "2024-03-26T09:26:43.215473Z",
     "shell.execute_reply": "2024-03-26T09:26:43.215036Z"
    },
    "executionInfo": {
     "elapsed": 1684,
     "status": "ok",
     "timestamp": 1735217953675,
     "user": {
      "displayName": "Peaslee Arnetta",
      "userId": "17047474016460582436"
     },
     "user_tz": -480
    },
    "id": "73cdd079",
    "outputId": "86e35688-83ed-4da1-c245-e4c5219342fd",
    "papermill": {
     "duration": 0.766455,
     "end_time": "2024-03-26T09:26:43.216466",
     "exception": false,
     "start_time": "2024-03-26T09:26:42.450011",
     "status": "completed"
    },
    "tags": []
   },
   "outputs": [
    {
     "data": {
      "application/vnd.google.colaboratory.intrinsic+json": {
       "summary": "{\n  \"name\": \"tab\",\n  \"rows\": 5,\n  \"fields\": [\n    {\n      \"column\": \"Label\",\n      \"properties\": {\n        \"dtype\": \"string\",\n        \"num_unique_values\": 5,\n        \"samples\": [\n          \"People-Centrism\",\n          \"\\\\textbf{Total / Mean}\",\n          \"Left-Wing Ideology\"\n        ],\n        \"semantic_type\": \"\",\n        \"description\": \"\"\n      }\n    },\n    {\n      \"column\": \"N\",\n      \"properties\": {\n        \"dtype\": \"string\",\n        \"num_unique_values\": 5,\n        \"samples\": [\n          1608,\n          \"\\\\textbf{8795}\",\n          1393\n        ],\n        \"semantic_type\": \"\",\n        \"description\": \"\"\n      }\n    },\n    {\n      \"column\": \"Fleiss' $\\\\kappa$\",\n      \"properties\": {\n        \"dtype\": \"string\",\n        \"num_unique_values\": 5,\n        \"samples\": [\n          \"0.244\",\n          \"\\\\textbf{0.343}\",\n          \"0.355\"\n        ],\n        \"semantic_type\": \"\",\n        \"description\": \"\"\n      }\n    },\n    {\n      \"column\": \"Agreement\",\n      \"properties\": {\n        \"dtype\": \"string\",\n        \"num_unique_values\": 5,\n        \"samples\": [\n          \"81.80 \\\\%\",\n          \"\\\\textbf{80.92 \\\\%}\",\n          \"84.50 \\\\%\"\n        ],\n        \"semantic_type\": \"\",\n        \"description\": \"\"\n      }\n    },\n    {\n      \"column\": \"F1\",\n      \"properties\": {\n        \"dtype\": \"string\",\n        \"num_unique_values\": 5,\n        \"samples\": [\n          \"0.262\",\n          \"\\\\textbf{0.380}\",\n          \"0.378\"\n        ],\n        \"semantic_type\": \"\",\n        \"description\": \"\"\n      }\n    }\n  ]\n}",
       "type": "dataframe",
       "variable_name": "tab"
      },
      "text/html": [
       "\n",
       "  <div id=\"df-2d761a62-1091-4638-8f31-471e419f007d\" class=\"colab-df-container\">\n",
       "    <div>\n",
       "<style scoped>\n",
       "    .dataframe tbody tr th:only-of-type {\n",
       "        vertical-align: middle;\n",
       "    }\n",
       "\n",
       "    .dataframe tbody tr th {\n",
       "        vertical-align: top;\n",
       "    }\n",
       "\n",
       "    .dataframe thead th {\n",
       "        text-align: right;\n",
       "    }\n",
       "</style>\n",
       "<table border=\"1\" class=\"dataframe\">\n",
       "  <thead>\n",
       "    <tr style=\"text-align: right;\">\n",
       "      <th></th>\n",
       "      <th>Label</th>\n",
       "      <th>N</th>\n",
       "      <th>Fleiss' $\\kappa$</th>\n",
       "      <th>Agreement</th>\n",
       "      <th>F1</th>\n",
       "    </tr>\n",
       "  </thead>\n",
       "  <tbody>\n",
       "    <tr>\n",
       "      <th>0</th>\n",
       "      <td>Anti-Elitism</td>\n",
       "      <td>3236</td>\n",
       "      <td>0.410</td>\n",
       "      <td>65.80 \\%</td>\n",
       "      <td>0.496</td>\n",
       "    </tr>\n",
       "    <tr>\n",
       "      <th>1</th>\n",
       "      <td>People-Centrism</td>\n",
       "      <td>1608</td>\n",
       "      <td>0.244</td>\n",
       "      <td>81.80 \\%</td>\n",
       "      <td>0.262</td>\n",
       "    </tr>\n",
       "    <tr>\n",
       "      <th>2</th>\n",
       "      <td>Left-Wing Ideology</td>\n",
       "      <td>1393</td>\n",
       "      <td>0.355</td>\n",
       "      <td>84.50 \\%</td>\n",
       "      <td>0.378</td>\n",
       "    </tr>\n",
       "    <tr>\n",
       "      <th>3</th>\n",
       "      <td>Right-Wing Ideology</td>\n",
       "      <td>773</td>\n",
       "      <td>0.364</td>\n",
       "      <td>91.60 \\%</td>\n",
       "      <td>0.383</td>\n",
       "    </tr>\n",
       "    <tr>\n",
       "      <th>4</th>\n",
       "      <td>\\textbf{Total / Mean}</td>\n",
       "      <td>\\textbf{8795}</td>\n",
       "      <td>\\textbf{0.343}</td>\n",
       "      <td>\\textbf{80.92 \\%}</td>\n",
       "      <td>\\textbf{0.380}</td>\n",
       "    </tr>\n",
       "  </tbody>\n",
       "</table>\n",
       "</div>\n",
       "    <div class=\"colab-df-buttons\">\n",
       "\n",
       "  <div class=\"colab-df-container\">\n",
       "    <button class=\"colab-df-convert\" onclick=\"convertToInteractive('df-2d761a62-1091-4638-8f31-471e419f007d')\"\n",
       "            title=\"Convert this dataframe to an interactive table.\"\n",
       "            style=\"display:none;\">\n",
       "\n",
       "  <svg xmlns=\"http://www.w3.org/2000/svg\" height=\"24px\" viewBox=\"0 -960 960 960\">\n",
       "    <path d=\"M120-120v-720h720v720H120Zm60-500h600v-160H180v160Zm220 220h160v-160H400v160Zm0 220h160v-160H400v160ZM180-400h160v-160H180v160Zm440 0h160v-160H620v160ZM180-180h160v-160H180v160Zm440 0h160v-160H620v160Z\"/>\n",
       "  </svg>\n",
       "    </button>\n",
       "\n",
       "  <style>\n",
       "    .colab-df-container {\n",
       "      display:flex;\n",
       "      gap: 12px;\n",
       "    }\n",
       "\n",
       "    .colab-df-convert {\n",
       "      background-color: #E8F0FE;\n",
       "      border: none;\n",
       "      border-radius: 50%;\n",
       "      cursor: pointer;\n",
       "      display: none;\n",
       "      fill: #1967D2;\n",
       "      height: 32px;\n",
       "      padding: 0 0 0 0;\n",
       "      width: 32px;\n",
       "    }\n",
       "\n",
       "    .colab-df-convert:hover {\n",
       "      background-color: #E2EBFA;\n",
       "      box-shadow: 0px 1px 2px rgba(60, 64, 67, 0.3), 0px 1px 3px 1px rgba(60, 64, 67, 0.15);\n",
       "      fill: #174EA6;\n",
       "    }\n",
       "\n",
       "    .colab-df-buttons div {\n",
       "      margin-bottom: 4px;\n",
       "    }\n",
       "\n",
       "    [theme=dark] .colab-df-convert {\n",
       "      background-color: #3B4455;\n",
       "      fill: #D2E3FC;\n",
       "    }\n",
       "\n",
       "    [theme=dark] .colab-df-convert:hover {\n",
       "      background-color: #434B5C;\n",
       "      box-shadow: 0px 1px 3px 1px rgba(0, 0, 0, 0.15);\n",
       "      filter: drop-shadow(0px 1px 2px rgba(0, 0, 0, 0.3));\n",
       "      fill: #FFFFFF;\n",
       "    }\n",
       "  </style>\n",
       "\n",
       "    <script>\n",
       "      const buttonEl =\n",
       "        document.querySelector('#df-2d761a62-1091-4638-8f31-471e419f007d button.colab-df-convert');\n",
       "      buttonEl.style.display =\n",
       "        google.colab.kernel.accessAllowed ? 'block' : 'none';\n",
       "\n",
       "      async function convertToInteractive(key) {\n",
       "        const element = document.querySelector('#df-2d761a62-1091-4638-8f31-471e419f007d');\n",
       "        const dataTable =\n",
       "          await google.colab.kernel.invokeFunction('convertToInteractive',\n",
       "                                                    [key], {});\n",
       "        if (!dataTable) return;\n",
       "\n",
       "        const docLinkHtml = 'Like what you see? Visit the ' +\n",
       "          '<a target=\"_blank\" href=https://colab.research.google.com/notebooks/data_table.ipynb>data table notebook</a>'\n",
       "          + ' to learn more about interactive tables.';\n",
       "        element.innerHTML = '';\n",
       "        dataTable['output_type'] = 'display_data';\n",
       "        await google.colab.output.renderOutput(dataTable, element);\n",
       "        const docLink = document.createElement('div');\n",
       "        docLink.innerHTML = docLinkHtml;\n",
       "        element.appendChild(docLink);\n",
       "      }\n",
       "    </script>\n",
       "  </div>\n",
       "\n",
       "\n",
       "<div id=\"df-85fa8af6-a634-42ce-8ee9-6ded10bec4f4\">\n",
       "  <button class=\"colab-df-quickchart\" onclick=\"quickchart('df-85fa8af6-a634-42ce-8ee9-6ded10bec4f4')\"\n",
       "            title=\"Suggest charts\"\n",
       "            style=\"display:none;\">\n",
       "\n",
       "<svg xmlns=\"http://www.w3.org/2000/svg\" height=\"24px\"viewBox=\"0 0 24 24\"\n",
       "     width=\"24px\">\n",
       "    <g>\n",
       "        <path d=\"M19 3H5c-1.1 0-2 .9-2 2v14c0 1.1.9 2 2 2h14c1.1 0 2-.9 2-2V5c0-1.1-.9-2-2-2zM9 17H7v-7h2v7zm4 0h-2V7h2v10zm4 0h-2v-4h2v4z\"/>\n",
       "    </g>\n",
       "</svg>\n",
       "  </button>\n",
       "\n",
       "<style>\n",
       "  .colab-df-quickchart {\n",
       "      --bg-color: #E8F0FE;\n",
       "      --fill-color: #1967D2;\n",
       "      --hover-bg-color: #E2EBFA;\n",
       "      --hover-fill-color: #174EA6;\n",
       "      --disabled-fill-color: #AAA;\n",
       "      --disabled-bg-color: #DDD;\n",
       "  }\n",
       "\n",
       "  [theme=dark] .colab-df-quickchart {\n",
       "      --bg-color: #3B4455;\n",
       "      --fill-color: #D2E3FC;\n",
       "      --hover-bg-color: #434B5C;\n",
       "      --hover-fill-color: #FFFFFF;\n",
       "      --disabled-bg-color: #3B4455;\n",
       "      --disabled-fill-color: #666;\n",
       "  }\n",
       "\n",
       "  .colab-df-quickchart {\n",
       "    background-color: var(--bg-color);\n",
       "    border: none;\n",
       "    border-radius: 50%;\n",
       "    cursor: pointer;\n",
       "    display: none;\n",
       "    fill: var(--fill-color);\n",
       "    height: 32px;\n",
       "    padding: 0;\n",
       "    width: 32px;\n",
       "  }\n",
       "\n",
       "  .colab-df-quickchart:hover {\n",
       "    background-color: var(--hover-bg-color);\n",
       "    box-shadow: 0 1px 2px rgba(60, 64, 67, 0.3), 0 1px 3px 1px rgba(60, 64, 67, 0.15);\n",
       "    fill: var(--button-hover-fill-color);\n",
       "  }\n",
       "\n",
       "  .colab-df-quickchart-complete:disabled,\n",
       "  .colab-df-quickchart-complete:disabled:hover {\n",
       "    background-color: var(--disabled-bg-color);\n",
       "    fill: var(--disabled-fill-color);\n",
       "    box-shadow: none;\n",
       "  }\n",
       "\n",
       "  .colab-df-spinner {\n",
       "    border: 2px solid var(--fill-color);\n",
       "    border-color: transparent;\n",
       "    border-bottom-color: var(--fill-color);\n",
       "    animation:\n",
       "      spin 1s steps(1) infinite;\n",
       "  }\n",
       "\n",
       "  @keyframes spin {\n",
       "    0% {\n",
       "      border-color: transparent;\n",
       "      border-bottom-color: var(--fill-color);\n",
       "      border-left-color: var(--fill-color);\n",
       "    }\n",
       "    20% {\n",
       "      border-color: transparent;\n",
       "      border-left-color: var(--fill-color);\n",
       "      border-top-color: var(--fill-color);\n",
       "    }\n",
       "    30% {\n",
       "      border-color: transparent;\n",
       "      border-left-color: var(--fill-color);\n",
       "      border-top-color: var(--fill-color);\n",
       "      border-right-color: var(--fill-color);\n",
       "    }\n",
       "    40% {\n",
       "      border-color: transparent;\n",
       "      border-right-color: var(--fill-color);\n",
       "      border-top-color: var(--fill-color);\n",
       "    }\n",
       "    60% {\n",
       "      border-color: transparent;\n",
       "      border-right-color: var(--fill-color);\n",
       "    }\n",
       "    80% {\n",
       "      border-color: transparent;\n",
       "      border-right-color: var(--fill-color);\n",
       "      border-bottom-color: var(--fill-color);\n",
       "    }\n",
       "    90% {\n",
       "      border-color: transparent;\n",
       "      border-bottom-color: var(--fill-color);\n",
       "    }\n",
       "  }\n",
       "</style>\n",
       "\n",
       "  <script>\n",
       "    async function quickchart(key) {\n",
       "      const quickchartButtonEl =\n",
       "        document.querySelector('#' + key + ' button');\n",
       "      quickchartButtonEl.disabled = true;  // To prevent multiple clicks.\n",
       "      quickchartButtonEl.classList.add('colab-df-spinner');\n",
       "      try {\n",
       "        const charts = await google.colab.kernel.invokeFunction(\n",
       "            'suggestCharts', [key], {});\n",
       "      } catch (error) {\n",
       "        console.error('Error during call to suggestCharts:', error);\n",
       "      }\n",
       "      quickchartButtonEl.classList.remove('colab-df-spinner');\n",
       "      quickchartButtonEl.classList.add('colab-df-quickchart-complete');\n",
       "    }\n",
       "    (() => {\n",
       "      let quickchartButtonEl =\n",
       "        document.querySelector('#df-85fa8af6-a634-42ce-8ee9-6ded10bec4f4 button');\n",
       "      quickchartButtonEl.style.display =\n",
       "        google.colab.kernel.accessAllowed ? 'block' : 'none';\n",
       "    })();\n",
       "  </script>\n",
       "</div>\n",
       "\n",
       "  <div id=\"id_156dc249-9bdd-4ca6-ad30-f93fe3f86917\">\n",
       "    <style>\n",
       "      .colab-df-generate {\n",
       "        background-color: #E8F0FE;\n",
       "        border: none;\n",
       "        border-radius: 50%;\n",
       "        cursor: pointer;\n",
       "        display: none;\n",
       "        fill: #1967D2;\n",
       "        height: 32px;\n",
       "        padding: 0 0 0 0;\n",
       "        width: 32px;\n",
       "      }\n",
       "\n",
       "      .colab-df-generate:hover {\n",
       "        background-color: #E2EBFA;\n",
       "        box-shadow: 0px 1px 2px rgba(60, 64, 67, 0.3), 0px 1px 3px 1px rgba(60, 64, 67, 0.15);\n",
       "        fill: #174EA6;\n",
       "      }\n",
       "\n",
       "      [theme=dark] .colab-df-generate {\n",
       "        background-color: #3B4455;\n",
       "        fill: #D2E3FC;\n",
       "      }\n",
       "\n",
       "      [theme=dark] .colab-df-generate:hover {\n",
       "        background-color: #434B5C;\n",
       "        box-shadow: 0px 1px 3px 1px rgba(0, 0, 0, 0.15);\n",
       "        filter: drop-shadow(0px 1px 2px rgba(0, 0, 0, 0.3));\n",
       "        fill: #FFFFFF;\n",
       "      }\n",
       "    </style>\n",
       "    <button class=\"colab-df-generate\" onclick=\"generateWithVariable('tab')\"\n",
       "            title=\"Generate code using this dataframe.\"\n",
       "            style=\"display:none;\">\n",
       "\n",
       "  <svg xmlns=\"http://www.w3.org/2000/svg\" height=\"24px\"viewBox=\"0 0 24 24\"\n",
       "       width=\"24px\">\n",
       "    <path d=\"M7,19H8.4L18.45,9,17,7.55,7,17.6ZM5,21V16.75L18.45,3.32a2,2,0,0,1,2.83,0l1.4,1.43a1.91,1.91,0,0,1,.58,1.4,1.91,1.91,0,0,1-.58,1.4L9.25,21ZM18.45,9,17,7.55Zm-12,3A5.31,5.31,0,0,0,4.9,8.1,5.31,5.31,0,0,0,1,6.5,5.31,5.31,0,0,0,4.9,4.9,5.31,5.31,0,0,0,6.5,1,5.31,5.31,0,0,0,8.1,4.9,5.31,5.31,0,0,0,12,6.5,5.46,5.46,0,0,0,6.5,12Z\"/>\n",
       "  </svg>\n",
       "    </button>\n",
       "    <script>\n",
       "      (() => {\n",
       "      const buttonEl =\n",
       "        document.querySelector('#id_156dc249-9bdd-4ca6-ad30-f93fe3f86917 button.colab-df-generate');\n",
       "      buttonEl.style.display =\n",
       "        google.colab.kernel.accessAllowed ? 'block' : 'none';\n",
       "\n",
       "      buttonEl.onclick = () => {\n",
       "        google.colab.notebook.generateWithVariable('tab');\n",
       "      }\n",
       "      })();\n",
       "    </script>\n",
       "  </div>\n",
       "\n",
       "    </div>\n",
       "  </div>\n"
      ],
      "text/plain": [
       "                   Label              N Fleiss' $\\kappa$          Agreement  \\\n",
       "0           Anti-Elitism           3236            0.410           65.80 \\%   \n",
       "1        People-Centrism           1608            0.244           81.80 \\%   \n",
       "2     Left-Wing Ideology           1393            0.355           84.50 \\%   \n",
       "3    Right-Wing Ideology            773            0.364           91.60 \\%   \n",
       "4  \\textbf{Total / Mean}  \\textbf{8795}   \\textbf{0.343}  \\textbf{80.92 \\%}   \n",
       "\n",
       "               F1  \n",
       "0           0.496  \n",
       "1           0.262  \n",
       "2           0.378  \n",
       "3           0.383  \n",
       "4  \\textbf{0.380}  "
      ]
     },
     "execution_count": 37,
     "metadata": {},
     "output_type": "execute_result"
    }
   ],
   "source": [
    "# Reset index, drop unnecessary columns, and rename columns\n",
    "tab = (\n",
    "    table.reset_index()\n",
    "    .drop([\"coder_set\", \"krippendorff_alpha\"], axis=1)\n",
    "    .rename(\n",
    "        {\n",
    "            \"strategy\": \"Label\",\n",
    "            \"f1\": \"F1\",\n",
    "        },\n",
    "        axis=1,\n",
    "    )\n",
    ")\n",
    "tab.Label = tab.Label.replace(\n",
    "    {\n",
    "        \"PopEliteBin\": \"Anti-Elitism\",\n",
    "        \"PopCentrBin\": \"People-Centrism\",\n",
    "        \"IdeolLeftBin\": \"Left-Wing Ideology\",\n",
    "        \"IdeolRightBin\": \"Right-Wing Ideology\",\n",
    "    }\n",
    ")\n",
    "# get number of positive labels\n",
    "dataset.strategy = strategies.MLMin1PopIdeol()\n",
    "dataset.apply_label_strategy()\n",
    "\n",
    "tab[\"N\"] = 0\n",
    "for i in range(0, 4):\n",
    "    tab.loc[tab.index == i, \"N\"] = sum(labels[i] for labels in dataset.df_labels.vote)\n",
    "\n",
    "# table footer\n",
    "footer = (\n",
    "    pd.Series(\n",
    "        {\n",
    "            \"Label\": \"Total / Mean\",\n",
    "            \"fleiss_kappa\": round(tab[\"fleiss_kappa\"].mean(), 3),\n",
    "            \"F1\": round(tab[\"F1\"].mean(), 3),\n",
    "            \"agree\": round(tab[\"agree\"].mean(), 3),\n",
    "            \"N\": len(dataset.df_labels),\n",
    "        },\n",
    "    )\n",
    "    .to_frame()\n",
    "    .T\n",
    ")\n",
    "footer.index = [4]\n",
    "\n",
    "tab = pd.concat([tab, footer])\n",
    "\n",
    "tab[\"agree\"] = [f\"{val:.2f} \\%\" for val in tab[\"agree\"]]\n",
    "tab[\"fleiss_kappa\"] = [f\"{val:.3f}\" for val in tab[\"fleiss_kappa\"]]\n",
    "tab[\"F1\"] = [f\"{val:.3f}\" for val in tab[\"F1\"]]\n",
    "\n",
    "tab = tab[[\"Label\", \"N\", \"fleiss_kappa\", \"agree\", \"F1\"]]\n",
    "\n",
    "tab = tab.rename(\n",
    "    {\n",
    "        \"agree\": \"Agreement\",\n",
    "        \"fleiss_kappa\": \"Fleiss' $\\kappa$\",\n",
    "    },\n",
    "    axis=1,\n",
    ")\n",
    "\n",
    "tab.iloc[4] = [f\"\\\\textbf{{{cell}}}\" for cell in tab.iloc[4]]\n",
    "\n",
    "tab"
   ]
  },
  {
   "cell_type": "markdown",
   "id": "c86d425a",
   "metadata": {
    "id": "c86d425a",
    "papermill": {
     "duration": 0.002322,
     "end_time": "2024-03-26T09:26:43.221387",
     "exception": false,
     "start_time": "2024-03-26T09:26:43.219065",
     "status": "completed"
    },
    "tags": []
   },
   "source": [
    "# Get Number of Labels"
   ]
  },
  {
   "cell_type": "code",
   "execution_count": 39,
   "id": "995f1128",
   "metadata": {
    "execution": {
     "iopub.execute_input": "2024-03-26T09:26:43.226775Z",
     "iopub.status.busy": "2024-03-26T09:26:43.226566Z",
     "iopub.status.idle": "2024-03-26T09:26:43.239518Z",
     "shell.execute_reply": "2024-03-26T09:26:43.239122Z"
    },
    "executionInfo": {
     "elapsed": 1293,
     "status": "ok",
     "timestamp": 1735218026356,
     "user": {
      "displayName": "Peaslee Arnetta",
      "userId": "17047474016460582436"
     },
     "user_tz": -480
    },
    "id": "995f1128",
    "papermill": {
     "duration": 0.016686,
     "end_time": "2024-03-26T09:26:43.240444",
     "exception": false,
     "start_time": "2024-03-26T09:26:43.223758",
     "status": "completed"
    },
    "tags": []
   },
   "outputs": [],
   "source": [
    "# Exports the statistics table we just created to a LaTeX format file.\n",
    "tab.to_latex(src.PATH / \"results/tables/coder_agreement.tex\", index=False, escape=False)"
   ]
  },
  {
   "cell_type": "code",
   "execution_count": null,
   "id": "fbf312d8",
   "metadata": {
    "id": "fbf312d8",
    "papermill": {
     "duration": 0.002321,
     "end_time": "2024-03-26T09:26:43.245222",
     "exception": false,
     "start_time": "2024-03-26T09:26:43.242901",
     "status": "completed"
    },
    "tags": []
   },
   "outputs": [],
   "source": []
  }
 ],
 "metadata": {
  "colab": {
   "provenance": []
  },
  "kernelspec": {
   "display_name": "Python 3 (ipykernel)",
   "language": "python",
   "name": "python3"
  },
  "language_info": {
   "codemirror_mode": {
    "name": "ipython",
    "version": 3
   },
   "file_extension": ".py",
   "mimetype": "text/x-python",
   "name": "python",
   "nbconvert_exporter": "python",
   "pygments_lexer": "ipython3",
   "version": "3.9.13"
  },
  "papermill": {
   "default_parameters": {},
   "duration": 41.323083,
   "end_time": "2024-03-26T09:26:43.963939",
   "environment_variables": {},
   "exception": null,
   "input_path": "code/01-annotator_performance.ipynb",
   "output_path": "code/01-annotator_performance.ipynb",
   "parameters": {},
   "start_time": "2024-03-26T09:26:02.640856",
   "version": "2.5.0"
  }
 },
 "nbformat": 4,
 "nbformat_minor": 5
}
