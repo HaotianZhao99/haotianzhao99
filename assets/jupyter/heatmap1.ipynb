{
 "cells": [
  {
   "cell_type": "code",
   "execution_count": null,
   "id": "9657dfd8",
   "metadata": {},
   "outputs": [],
   "source": [
    "import requests\n",
    "import time\n",
    "import re\n",
    "import json\n",
    "import pandas as pd"
   ]
  },
  {
   "cell_type": "code",
   "execution_count": null,
   "id": "c036dc8f",
   "metadata": {},
   "outputs": [],
   "source": [
    "# Defining a request session\n",
    "se = requests.session()\n",
    "\n",
    "df = pd.DataFrame()\n",
    "df = pd.read_csv(r'./county.csv',encoding=\"utf-8\")#Read vounty-level data\n",
    "df['county']"
   ]
  },
  {
   "cell_type": "markdown",
   "id": "cde60276",
   "metadata": {},
   "source": [
    "The value returned after executing the API is as follows:\n",
    "showLocation&&showLocation({\"status\":0,\"result\":{\"location\":{\"lng\":113.271431344459,\"lat\":23.135336306695},\"precise\":0,\"confidence\":20,\"comprehension\":100,\"level\":\"区县\"}})"
   ]
  },
  {
   "cell_type": "code",
   "execution_count": null,
   "id": "5d64023a",
   "metadata": {},
   "outputs": [],
   "source": [
    "def calc_ll(x):\n",
    "        Post_url = \"http://api.map.baidu.com/geocoding/v3/?address=\" + x + \"api_key\" #Replace \"api_key\" with your own key\n",
    "    Post_data = {\n",
    "        'address': x\n",
    "    }\n",
    "    try:\n",
    "        # Send a POST request, which means to submit data to a server using the HTTP POST method.\n",
    "        response = se.post(Post_url, data=Post_data)\n",
    "        Text = response.text.replace(\"'\", '\"').replace('/ ', '/')[27:-1]  # Response text.\n",
    "        jsonValue = json.loads(Text)  # Convert it into a JSON object\n",
    "        if 'result' in jsonValue:\n",
    "            # Return a list of latitude and longitude\n",
    "            return [jsonValue['result']['location']['lng'], jsonValue['result']['location']['lat']]\n",
    "        else:\n",
    "            return ['', '']\n",
    "    except Exception as e:\n",
    "        print(f\"Error occurred: {e}\")\n",
    "        return ['', '']  # If an error occurs, return an empty string list.\n"
   ]
  },
  {
   "cell_type": "code",
   "execution_count": null,
   "id": "988de722",
   "metadata": {},
   "outputs": [],
   "source": [
    "# Apply the calc_ll function to the county names\n",
    "address = df['county'].apply(calc_ll)\n",
    "\n",
    "# Add the returned latitude and longitude to the DataFrame\n",
    "df[['longitude', 'latitude']] = pd.DataFrame(address.tolist(), index=df.index)\n",
    "\n",
    "# Save the updated DataFrame to a EXCEL file\n",
    "df.to_xlsx('updated_county.xlsx', index=False,encoding='utf-8-sig')"
   ]
  }
 ],
 "metadata": {
  "kernelspec": {
   "display_name": "Python 3 (ipykernel)",
   "language": "python",
   "name": "python3"
  },
  "language_info": {
   "codemirror_mode": {
    "name": "ipython",
    "version": 3
   },
   "file_extension": ".py",
   "mimetype": "text/x-python",
   "name": "python",
   "nbconvert_exporter": "python",
   "pygments_lexer": "ipython3",
   "version": "3.9.13"
  }
 },
 "nbformat": 4,
 "nbformat_minor": 5
}
