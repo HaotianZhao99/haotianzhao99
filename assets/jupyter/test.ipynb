{
 "cells": [
  {
   "cell_type": "code",
   "execution_count": 7,
   "metadata": {
    "colab": {
     "base_uri": "https://localhost:8080/"
    },
    "id": "oKMqaMNoVsYB",
    "outputId": "5e022799-8c3a-4277-e54b-0473bbf4aad2"
   },
   "outputs": [
    {
     "name": "stdout",
     "output_type": "stream",
     "text": [
      "Consulting the mystical Oracle...\n",
      "Your fortune: \n",
      "Embrace the unknown, for it holds untold wonders.\n"
     ]
    }
   ],
   "source": [
    "import random\n",
    "import time\n",
    "\n",
    "def animate_text(text, delay=0.1):\n",
    "  \"\"\"Animates text by displaying it character by character.\"\"\"\n",
    "  for char in text:\n",
    "    print(char, end='', flush=True)\n",
    "    time.sleep(delay)\n",
    "  print()\n",
    "\n",
    "def tell_fortune():\n",
    "  \"\"\"Tells a whimsical fortune based on a random choice.\"\"\"\n",
    "  fortunes = [\n",
    "      \"A curious bird will guide you to unexpected treasures.\",\n",
    "      \"A hidden path will reveal a secret talent.\",\n",
    "      \"The stars align, promising a journey of discovery.\",\n",
    "      \"Embrace the unknown, for it holds untold wonders.\",\n",
    "      \"A rainbow bridges the gap between dreams and reality.\",\n",
    "      \"Kindness will open doors you never imagined.\",\n",
    "      \"A wise old tree whispers secrets of the universe.\",\n",
    "      \"Laughter will be your compass on the path ahead.\"\n",
    "  ]\n",
    "\n",
    "  animate_text(\"Consulting the mystical Oracle...\", delay=0.05)\n",
    "  time.sleep(1)\n",
    "\n",
    "  fortune = random.choice(fortunes)\n",
    "  animate_text(\"Your fortune: \", delay=0.03)\n",
    "  animate_text(fortune, delay=0.02)\n",
    "\n",
    "\n",
    "if __name__ == \"__main__\":\n",
    "  tell_fortune()"
   ]
  }
 ],
 "metadata": {
  "colab": {
   "provenance": []
  },
  "kernelspec": {
   "display_name": "Python 3 (ipykernel)",
   "language": "python",
   "name": "python3"
  },
  "language_info": {
   "codemirror_mode": {
    "name": "ipython",
    "version": 3
   },
   "file_extension": ".py",
   "mimetype": "text/x-python",
   "name": "python",
   "nbconvert_exporter": "python",
   "pygments_lexer": "ipython3",
   "version": "3.9.13"
  }
 },
 "nbformat": 4,
 "nbformat_minor": 1
}
