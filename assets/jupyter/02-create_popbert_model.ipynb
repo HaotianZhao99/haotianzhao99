{
 "cells": [
  {
   "cell_type": "code",
   "execution_count": 1,
   "id": "QclF3kdDE8Xf",
   "metadata": {
    "colab": {
     "base_uri": "https://localhost:8080/"
    },
    "executionInfo": {
     "elapsed": 45202,
     "status": "ok",
     "timestamp": 1735224306046,
     "user": {
      "displayName": "Peaslee Arnetta",
      "userId": "17047474016460582436"
     },
     "user_tz": -480
    },
    "id": "QclF3kdDE8Xf",
    "outputId": "998aa0d5-73bf-4769-8d52-594d141b6eb8"
   },
   "outputs": [
    {
     "name": "stdout",
     "output_type": "stream",
     "text": [
      "Mounted at /content/drive\n"
     ]
    }
   ],
   "source": [
    "from google.colab import drive\n",
    "drive.mount('/content/drive')\n",
    "\n",
    "\n",
    "import os\n",
    "project_path = \"/content/drive/MyDrive/PopBERT\"\n",
    "os.chdir(project_path)\n",
    "\n",
    "\n",
    "import sys\n",
    "sys.path.append(project_path)"
   ]
  },
  {
   "cell_type": "code",
   "execution_count": 2,
   "id": "e0db552f",
   "metadata": {
    "execution": {
     "iopub.execute_input": "2024-03-27T22:20:59.380565Z",
     "iopub.status.busy": "2024-03-27T22:20:59.380402Z",
     "iopub.status.idle": "2024-03-27T22:21:04.908349Z",
     "shell.execute_reply": "2024-03-27T22:21:04.907573Z"
    },
    "executionInfo": {
     "elapsed": 25572,
     "status": "ok",
     "timestamp": 1735224339483,
     "user": {
      "displayName": "Peaslee Arnetta",
      "userId": "17047474016460582436"
     },
     "user_tz": -480
    },
    "id": "e0db552f",
    "papermill": {
     "duration": 5.5326,
     "end_time": "2024-03-27T22:21:04.909975",
     "exception": false,
     "start_time": "2024-03-27T22:20:59.377375",
     "status": "completed"
    },
    "tags": []
   },
   "outputs": [],
   "source": [
    "import numpy as np\n",
    "import torch\n",
    "from sklearn.metrics import classification_report\n",
    "from torch.utils.data import DataLoader\n",
    "from transformers import AutoModelForSequenceClassification\n",
    "from transformers import AutoTokenizer\n",
    "\n",
    "import src\n",
    "from src.bert import training\n",
    "from src.bert.dataset import PBertDataset\n",
    "from src.bert.dataset.strategies import MLMin1PopIdeol"
   ]
  },
  {
   "cell_type": "code",
   "execution_count": 3,
   "id": "4a3b191f",
   "metadata": {
    "execution": {
     "iopub.execute_input": "2024-03-27T22:21:04.917362Z",
     "iopub.status.busy": "2024-03-27T22:21:04.917047Z",
     "iopub.status.idle": "2024-03-27T22:21:04.921015Z",
     "shell.execute_reply": "2024-03-27T22:21:04.920661Z"
    },
    "executionInfo": {
     "elapsed": 2,
     "status": "ok",
     "timestamp": 1735224344791,
     "user": {
      "displayName": "Peaslee Arnetta",
      "userId": "17047474016460582436"
     },
     "user_tz": -480
    },
    "id": "4a3b191f",
    "papermill": {
     "duration": 0.00812,
     "end_time": "2024-03-27T22:21:04.921898",
     "exception": false,
     "start_time": "2024-03-27T22:21:04.913778",
     "status": "completed"
    },
    "tags": []
   },
   "outputs": [],
   "source": [
    "EXCLUDE_CODERS: list[str] = []\n",
    "DEVICE = \"cuda\" if torch.cuda.is_available() else \"cpu\"\n",
    "\n",
    "MODEL = \"deepset/gbert-large\"   # Pre-trained German BERT model to be used (GBert-large)\n",
    "BATCH_SIZE = 8          # Training batch size\n",
    "N_EPOCHS = 3           # Number of training epochs\n",
    "LR = 0.000009          # Learning rate\n",
    "WEIGHT_DECAY = 0.01       # Weight decay (L2 regularization coefficient)\n",
    "\n",
    "THRESHOLDS = {0: 0.415961, 1: 0.295400, 2: 0.429109, 3: 0.302714}   # Decision thresholds for different categories"
   ]
  },
  {
   "cell_type": "markdown",
   "id": "kz49T0LBF9M1",
   "metadata": {
    "id": "kz49T0LBF9M1"
   },
   "source": [
    "This code defines critical hyperparameters and configurations for model training. It uses a German BERT model with carefully tuned parameters for what appears to be a multi-label classification task.\n",
    "\n",
    "The unique thresholds (all deviating from the default 0.5) reveal a sophisticated optimization approach: high-precision decimals indicate fine-tuned calibration, while varying thresholds across categories reflect class-specific characteristics. Higher thresholds for categories 0 and 2 demand stronger confidence, while lower ones for categories 1 and 3 allow more lenient classification. This precision suggests rigorous testing and optimization tailored to each category's distinct requirements."
   ]
  },
  {
   "cell_type": "code",
   "execution_count": 4,
   "id": "37ed884b",
   "metadata": {
    "execution": {
     "iopub.execute_input": "2024-03-27T22:21:04.925743Z",
     "iopub.status.busy": "2024-03-27T22:21:04.925579Z",
     "iopub.status.idle": "2024-03-27T22:21:05.738031Z",
     "shell.execute_reply": "2024-03-27T22:21:05.737552Z"
    },
    "executionInfo": {
     "elapsed": 4478,
     "status": "ok",
     "timestamp": 1735224353523,
     "user": {
      "displayName": "Peaslee Arnetta",
      "userId": "17047474016460582436"
     },
     "user_tz": -480
    },
    "id": "37ed884b",
    "papermill": {
     "duration": 0.816023,
     "end_time": "2024-03-27T22:21:05.739469",
     "exception": false,
     "start_time": "2024-03-27T22:21:04.923446",
     "status": "completed"
    },
    "tags": []
   },
   "outputs": [],
   "source": [
    "# Load training dataset\n",
    "train = PBertDataset.from_disk(\n",
    "    path=src.PATH / \"data/labeled_data/train.csv.zip\",\n",
    "    label_strategy=MLMin1PopIdeol(),\n",
    "    exclude_coders=EXCLUDE_CODERS,\n",
    ")\n",
    "\n",
    "# Load test dataset\n",
    "test = PBertDataset.from_disk(\n",
    "    path=src.PATH / \"data/labeled_data/test.csv.zip\",\n",
    "    label_strategy=MLMin1PopIdeol(),\n",
    "    exclude_coders=EXCLUDE_CODERS,\n",
    ")"
   ]
  },
  {
   "cell_type": "code",
   "execution_count": 5,
   "id": "ece9d3fd",
   "metadata": {
    "colab": {
     "base_uri": "https://localhost:8080/",
     "height": 237,
     "referenced_widgets": [
      "c641f38589e449329c9b613235307e17",
      "19e37ae58c5b4b68838d1cff24b4fa82",
      "8cd882e90cce4d1daedff71bd88795a3",
      "4f8228469433466fa57fc6a4b739885b",
      "73ce12cb0fc842c9bf6d7c9991a4bc56",
      "64292e7fc3d94367bd061d416ad2f4a4",
      "370125010ab345a497f260dec660d9f3",
      "4b332ebe76bd4a9ab6729c08052fc0f9",
      "9e0879af53a749fca649312fa7c9d917",
      "0799732928f64d14a6c674569181edb8",
      "8a4994f782cd47d19e7fa03f19d7d26d",
      "d3d718a64f2b4e97acce0bb26028cdd2",
      "71c4d258417848428eb2cbc7ebe8d5eb",
      "9f21b38d99ca43f48dd868b2524c31e8",
      "4bc5829a3e0147f088f2e97e1be26c95",
      "d573e75f36154631ac7aa7f60f3e2452",
      "c6d1ce495b6647e086e945fad6495f6f",
      "eaedc46929c74e01b3b1214da4554acf",
      "1e923ef8f0954d54994143ff2ab96503",
      "88ec023e754a4806ac4526bc888db6d1",
      "3af226d99dc84772bc9e73488ff64dc0",
      "0c693b692a5f448f844b90eaea1ab19d",
      "bbc4ae5bf326486d8a02dc2073cd1d31",
      "e0d824c8bd554e93b4ddf3fc9d2cd4e3",
      "c356dcda740c418789303078934711b7",
      "98dd42faaaaa41a78ec297610e4e80cb",
      "55642176566d4db1831bbe2c049d801a",
      "fa68956f29ce414ca233920802c042ec",
      "9d61c9367189481fbffa10252d63aeda",
      "095cc4e941474d24ab677981a21261f9",
      "dfed8222e4fb4251a564207330786d46",
      "0546abe2628046a08715d3a0f1a646b2",
      "ffd78d216ec244ad9a96115e963d841b"
     ]
    },
    "execution": {
     "iopub.execute_input": "2024-03-27T22:21:05.743972Z",
     "iopub.status.busy": "2024-03-27T22:21:05.743792Z",
     "iopub.status.idle": "2024-03-27T22:21:06.069106Z",
     "shell.execute_reply": "2024-03-27T22:21:06.068658Z"
    },
    "executionInfo": {
     "elapsed": 6087,
     "status": "ok",
     "timestamp": 1735224364243,
     "user": {
      "displayName": "Peaslee Arnetta",
      "userId": "17047474016460582436"
     },
     "user_tz": -480
    },
    "id": "ece9d3fd",
    "outputId": "1a5ad35a-329f-4dfe-d364-65a947b2df68",
    "papermill": {
     "duration": 0.329267,
     "end_time": "2024-03-27T22:21:06.070829",
     "exception": false,
     "start_time": "2024-03-27T22:21:05.741562",
     "status": "completed"
    },
    "tags": []
   },
   "outputs": [
    {
     "name": "stderr",
     "output_type": "stream",
     "text": [
      "/usr/local/lib/python3.10/dist-packages/huggingface_hub/utils/_auth.py:94: UserWarning: \n",
      "The secret `HF_TOKEN` does not exist in your Colab secrets.\n",
      "To authenticate with the Hugging Face Hub, create a token in your settings tab (https://huggingface.co/settings/tokens), set it as secret in your Google Colab and restart your session.\n",
      "You will be able to reuse this secret in all of your notebooks.\n",
      "Please note that authentication is recommended but still optional to access public models or datasets.\n",
      "  warnings.warn(\n"
     ]
    },
    {
     "data": {
      "application/vnd.jupyter.widget-view+json": {
       "model_id": "c641f38589e449329c9b613235307e17",
       "version_major": 2,
       "version_minor": 0
      },
      "text/plain": [
       "tokenizer_config.json:   0%|          | 0.00/83.0 [00:00<?, ?B/s]"
      ]
     },
     "metadata": {},
     "output_type": "display_data"
    },
    {
     "data": {
      "application/vnd.jupyter.widget-view+json": {
       "model_id": "d3d718a64f2b4e97acce0bb26028cdd2",
       "version_major": 2,
       "version_minor": 0
      },
      "text/plain": [
       "config.json:   0%|          | 0.00/363 [00:00<?, ?B/s]"
      ]
     },
     "metadata": {},
     "output_type": "display_data"
    },
    {
     "data": {
      "application/vnd.jupyter.widget-view+json": {
       "model_id": "bbc4ae5bf326486d8a02dc2073cd1d31",
       "version_major": 2,
       "version_minor": 0
      },
      "text/plain": [
       "vocab.txt:   0%|          | 0.00/240k [00:00<?, ?B/s]"
      ]
     },
     "metadata": {},
     "output_type": "display_data"
    }
   ],
   "source": [
    "tokenizer = AutoTokenizer.from_pretrained(MODEL)  # Load tokenizer from pre-trained model\n",
    "collate_fn = train.create_collate_fn(tokenizer)   # Create collate function for batch processing\n",
    "\n",
    "train_loader = DataLoader(train, collate_fn=collate_fn, batch_size=BATCH_SIZE, shuffle=True)\n",
    "test_loader = DataLoader(test, collate_fn=collate_fn, batch_size=64, shuffle=False)"
   ]
  },
  {
   "cell_type": "code",
   "execution_count": 6,
   "id": "47c1d390",
   "metadata": {
    "colab": {
     "base_uri": "https://localhost:8080/",
     "height": 104,
     "referenced_widgets": [
      "38f63e1ab81e4de8af1ac0e6dae7ea96",
      "4b00d532b2a643dabaa404c78fae2ac9",
      "ceb7556fe2194a5493e4fb30910456f4",
      "f0e95781e54843ae82cc3c01d1e51d50",
      "e8a0adff71014f14b26d3e9e7bb69530",
      "bdb4087890734d1b8a2c5f58368debec",
      "f99f0b593dcb4a3899605d181b36db9f",
      "5f63fb876f694f98a46e84371bae3342",
      "d7ca5ad3592f4e599bc805212c07e065",
      "033922545a9f4687a6942d1c00535c46",
      "30d4a62369cd4d47a6d2dd9755f29606"
     ]
    },
    "execution": {
     "iopub.execute_input": "2024-03-27T22:21:06.075044Z",
     "iopub.status.busy": "2024-03-27T22:21:06.074882Z",
     "iopub.status.idle": "2024-03-27T22:21:14.420335Z",
     "shell.execute_reply": "2024-03-27T22:21:14.419845Z"
    },
    "executionInfo": {
     "elapsed": 61157,
     "status": "ok",
     "timestamp": 1735224430273,
     "user": {
      "displayName": "Peaslee Arnetta",
      "userId": "17047474016460582436"
     },
     "user_tz": -480
    },
    "id": "47c1d390",
    "outputId": "1547bd21-c2d8-49fb-d1bf-2413c226a1a3",
    "papermill": {
     "duration": 8.349107,
     "end_time": "2024-03-27T22:21:14.421814",
     "exception": false,
     "start_time": "2024-03-27T22:21:06.072707",
     "status": "completed"
    },
    "tags": []
   },
   "outputs": [
    {
     "data": {
      "application/vnd.jupyter.widget-view+json": {
       "model_id": "38f63e1ab81e4de8af1ac0e6dae7ea96",
       "version_major": 2,
       "version_minor": 0
      },
      "text/plain": [
       "model.safetensors:   0%|          | 0.00/1.35G [00:00<?, ?B/s]"
      ]
     },
     "metadata": {},
     "output_type": "display_data"
    },
    {
     "name": "stderr",
     "output_type": "stream",
     "text": [
      "Some weights of BertForSequenceClassification were not initialized from the model checkpoint at deepset/gbert-large and are newly initialized: ['classifier.bias', 'classifier.weight']\n",
      "You should probably TRAIN this model on a down-stream task to be able to use it for predictions and inference.\n"
     ]
    }
   ],
   "source": [
    "model = AutoModelForSequenceClassification.from_pretrained(MODEL, num_labels=train.num_labels).to(\n",
    "    DEVICE\n",
    ")"
   ]
  },
  {
   "cell_type": "markdown",
   "id": "mk62oXw1H6Qc",
   "metadata": {
    "id": "mk62oXw1H6Qc"
   },
   "source": [
    "This code initializes the classification model using the pre-trained GBert-large model. It automatically configures the final classification layer based on the number of labels in the training set and moves the model to the appropriate computing device."
   ]
  },
  {
   "cell_type": "code",
   "execution_count": null,
   "id": "d113b0c6",
   "metadata": {
    "execution": {
     "iopub.execute_input": "2024-03-27T22:21:14.427804Z",
     "iopub.status.busy": "2024-03-27T22:21:14.427602Z",
     "iopub.status.idle": "2024-03-27T22:27:17.765189Z",
     "shell.execute_reply": "2024-03-27T22:27:17.764663Z"
    },
    "id": "d113b0c6",
    "outputId": "5344a769-9b11-4324-c993-871cf016b738",
    "papermill": {
     "duration": 363.34489,
     "end_time": "2024-03-27T22:27:17.770105",
     "exception": false,
     "start_time": "2024-03-27T22:21:14.425215",
     "status": "completed"
    },
    "tags": []
   },
   "outputs": [
    {
     "name": "stdout",
     "output_type": "stream",
     "text": [
      "epoch=1 train_loss=288.6422 eval_loss=7.3731 score=0.6822\n"
     ]
    },
    {
     "name": "stdout",
     "output_type": "stream",
     "text": [
      "epoch=2 train_loss=184.7465 eval_loss=6.7474 score=0.7238\n"
     ]
    },
    {
     "name": "stdout",
     "output_type": "stream",
     "text": [
      "epoch=3 train_loss=128.6823 eval_loss=6.8762 score=0.7074\n"
     ]
    }
   ],
   "source": [
    "# Initialize AdamW optimizer\n",
    "optimizer = torch.optim.AdamW(\n",
    "    model.parameters(),\n",
    "    lr=LR,\n",
    "    amsgrad=False,\n",
    "    weight_decay=WEIGHT_DECAY,\n",
    ")\n",
    "\n",
    "\n",
    "# Initialize cosine annealing learning rate scheduler\n",
    "lr_scheduler = torch.optim.lr_scheduler.CosineAnnealingLR(\n",
    "    optimizer,\n",
    "    T_max=20,\n",
    "    eta_min=LR / 10,  # Minimum learning rate (1/10 of original learning rate)\n",
    ")\n",
    "\n",
    "for epoch in range(1, N_EPOCHS + 1):\n",
    "    train_loss = training.train_epoch(model, train_loader, optimizer, lr_scheduler, clip=5)\n",
    "    eval_loss, score, _ = training.eval_epoch(model, test_loader)\n",
    "    print(f\"{epoch=} {train_loss=:.4f} {eval_loss=:.4f} {score=:.4f}\")"
   ]
  },
  {
   "cell_type": "markdown",
   "id": "GTKWiOtnJY8b",
   "metadata": {
    "id": "GTKWiOtnJY8b"
   },
   "source": [
    "I modified the original code to incorporate Weights & Biases (wandb) for training monitoring and visualization."
   ]
  },
  {
   "cell_type": "code",
   "execution_count": 8,
   "id": "r8BbdL9UT8Lc",
   "metadata": {
    "colab": {
     "base_uri": "https://localhost:8080/"
    },
    "executionInfo": {
     "elapsed": 1130,
     "status": "ok",
     "timestamp": 1735224472723,
     "user": {
      "displayName": "Peaslee Arnetta",
      "userId": "17047474016460582436"
     },
     "user_tz": -480
    },
    "id": "r8BbdL9UT8Lc",
    "outputId": "0c5359d1-10d7-4fa9-bca8-8a868beaf1b8"
   },
   "outputs": [
    {
     "data": {
      "text/plain": [
       "True"
      ]
     },
     "execution_count": 8,
     "metadata": {},
     "output_type": "execute_result"
    }
   ],
   "source": [
    "import wandb\n",
    "from tqdm.notebook import tqdm\n",
    "import time\n",
    "from datetime import datetime, timedelta\n",
    "\n",
    "wandb.login()\n"
   ]
  },
  {
   "cell_type": "code",
   "execution_count": 9,
   "id": "hCILPyVBIYqO",
   "metadata": {
    "colab": {
     "base_uri": "https://localhost:8080/",
     "height": 668,
     "referenced_widgets": [
      "2e57f1bfebfc4e1f92165dd684d7450d",
      "b070eb9dddbc4b29997bbbccf8c53b24",
      "03f4c330b72246879abec966ac424d56",
      "a8792d5ce2d14b16bec217fe48752cfd",
      "417167c433ff4411b54b23cc0a20ab24",
      "52fec95a1f454e8c843a11ca51337c49",
      "79a4a63ab9094968a4f2a1473f8716b6",
      "b8961f3ecfb54842b951ac87971b9a04",
      "216f39a9b9344afe80e85c9e6cf54bc0",
      "8c5e7a49235140aa8dee5268780c7215",
      "fe764f04ea6048d6baccd213be895145",
      "57251e7442804b838989470149844616",
      "d2514ef3c1f44cefbe60e9bf240eed15",
      "2c7e07d2446944548fa1064885f499fa",
      "b765ec6c52b04d8b848a871250591381",
      "6ed271e9a8f84a5e9f77fd2395e9e1b6",
      "d05675abf7654c5fb16d156b73c3eceb",
      "434d919cc49640bba10730e1eedd0fbf",
      "7da164a3b70f41acbe11ae4f983c819d",
      "ecd384bf51a24456895a0a150879a2f3",
      "f4e9e41e48ac4e728998028cae8aec03",
      "e2003af57c2c4493aea18a68bc48888c",
      "648e084564e4415186186436c22824ce",
      "f0fc456e6dcf44faa9bc73c6eb31908e",
      "fefd4f79f7e54e6f949e739083e96d0f",
      "fb5844bf05764f0684392d6419dc8404",
      "d15f736bdd284a7b96dd3c628c90b1b1",
      "2b2bf52aee06420cb8d7e0da4c567fef",
      "40a91f301dd74e8daa3b78c8114bfd30",
      "e9aef5d0975b4b72b106317bd2f4fe77",
      "b1666091dea34d4cba701e04bb988aca",
      "a35453c9d69448c9899896c9239311b8",
      "f9fc2759ee0945ab91f112c55f16751f",
      "61f5f2a966e84095be7a294102c936f1",
      "bcce39d7173143179a48aad8a0155c0a",
      "1af7357e33294260b1c0aa38a29672b6",
      "6498db3bfe334232804746beba248639",
      "de88adea80f34889a2411a79bf2351cb",
      "bfba8e9ca75d40239249b2f5f715befc",
      "950da84beed249288428546ceeee7cf1",
      "950b8556729743768872214e7936265e",
      "97329f2359134948a4cf76c8436127e8",
      "7c05b5143857471884f4b7ffa8a04ede",
      "69b3a6c710ad43f4abb6c8c92c2b721b"
     ]
    },
    "executionInfo": {
     "elapsed": 315132,
     "status": "ok",
     "timestamp": 1735224799491,
     "user": {
      "displayName": "Peaslee Arnetta",
      "userId": "17047474016460582436"
     },
     "user_tz": -480
    },
    "id": "hCILPyVBIYqO",
    "outputId": "eab7d2f2-8bf4-48d7-e574-b1baa498795c"
   },
   "outputs": [
    {
     "data": {
      "text/html": [
       "Tracking run with wandb version 0.19.1"
      ],
      "text/plain": [
       "<IPython.core.display.HTML object>"
      ]
     },
     "metadata": {},
     "output_type": "display_data"
    },
    {
     "data": {
      "text/html": [
       "Run data is saved locally in <code>/content/drive/MyDrive/PopBERT/wandb/run-20241226_144800-4ir0oc64</code>"
      ],
      "text/plain": [
       "<IPython.core.display.HTML object>"
      ]
     },
     "metadata": {},
     "output_type": "display_data"
    },
    {
     "data": {
      "text/html": [
       "Syncing run <strong><a href='https://wandb.ai/zhaohaotian99-huazhong-university-of-science-and-technology/bert-populism-classification/runs/4ir0oc64' target=\"_blank\">visionary-sky-4</a></strong> to <a href='https://wandb.ai/zhaohaotian99-huazhong-university-of-science-and-technology/bert-populism-classification' target=\"_blank\">Weights & Biases</a> (<a href='https://wandb.me/developer-guide' target=\"_blank\">docs</a>)<br>"
      ],
      "text/plain": [
       "<IPython.core.display.HTML object>"
      ]
     },
     "metadata": {},
     "output_type": "display_data"
    },
    {
     "data": {
      "text/html": [
       " View project at <a href='https://wandb.ai/zhaohaotian99-huazhong-university-of-science-and-technology/bert-populism-classification' target=\"_blank\">https://wandb.ai/zhaohaotian99-huazhong-university-of-science-and-technology/bert-populism-classification</a>"
      ],
      "text/plain": [
       "<IPython.core.display.HTML object>"
      ]
     },
     "metadata": {},
     "output_type": "display_data"
    },
    {
     "data": {
      "text/html": [
       " View run at <a href='https://wandb.ai/zhaohaotian99-huazhong-university-of-science-and-technology/bert-populism-classification/runs/4ir0oc64' target=\"_blank\">https://wandb.ai/zhaohaotian99-huazhong-university-of-science-and-technology/bert-populism-classification/runs/4ir0oc64</a>"
      ],
      "text/plain": [
       "<IPython.core.display.HTML object>"
      ]
     },
     "metadata": {},
     "output_type": "display_data"
    },
    {
     "data": {
      "application/vnd.jupyter.widget-view+json": {
       "model_id": "2e57f1bfebfc4e1f92165dd684d7450d",
       "version_major": 2,
       "version_minor": 0
      },
      "text/plain": [
       "Training Progress:   0%|          | 0/3 [00:00<?, ?it/s]"
      ]
     },
     "metadata": {},
     "output_type": "display_data"
    },
    {
     "data": {
      "application/vnd.jupyter.widget-view+json": {
       "model_id": "57251e7442804b838989470149844616",
       "version_major": 2,
       "version_minor": 0
      },
      "text/plain": [
       "Epoch 1/3:   0%|          | 0/880 [00:00<?, ?it/s]"
      ]
     },
     "metadata": {},
     "output_type": "display_data"
    },
    {
     "data": {
      "application/vnd.jupyter.widget-view+json": {
       "model_id": "648e084564e4415186186436c22824ce",
       "version_major": 2,
       "version_minor": 0
      },
      "text/plain": [
       "Epoch 2/3:   0%|          | 0/880 [00:00<?, ?it/s]"
      ]
     },
     "metadata": {},
     "output_type": "display_data"
    },
    {
     "data": {
      "application/vnd.jupyter.widget-view+json": {
       "model_id": "61f5f2a966e84095be7a294102c936f1",
       "version_major": 2,
       "version_minor": 0
      },
      "text/plain": [
       "Epoch 3/3:   0%|          | 0/880 [00:00<?, ?it/s]"
      ]
     },
     "metadata": {},
     "output_type": "display_data"
    },
    {
     "data": {
      "text/html": [],
      "text/plain": [
       "<IPython.core.display.HTML object>"
      ]
     },
     "metadata": {},
     "output_type": "display_data"
    },
    {
     "data": {
      "text/html": [
       "<br>    <style><br>        .wandb-row {<br>            display: flex;<br>            flex-direction: row;<br>            flex-wrap: wrap;<br>            justify-content: flex-start;<br>            width: 100%;<br>        }<br>        .wandb-col {<br>            display: flex;<br>            flex-direction: column;<br>            flex-basis: 100%;<br>            flex: 1;<br>            padding: 10px;<br>        }<br>    </style><br><div class=\"wandb-row\"><div class=\"wandb-col\"><h3>Run history:</h3><br/><table class=\"wandb\"><tr><td>epoch</td><td>▁▅█</td></tr><tr><td>epoch_time</td><td>█▁▁</td></tr><tr><td>eval_loss</td><td>█▁▇</td></tr><tr><td>f1_score</td><td>▁▆█</td></tr><tr><td>learning_rate</td><td>▁▁▁</td></tr><tr><td>train_loss</td><td>█▄▁</td></tr></table><br/></div><div class=\"wandb-col\"><h3>Run summary:</h3><br/><table class=\"wandb\"><tr><td>epoch</td><td>3</td></tr><tr><td>epoch_time</td><td>98.8881</td></tr><tr><td>eval_loss</td><td>6.97463</td></tr><tr><td>f1_score</td><td>0.73002</td></tr><tr><td>learning_rate</td><td>1e-05</td></tr><tr><td>train_loss</td><td>125.98259</td></tr></table><br/></div></div>"
      ],
      "text/plain": [
       "<IPython.core.display.HTML object>"
      ]
     },
     "metadata": {},
     "output_type": "display_data"
    },
    {
     "data": {
      "text/html": [
       " View run <strong style=\"color:#cdcd00\">visionary-sky-4</strong> at: <a href='https://wandb.ai/zhaohaotian99-huazhong-university-of-science-and-technology/bert-populism-classification/runs/4ir0oc64' target=\"_blank\">https://wandb.ai/zhaohaotian99-huazhong-university-of-science-and-technology/bert-populism-classification/runs/4ir0oc64</a><br> View project at: <a href='https://wandb.ai/zhaohaotian99-huazhong-university-of-science-and-technology/bert-populism-classification' target=\"_blank\">https://wandb.ai/zhaohaotian99-huazhong-university-of-science-and-technology/bert-populism-classification</a><br>Synced 5 W&B file(s), 0 media file(s), 0 artifact file(s) and 0 other file(s)"
      ],
      "text/plain": [
       "<IPython.core.display.HTML object>"
      ]
     },
     "metadata": {},
     "output_type": "display_data"
    },
    {
     "data": {
      "text/html": [
       "Find logs at: <code>./wandb/run-20241226_144800-4ir0oc64/logs</code>"
      ],
      "text/plain": [
       "<IPython.core.display.HTML object>"
      ]
     },
     "metadata": {},
     "output_type": "display_data"
    }
   ],
   "source": [
    "# Initialize wandb\n",
    "wandb.init(\n",
    "    project=\"bert-populism-classification\",\n",
    "    config={\n",
    "        \"model\": MODEL,\n",
    "        \"batch_size\": BATCH_SIZE,\n",
    "        \"learning_rate\": LR,\n",
    "        \"epochs\": N_EPOCHS,\n",
    "        \"weight_decay\": WEIGHT_DECAY\n",
    "    }\n",
    ")\n",
    "\n",
    "# Calculate total steps for estimating remaining time\n",
    "total_steps = N_EPOCHS * len(train_loader)\n",
    "current_step = 0\n",
    "start_time = time.time()\n",
    "\n",
    "# Create progress bar for epochs\n",
    "epoch_pbar = tqdm(range(1, N_EPOCHS + 1), desc='Training Progress', position=0)\n",
    "\n",
    "\n",
    "# Initialize AdamW optimizer\n",
    "optimizer = torch.optim.AdamW(\n",
    "    model.parameters(),\n",
    "    lr=LR,\n",
    "    amsgrad=False,\n",
    "    weight_decay=WEIGHT_DECAY,\n",
    ")\n",
    "\n",
    "\n",
    "# Initialize cosine annealing learning rate scheduler\n",
    "lr_scheduler = torch.optim.lr_scheduler.CosineAnnealingLR(\n",
    "    optimizer,\n",
    "    T_max=20,\n",
    "    eta_min=LR / 10,\n",
    ")\n",
    "\n",
    "\n",
    "for epoch in epoch_pbar:\n",
    "    # Record the start time of each epoch\n",
    "    epoch_start = time.time()\n",
    "\n",
    "    # Training phase\n",
    "    train_loss = 0.0\n",
    "    model.train()\n",
    "\n",
    "    # Create progress bar for batches\n",
    "    batch_pbar = tqdm(train_loader, desc=f'Epoch {epoch}/{N_EPOCHS}',\n",
    "                     position=1, leave=False)\n",
    "\n",
    "    for batch in batch_pbar:\n",
    "        # Perform training step\n",
    "        train_batch_loss = training.train_epoch(model, [batch], optimizer, lr_scheduler, clip=5)\n",
    "        train_loss += train_batch_loss\n",
    "\n",
    "        # Update step count and estimate remaining time\n",
    "        current_step += 1\n",
    "        elapsed_time = time.time() - start_time\n",
    "        steps_per_sec = current_step / elapsed_time\n",
    "        remaining_steps = total_steps - current_step\n",
    "        eta_seconds = remaining_steps / steps_per_sec\n",
    "        eta = str(timedelta(seconds=int(eta_seconds)))\n",
    "\n",
    "        # Update batch progress bar\n",
    "        batch_pbar.set_postfix({\n",
    "            'loss': f'{train_batch_loss:.4f}',\n",
    "            'lr': f'{lr_scheduler.get_last_lr()[0]:.2e}',\n",
    "            'ETA': eta\n",
    "        })\n",
    "\n",
    "    # Evaluation phase\n",
    "    eval_loss, score, _ = training.eval_epoch(model, test_loader)\n",
    "\n",
    "    # Calculate time spent for the epoch\n",
    "    epoch_time = time.time() - epoch_start\n",
    "\n",
    "    # Update epoch progress bar\n",
    "    epoch_pbar.set_postfix({\n",
    "        'train_loss': f'{train_loss:.4f}',\n",
    "        'eval_loss': f'{eval_loss:.4f}',\n",
    "        'f1_score': f'{score:.4f}',\n",
    "        'epoch_time': f'{epoch_time:.1f}s'\n",
    "    })\n",
    "\n",
    "    # Log metrics to wandb\n",
    "    wandb.log({\n",
    "        \"epoch\": epoch,\n",
    "        \"train_loss\": train_loss,\n",
    "        \"eval_loss\": eval_loss,\n",
    "        \"f1_score\": score,\n",
    "        \"learning_rate\": lr_scheduler.get_last_lr()[0],\n",
    "        \"epoch_time\": epoch_time\n",
    "    })\n",
    "\n",
    "# Close wandb after training is complete\n",
    "wandb.finish()"
   ]
  },
  {
   "cell_type": "markdown",
   "id": "GnsHhAxdeESH",
   "metadata": {
    "id": "GnsHhAxdeESH"
   },
   "source": [
    "Training loss decreased significantly over the epochs, demonstrating that the model successfully learned from the data.\n",
    "\n",
    "The F1 score improved across epochs, reaching 0.73 at the end, indicating good classification performance.\n",
    "However, the evaluation loss slightly increased in the last epoch, which might suggest minor overfitting.\n",
    "\n"
   ]
  },
  {
   "cell_type": "code",
   "execution_count": 12,
   "id": "mUh3D8cgfh07",
   "metadata": {
    "colab": {
     "base_uri": "https://localhost:8080/",
     "height": 98,
     "referenced_widgets": [
      "302e80ebe2c2435d807be5d24d81e700",
      "ecc246071eae4e9b9d05d1611d4c1d0e",
      "225904fb9c524e9bbd160fe2b3490d68",
      "28a3fa6f8d1a476599ef14f951c89c7f",
      "9dd0696ad94b4c4d8a9244bf236272b4",
      "ffa5f6aa460b4cecaedb6217d3fb49a2",
      "f8a4c9a526a34e80838968391003e6ba",
      "558c9d730ed844bc9a6a37f5a29b1705",
      "ca63c466113b4a2aa73bc7756ff55e4c",
      "448b030d280647ee8d3762224a3c2711",
      "db2e63ea60d94c58931743695b3414f7",
      "64a21f16a3c8473c8a7e7cff73b48a14",
      "14a0aa5cd1284747a3e220deb5d7a288",
      "c59e920e94b5403a8c129e1142da4594",
      "ad4460230d494cbfbc9c6e225d85f096",
      "36397a63dba0438a93edd842a7fc4b0c",
      "481e2efc7f2046cca230c0a24ce3f61c",
      "3be0002f289140aa8ba8e90fa7998bbe",
      "a5eb732983984c548594dec9e30b0def",
      "c1fb9e161a184d77888a11e7f7cfca22",
      "e6289a363ca940749c3c8f5f11348217",
      "0e3ab7d02bf14187bbdfb753ffc4f719"
     ]
    },
    "executionInfo": {
     "elapsed": 81504,
     "status": "ok",
     "timestamp": 1735226308847,
     "user": {
      "displayName": "Peaslee Arnetta",
      "userId": "17047474016460582436"
     },
     "user_tz": -480
    },
    "id": "mUh3D8cgfh07",
    "outputId": "24b96be9-2bd2-4120-81b1-1fe8897c1c66"
   },
   "outputs": [
    {
     "data": {
      "application/vnd.jupyter.widget-view+json": {
       "model_id": "302e80ebe2c2435d807be5d24d81e700",
       "version_major": 2,
       "version_minor": 0
      },
      "text/plain": [
       "model.safetensors:   0%|          | 0.00/1.34G [00:00<?, ?B/s]"
      ]
     },
     "metadata": {},
     "output_type": "display_data"
    },
    {
     "data": {
      "application/vnd.jupyter.widget-view+json": {
       "model_id": "64a21f16a3c8473c8a7e7cff73b48a14",
       "version_major": 2,
       "version_minor": 0
      },
      "text/plain": [
       "README.md:   0%|          | 0.00/5.17k [00:00<?, ?B/s]"
      ]
     },
     "metadata": {},
     "output_type": "display_data"
    },
    {
     "name": "stdout",
     "output_type": "stream",
     "text": [
      "Model successfully uploaded to Hugging Face Hub\n"
     ]
    }
   ],
   "source": [
    "# Push model and tokenizer to Hugging Face\n",
    "from huggingface_hub import HfFolder\n",
    "\n",
    "HfFolder.save_token(\"your_token\")\n",
    "\n",
    "hf_repo_name = \"BarryzZ/bert-populism-classification\"\n",
    "\n",
    "\n",
    "model.push_to_hub(hf_repo_name)\n",
    "tokenizer.push_to_hub(hf_repo_name)\n",
    "\n",
    "print(f\"Model successfully uploaded to Hugging Face Hub\")\n"
   ]
  },
  {
   "cell_type": "code",
   "execution_count": 10,
   "id": "bfb649c3",
   "metadata": {
    "execution": {
     "iopub.execute_input": "2024-03-27T22:27:17.776352Z",
     "iopub.status.busy": "2024-03-27T22:27:17.776167Z",
     "iopub.status.idle": "2024-03-27T22:27:17.779591Z",
     "shell.execute_reply": "2024-03-27T22:27:17.779252Z"
    },
    "executionInfo": {
     "elapsed": 1089,
     "status": "ok",
     "timestamp": 1735225114474,
     "user": {
      "displayName": "Peaslee Arnetta",
      "userId": "17047474016460582436"
     },
     "user_tz": -480
    },
    "id": "bfb649c3",
    "papermill": {
     "duration": 0.006941,
     "end_time": "2024-03-27T22:27:17.780482",
     "exception": false,
     "start_time": "2024-03-27T22:27:17.773541",
     "status": "completed"
    },
    "tags": []
   },
   "outputs": [],
   "source": [
    "def apply_thresh(y_proba, thresholds: dict):\n",
    "    y_proba = y_proba.copy()\n",
    "    for dim, thresh in thresholds.items():\n",
    "        y_proba[:, dim] = np.where(y_proba[:, dim] > thresh, 1, 0)\n",
    "    return y_proba"
   ]
  },
  {
   "cell_type": "markdown",
   "id": "3tWYnodYedsW",
   "metadata": {
    "id": "3tWYnodYedsW"
   },
   "source": [
    "This function, apply_thresh, adjusts probabilities in a multi-dimensional array to binary values (0 or 1) based on specified thresholds for each dimension."
   ]
  },
  {
   "cell_type": "code",
   "execution_count": 14,
   "id": "f7abe271",
   "metadata": {
    "execution": {
     "iopub.execute_input": "2024-03-27T22:27:17.784717Z",
     "iopub.status.busy": "2024-03-27T22:27:17.784396Z",
     "iopub.status.idle": "2024-03-27T22:27:24.223483Z",
     "shell.execute_reply": "2024-03-27T22:27:24.223090Z"
    },
    "executionInfo": {
     "elapsed": 6758,
     "status": "ok",
     "timestamp": 1735226647257,
     "user": {
      "displayName": "Peaslee Arnetta",
      "userId": "17047474016460582436"
     },
     "user_tz": -480
    },
    "id": "f7abe271",
    "papermill": {
     "duration": 6.442551,
     "end_time": "2024-03-27T22:27:24.224797",
     "exception": false,
     "start_time": "2024-03-27T22:27:17.782246",
     "status": "completed"
    },
    "tags": []
   },
   "outputs": [],
   "source": [
    "with torch.inference_mode():                      #torch.inference_mode() is a context manager provided by PyTorch that disables gradient calculation during inference. This means the model will not compute and store gradients, saving memory and speeding up the inference process.\n",
    "    y_true = []\n",
    "    y_pred = []\n",
    "    for batch in test_loader:\n",
    "        encodings = batch[\"encodings\"]\n",
    "        encodings = encodings.to(DEVICE)\n",
    "        labels = batch[\"labels\"].to(DEVICE)\n",
    "        out = model(**encodings)               #The model makes predictions using the input encodings. **encodings unpacks the dictionary into keyword arguments.\n",
    "        preds = torch.nn.functional.sigmoid(out.logits)\n",
    "        y_true.extend(batch[\"labels\"].numpy())\n",
    "        y_pred.extend(preds.cpu().numpy())\n",
    "    y_pred_05 = np.where(np.array(y_pred) > 0.5, 1, 0)    #Apply a threshold of 0.5 to the predicted probabilities\n",
    "    y_pred_thresh = apply_thresh(np.array(y_pred), THRESHOLDS)  #Apply a custom threshold function\n",
    "    y_true = np.array(y_true)"
   ]
  },
  {
   "cell_type": "markdown",
   "id": "Rq5KfWLJjSWO",
   "metadata": {
    "id": "Rq5KfWLJjSWO"
   },
   "source": [
    "This code performs predictions using the trained model on the test set, collects the true and predicted values, and then applies thresholds (0.5 or custom) to convert the predicted probabilities into binary class labels."
   ]
  },
  {
   "cell_type": "code",
   "execution_count": null,
   "id": "d70900c0",
   "metadata": {
    "execution": {
     "iopub.execute_input": "2024-03-27T22:27:24.232318Z",
     "iopub.status.busy": "2024-03-27T22:27:24.232178Z",
     "iopub.status.idle": "2024-03-27T22:27:24.242813Z",
     "shell.execute_reply": "2024-03-27T22:27:24.242482Z"
    },
    "id": "d70900c0",
    "outputId": "ac9f9299-213e-48b4-eea0-92b4112c34f3",
    "papermill": {
     "duration": 0.013886,
     "end_time": "2024-03-27T22:27:24.243709",
     "exception": false,
     "start_time": "2024-03-27T22:27:24.229823",
     "status": "completed"
    },
    "tags": []
   },
   "outputs": [
    {
     "name": "stdout",
     "output_type": "stream",
     "text": [
      "              precision    recall  f1-score   support\n",
      "\n",
      "       elite       0.85      0.84      0.85       648\n",
      "    pplcentr       0.71      0.62      0.66       322\n",
      "        left       0.71      0.71      0.71       279\n",
      "       right       0.82      0.48      0.61       155\n",
      "\n",
      "   micro avg       0.79      0.73      0.76      1404\n",
      "   macro avg       0.77      0.66      0.71      1404\n",
      "weighted avg       0.79      0.73      0.75      1404\n",
      " samples avg       0.38      0.37      0.36      1404\n",
      "\n"
     ]
    }
   ],
   "source": [
    "print(\n",
    "    classification_report(\n",
    "        y_true,\n",
    "        y_pred_05,\n",
    "        target_names=[\"elite\", \"pplcentr\", \"left\", \"right\"],\n",
    "        zero_division=0,\n",
    "    )\n",
    ")"
   ]
  },
  {
   "cell_type": "code",
   "execution_count": null,
   "id": "f8fe7777",
   "metadata": {
    "execution": {
     "iopub.execute_input": "2024-03-27T22:27:24.248309Z",
     "iopub.status.busy": "2024-03-27T22:27:24.247829Z",
     "iopub.status.idle": "2024-03-27T22:27:24.258318Z",
     "shell.execute_reply": "2024-03-27T22:27:24.257983Z"
    },
    "id": "f8fe7777",
    "outputId": "8aa41691-3ad3-44e9-cab1-08d9c44aca72",
    "papermill": {
     "duration": 0.013612,
     "end_time": "2024-03-27T22:27:24.259216",
     "exception": false,
     "start_time": "2024-03-27T22:27:24.245604",
     "status": "completed"
    },
    "tags": []
   },
   "outputs": [
    {
     "name": "stdout",
     "output_type": "stream",
     "text": [
      "              precision    recall  f1-score   support\n",
      "\n",
      "       elite       0.85      0.86      0.85       648\n",
      "    pplcentr       0.65      0.71      0.68       322\n",
      "        left       0.70      0.73      0.71       279\n",
      "       right       0.76      0.58      0.66       155\n",
      "\n",
      "   micro avg       0.76      0.77      0.76      1404\n",
      "   macro avg       0.74      0.72      0.73      1404\n",
      "weighted avg       0.76      0.77      0.76      1404\n",
      " samples avg       0.39      0.39      0.38      1404\n",
      "\n"
     ]
    }
   ],
   "source": [
    "print(\n",
    "    classification_report(\n",
    "        y_true,\n",
    "        y_pred_thresh,\n",
    "        target_names=[\"elite\", \"pplcentr\", \"left\", \"right\"],\n",
    "        zero_division=0,\n",
    "    )\n",
    ")"
   ]
  },
  {
   "cell_type": "markdown",
   "id": "C9wgJAINmLZT",
   "metadata": {
    "id": "C9wgJAINmLZT"
   },
   "source": [
    "Report a default 0.5 threshold and a custom threshold\n",
    "- elite: Slight improvement in recall (0.86) with unchanged F1 (0.85).\n",
    "- pplcentr: Precision drops (0.65), but recall increases (0.71), improving F1 (0.68).\n",
    "- left: Improved recall (0.73) and F1 (0.71)\n",
    "- right: Precision (0.76) and recall (0.58) improve, leading to a higher F1\n",
    "\n",
    "The custom threshold improves recall and F1 scores for some classes, especially pplcentr and left. The default 0.5 threshold in y_pred_05 misses some true positives, while the custom thresholds in y_pred_thresh improve recall and F1, particularly for pplcentr and left.\n",
    "\n"
   ]
  },
  {
   "cell_type": "markdown",
   "id": "-kBVEATgkl-E",
   "metadata": {
    "id": "-kBVEATgkl-E"
   },
   "source": [
    "The result above is the original one, and the one below is the result I reproduced."
   ]
  },
  {
   "cell_type": "code",
   "execution_count": 15,
   "id": "AbAssix0kXxV",
   "metadata": {
    "colab": {
     "base_uri": "https://localhost:8080/"
    },
    "executionInfo": {
     "elapsed": 839,
     "status": "ok",
     "timestamp": 1735226658784,
     "user": {
      "displayName": "Peaslee Arnetta",
      "userId": "17047474016460582436"
     },
     "user_tz": -480
    },
    "id": "AbAssix0kXxV",
    "outputId": "1409ef56-238c-4024-dc0b-f15c4367f28e"
   },
   "outputs": [
    {
     "name": "stdout",
     "output_type": "stream",
     "text": [
      "              precision    recall  f1-score   support\n",
      "\n",
      "       elite       0.81      0.89      0.85       648\n",
      "    pplcentr       0.70      0.69      0.70       322\n",
      "        left       0.69      0.77      0.73       279\n",
      "       right       0.79      0.55      0.65       155\n",
      "\n",
      "   micro avg       0.76      0.78      0.77      1404\n",
      "   macro avg       0.75      0.72      0.73      1404\n",
      "weighted avg       0.76      0.78      0.77      1404\n",
      " samples avg       0.40      0.39      0.39      1404\n",
      "\n"
     ]
    }
   ],
   "source": [
    "print(\n",
    "    classification_report(\n",
    "        y_true,\n",
    "        y_pred_05,\n",
    "        target_names=[\"elite\", \"pplcentr\", \"left\", \"right\"],\n",
    "        zero_division=0,\n",
    "    )\n",
    ")"
   ]
  },
  {
   "cell_type": "code",
   "execution_count": 16,
   "id": "XpA0f0jVlYm_",
   "metadata": {
    "colab": {
     "base_uri": "https://localhost:8080/"
    },
    "executionInfo": {
     "elapsed": 688,
     "status": "ok",
     "timestamp": 1735226924772,
     "user": {
      "displayName": "Peaslee Arnetta",
      "userId": "17047474016460582436"
     },
     "user_tz": -480
    },
    "id": "XpA0f0jVlYm_",
    "outputId": "2fe80911-5c9c-48de-e50d-c622b478aecf"
   },
   "outputs": [
    {
     "name": "stdout",
     "output_type": "stream",
     "text": [
      "              precision    recall  f1-score   support\n",
      "\n",
      "       elite       0.80      0.89      0.84       648\n",
      "    pplcentr       0.66      0.75      0.70       322\n",
      "        left       0.68      0.79      0.73       279\n",
      "       right       0.68      0.68      0.68       155\n",
      "\n",
      "   micro avg       0.73      0.82      0.77      1404\n",
      "   macro avg       0.71      0.78      0.74      1404\n",
      "weighted avg       0.73      0.82      0.77      1404\n",
      " samples avg       0.40      0.41      0.40      1404\n",
      "\n"
     ]
    }
   ],
   "source": [
    "print(\n",
    "    classification_report(\n",
    "        y_true,\n",
    "        y_pred_thresh,\n",
    "        target_names=[\"elite\", \"pplcentr\", \"left\", \"right\"],\n",
    "        zero_division=0,\n",
    "    )\n",
    ")"
   ]
  },
  {
   "cell_type": "code",
   "execution_count": null,
   "id": "ba7eab9e",
   "metadata": {
    "execution": {
     "iopub.execute_input": "2024-03-27T22:27:24.263813Z",
     "iopub.status.busy": "2024-03-27T22:27:24.263439Z",
     "iopub.status.idle": "2024-03-27T22:27:28.496155Z",
     "shell.execute_reply": "2024-03-27T22:27:28.495655Z"
    },
    "id": "ba7eab9e",
    "papermill": {
     "duration": 4.236533,
     "end_time": "2024-03-27T22:27:28.497682",
     "exception": false,
     "start_time": "2024-03-27T22:27:24.261149",
     "status": "completed"
    },
    "tags": []
   },
   "outputs": [],
   "source": [
    "model.save_pretrained(src.PATH / \"results/popbert_model\")"
   ]
  }
 ],
 "metadata": {
  "accelerator": "GPU",
  "colab": {
   "gpuType": "A100",
   "machine_shape": "hm",
   "provenance": []
  },
  "kernelspec": {
   "display_name": "Python 3",
   "name": "python3"
  },
  "language_info": {
   "codemirror_mode": {
    "name": "ipython",
    "version": 3
   },
   "file_extension": ".py",
   "mimetype": "text/x-python",
   "name": "python",
   "nbconvert_exporter": "python",
   "pygments_lexer": "ipython3",
   "version": "3.9.18"
  },
  "papermill": {
   "default_parameters": {},
   "duration": 394.017843,
   "end_time": "2024-03-27T22:27:31.019178",
   "environment_variables": {},
   "exception": null,
   "input_path": "code/02-create_gbert_model.ipynb",
   "output_path": "code/02-create_gbert_model.ipynb",
   "parameters": {},
   "start_time": "2024-03-27T22:20:57.001335",
   "version": "2.5.0"
  },
  "widgets": {
   "application/vnd.jupyter.widget-state+json": {
    "033922545a9f4687a6942d1c00535c46": {
     "model_module": "@jupyter-widgets/base",
     "model_module_version": "1.2.0",
     "model_name": "LayoutModel",
     "state": {
      "_model_module": "@jupyter-widgets/base",
      "_model_module_version": "1.2.0",
      "_model_name": "LayoutModel",
      "_view_count": null,
      "_view_module": "@jupyter-widgets/base",
      "_view_module_version": "1.2.0",
      "_view_name": "LayoutView",
      "align_content": null,
      "align_items": null,
      "align_self": null,
      "border": null,
      "bottom": null,
      "display": null,
      "flex": null,
      "flex_flow": null,
      "grid_area": null,
      "grid_auto_columns": null,
      "grid_auto_flow": null,
      "grid_auto_rows": null,
      "grid_column": null,
      "grid_gap": null,
      "grid_row": null,
      "grid_template_areas": null,
      "grid_template_columns": null,
      "grid_template_rows": null,
      "height": null,
      "justify_content": null,
      "justify_items": null,
      "left": null,
      "margin": null,
      "max_height": null,
      "max_width": null,
      "min_height": null,
      "min_width": null,
      "object_fit": null,
      "object_position": null,
      "order": null,
      "overflow": null,
      "overflow_x": null,
      "overflow_y": null,
      "padding": null,
      "right": null,
      "top": null,
      "visibility": null,
      "width": null
     }
    },
    "03f4c330b72246879abec966ac424d56": {
     "model_module": "@jupyter-widgets/controls",
     "model_module_version": "1.5.0",
     "model_name": "FloatProgressModel",
     "state": {
      "_dom_classes": [],
      "_model_module": "@jupyter-widgets/controls",
      "_model_module_version": "1.5.0",
      "_model_name": "FloatProgressModel",
      "_view_count": null,
      "_view_module": "@jupyter-widgets/controls",
      "_view_module_version": "1.5.0",
      "_view_name": "ProgressView",
      "bar_style": "success",
      "description": "",
      "description_tooltip": null,
      "layout": "IPY_MODEL_b8961f3ecfb54842b951ac87971b9a04",
      "max": 3,
      "min": 0,
      "orientation": "horizontal",
      "style": "IPY_MODEL_216f39a9b9344afe80e85c9e6cf54bc0",
      "value": 3
     }
    },
    "0546abe2628046a08715d3a0f1a646b2": {
     "model_module": "@jupyter-widgets/base",
     "model_module_version": "1.2.0",
     "model_name": "LayoutModel",
     "state": {
      "_model_module": "@jupyter-widgets/base",
      "_model_module_version": "1.2.0",
      "_model_name": "LayoutModel",
      "_view_count": null,
      "_view_module": "@jupyter-widgets/base",
      "_view_module_version": "1.2.0",
      "_view_name": "LayoutView",
      "align_content": null,
      "align_items": null,
      "align_self": null,
      "border": null,
      "bottom": null,
      "display": null,
      "flex": null,
      "flex_flow": null,
      "grid_area": null,
      "grid_auto_columns": null,
      "grid_auto_flow": null,
      "grid_auto_rows": null,
      "grid_column": null,
      "grid_gap": null,
      "grid_row": null,
      "grid_template_areas": null,
      "grid_template_columns": null,
      "grid_template_rows": null,
      "height": null,
      "justify_content": null,
      "justify_items": null,
      "left": null,
      "margin": null,
      "max_height": null,
      "max_width": null,
      "min_height": null,
      "min_width": null,
      "object_fit": null,
      "object_position": null,
      "order": null,
      "overflow": null,
      "overflow_x": null,
      "overflow_y": null,
      "padding": null,
      "right": null,
      "top": null,
      "visibility": null,
      "width": null
     }
    },
    "0799732928f64d14a6c674569181edb8": {
     "model_module": "@jupyter-widgets/base",
     "model_module_version": "1.2.0",
     "model_name": "LayoutModel",
     "state": {
      "_model_module": "@jupyter-widgets/base",
      "_model_module_version": "1.2.0",
      "_model_name": "LayoutModel",
      "_view_count": null,
      "_view_module": "@jupyter-widgets/base",
      "_view_module_version": "1.2.0",
      "_view_name": "LayoutView",
      "align_content": null,
      "align_items": null,
      "align_self": null,
      "border": null,
      "bottom": null,
      "display": null,
      "flex": null,
      "flex_flow": null,
      "grid_area": null,
      "grid_auto_columns": null,
      "grid_auto_flow": null,
      "grid_auto_rows": null,
      "grid_column": null,
      "grid_gap": null,
      "grid_row": null,
      "grid_template_areas": null,
      "grid_template_columns": null,
      "grid_template_rows": null,
      "height": null,
      "justify_content": null,
      "justify_items": null,
      "left": null,
      "margin": null,
      "max_height": null,
      "max_width": null,
      "min_height": null,
      "min_width": null,
      "object_fit": null,
      "object_position": null,
      "order": null,
      "overflow": null,
      "overflow_x": null,
      "overflow_y": null,
      "padding": null,
      "right": null,
      "top": null,
      "visibility": null,
      "width": null
     }
    },
    "095cc4e941474d24ab677981a21261f9": {
     "model_module": "@jupyter-widgets/base",
     "model_module_version": "1.2.0",
     "model_name": "LayoutModel",
     "state": {
      "_model_module": "@jupyter-widgets/base",
      "_model_module_version": "1.2.0",
      "_model_name": "LayoutModel",
      "_view_count": null,
      "_view_module": "@jupyter-widgets/base",
      "_view_module_version": "1.2.0",
      "_view_name": "LayoutView",
      "align_content": null,
      "align_items": null,
      "align_self": null,
      "border": null,
      "bottom": null,
      "display": null,
      "flex": null,
      "flex_flow": null,
      "grid_area": null,
      "grid_auto_columns": null,
      "grid_auto_flow": null,
      "grid_auto_rows": null,
      "grid_column": null,
      "grid_gap": null,
      "grid_row": null,
      "grid_template_areas": null,
      "grid_template_columns": null,
      "grid_template_rows": null,
      "height": null,
      "justify_content": null,
      "justify_items": null,
      "left": null,
      "margin": null,
      "max_height": null,
      "max_width": null,
      "min_height": null,
      "min_width": null,
      "object_fit": null,
      "object_position": null,
      "order": null,
      "overflow": null,
      "overflow_x": null,
      "overflow_y": null,
      "padding": null,
      "right": null,
      "top": null,
      "visibility": null,
      "width": null
     }
    },
    "0c693b692a5f448f844b90eaea1ab19d": {
     "model_module": "@jupyter-widgets/controls",
     "model_module_version": "1.5.0",
     "model_name": "DescriptionStyleModel",
     "state": {
      "_model_module": "@jupyter-widgets/controls",
      "_model_module_version": "1.5.0",
      "_model_name": "DescriptionStyleModel",
      "_view_count": null,
      "_view_module": "@jupyter-widgets/base",
      "_view_module_version": "1.2.0",
      "_view_name": "StyleView",
      "description_width": ""
     }
    },
    "0e3ab7d02bf14187bbdfb753ffc4f719": {
     "model_module": "@jupyter-widgets/controls",
     "model_module_version": "1.5.0",
     "model_name": "DescriptionStyleModel",
     "state": {
      "_model_module": "@jupyter-widgets/controls",
      "_model_module_version": "1.5.0",
      "_model_name": "DescriptionStyleModel",
      "_view_count": null,
      "_view_module": "@jupyter-widgets/base",
      "_view_module_version": "1.2.0",
      "_view_name": "StyleView",
      "description_width": ""
     }
    },
    "14a0aa5cd1284747a3e220deb5d7a288": {
     "model_module": "@jupyter-widgets/controls",
     "model_module_version": "1.5.0",
     "model_name": "HTMLModel",
     "state": {
      "_dom_classes": [],
      "_model_module": "@jupyter-widgets/controls",
      "_model_module_version": "1.5.0",
      "_model_name": "HTMLModel",
      "_view_count": null,
      "_view_module": "@jupyter-widgets/controls",
      "_view_module_version": "1.5.0",
      "_view_name": "HTMLView",
      "description": "",
      "description_tooltip": null,
      "layout": "IPY_MODEL_481e2efc7f2046cca230c0a24ce3f61c",
      "placeholder": "​",
      "style": "IPY_MODEL_3be0002f289140aa8ba8e90fa7998bbe",
      "value": "README.md: 100%"
     }
    },
    "19e37ae58c5b4b68838d1cff24b4fa82": {
     "model_module": "@jupyter-widgets/controls",
     "model_module_version": "1.5.0",
     "model_name": "HTMLModel",
     "state": {
      "_dom_classes": [],
      "_model_module": "@jupyter-widgets/controls",
      "_model_module_version": "1.5.0",
      "_model_name": "HTMLModel",
      "_view_count": null,
      "_view_module": "@jupyter-widgets/controls",
      "_view_module_version": "1.5.0",
      "_view_name": "HTMLView",
      "description": "",
      "description_tooltip": null,
      "layout": "IPY_MODEL_64292e7fc3d94367bd061d416ad2f4a4",
      "placeholder": "​",
      "style": "IPY_MODEL_370125010ab345a497f260dec660d9f3",
      "value": "tokenizer_config.json: 100%"
     }
    },
    "1af7357e33294260b1c0aa38a29672b6": {
     "model_module": "@jupyter-widgets/controls",
     "model_module_version": "1.5.0",
     "model_name": "FloatProgressModel",
     "state": {
      "_dom_classes": [],
      "_model_module": "@jupyter-widgets/controls",
      "_model_module_version": "1.5.0",
      "_model_name": "FloatProgressModel",
      "_view_count": null,
      "_view_module": "@jupyter-widgets/controls",
      "_view_module_version": "1.5.0",
      "_view_name": "ProgressView",
      "bar_style": "",
      "description": "",
      "description_tooltip": null,
      "layout": "IPY_MODEL_950b8556729743768872214e7936265e",
      "max": 880,
      "min": 0,
      "orientation": "horizontal",
      "style": "IPY_MODEL_97329f2359134948a4cf76c8436127e8",
      "value": 880
     }
    },
    "1e923ef8f0954d54994143ff2ab96503": {
     "model_module": "@jupyter-widgets/base",
     "model_module_version": "1.2.0",
     "model_name": "LayoutModel",
     "state": {
      "_model_module": "@jupyter-widgets/base",
      "_model_module_version": "1.2.0",
      "_model_name": "LayoutModel",
      "_view_count": null,
      "_view_module": "@jupyter-widgets/base",
      "_view_module_version": "1.2.0",
      "_view_name": "LayoutView",
      "align_content": null,
      "align_items": null,
      "align_self": null,
      "border": null,
      "bottom": null,
      "display": null,
      "flex": null,
      "flex_flow": null,
      "grid_area": null,
      "grid_auto_columns": null,
      "grid_auto_flow": null,
      "grid_auto_rows": null,
      "grid_column": null,
      "grid_gap": null,
      "grid_row": null,
      "grid_template_areas": null,
      "grid_template_columns": null,
      "grid_template_rows": null,
      "height": null,
      "justify_content": null,
      "justify_items": null,
      "left": null,
      "margin": null,
      "max_height": null,
      "max_width": null,
      "min_height": null,
      "min_width": null,
      "object_fit": null,
      "object_position": null,
      "order": null,
      "overflow": null,
      "overflow_x": null,
      "overflow_y": null,
      "padding": null,
      "right": null,
      "top": null,
      "visibility": null,
      "width": null
     }
    },
    "216f39a9b9344afe80e85c9e6cf54bc0": {
     "model_module": "@jupyter-widgets/controls",
     "model_module_version": "1.5.0",
     "model_name": "ProgressStyleModel",
     "state": {
      "_model_module": "@jupyter-widgets/controls",
      "_model_module_version": "1.5.0",
      "_model_name": "ProgressStyleModel",
      "_view_count": null,
      "_view_module": "@jupyter-widgets/base",
      "_view_module_version": "1.2.0",
      "_view_name": "StyleView",
      "bar_color": null,
      "description_width": ""
     }
    },
    "225904fb9c524e9bbd160fe2b3490d68": {
     "model_module": "@jupyter-widgets/controls",
     "model_module_version": "1.5.0",
     "model_name": "FloatProgressModel",
     "state": {
      "_dom_classes": [],
      "_model_module": "@jupyter-widgets/controls",
      "_model_module_version": "1.5.0",
      "_model_name": "FloatProgressModel",
      "_view_count": null,
      "_view_module": "@jupyter-widgets/controls",
      "_view_module_version": "1.5.0",
      "_view_name": "ProgressView",
      "bar_style": "success",
      "description": "",
      "description_tooltip": null,
      "layout": "IPY_MODEL_558c9d730ed844bc9a6a37f5a29b1705",
      "max": 1343006640,
      "min": 0,
      "orientation": "horizontal",
      "style": "IPY_MODEL_ca63c466113b4a2aa73bc7756ff55e4c",
      "value": 1343006640
     }
    },
    "28a3fa6f8d1a476599ef14f951c89c7f": {
     "model_module": "@jupyter-widgets/controls",
     "model_module_version": "1.5.0",
     "model_name": "HTMLModel",
     "state": {
      "_dom_classes": [],
      "_model_module": "@jupyter-widgets/controls",
      "_model_module_version": "1.5.0",
      "_model_name": "HTMLModel",
      "_view_count": null,
      "_view_module": "@jupyter-widgets/controls",
      "_view_module_version": "1.5.0",
      "_view_name": "HTMLView",
      "description": "",
      "description_tooltip": null,
      "layout": "IPY_MODEL_448b030d280647ee8d3762224a3c2711",
      "placeholder": "​",
      "style": "IPY_MODEL_db2e63ea60d94c58931743695b3414f7",
      "value": " 1.34G/1.34G [01:07&lt;00:00, 35.3MB/s]"
     }
    },
    "2b2bf52aee06420cb8d7e0da4c567fef": {
     "model_module": "@jupyter-widgets/base",
     "model_module_version": "1.2.0",
     "model_name": "LayoutModel",
     "state": {
      "_model_module": "@jupyter-widgets/base",
      "_model_module_version": "1.2.0",
      "_model_name": "LayoutModel",
      "_view_count": null,
      "_view_module": "@jupyter-widgets/base",
      "_view_module_version": "1.2.0",
      "_view_name": "LayoutView",
      "align_content": null,
      "align_items": null,
      "align_self": null,
      "border": null,
      "bottom": null,
      "display": null,
      "flex": null,
      "flex_flow": null,
      "grid_area": null,
      "grid_auto_columns": null,
      "grid_auto_flow": null,
      "grid_auto_rows": null,
      "grid_column": null,
      "grid_gap": null,
      "grid_row": null,
      "grid_template_areas": null,
      "grid_template_columns": null,
      "grid_template_rows": null,
      "height": null,
      "justify_content": null,
      "justify_items": null,
      "left": null,
      "margin": null,
      "max_height": null,
      "max_width": null,
      "min_height": null,
      "min_width": null,
      "object_fit": null,
      "object_position": null,
      "order": null,
      "overflow": null,
      "overflow_x": null,
      "overflow_y": null,
      "padding": null,
      "right": null,
      "top": null,
      "visibility": null,
      "width": null
     }
    },
    "2c7e07d2446944548fa1064885f499fa": {
     "model_module": "@jupyter-widgets/controls",
     "model_module_version": "1.5.0",
     "model_name": "FloatProgressModel",
     "state": {
      "_dom_classes": [],
      "_model_module": "@jupyter-widgets/controls",
      "_model_module_version": "1.5.0",
      "_model_name": "FloatProgressModel",
      "_view_count": null,
      "_view_module": "@jupyter-widgets/controls",
      "_view_module_version": "1.5.0",
      "_view_name": "ProgressView",
      "bar_style": "",
      "description": "",
      "description_tooltip": null,
      "layout": "IPY_MODEL_7da164a3b70f41acbe11ae4f983c819d",
      "max": 880,
      "min": 0,
      "orientation": "horizontal",
      "style": "IPY_MODEL_ecd384bf51a24456895a0a150879a2f3",
      "value": 880
     }
    },
    "2e57f1bfebfc4e1f92165dd684d7450d": {
     "model_module": "@jupyter-widgets/controls",
     "model_module_version": "1.5.0",
     "model_name": "HBoxModel",
     "state": {
      "_dom_classes": [],
      "_model_module": "@jupyter-widgets/controls",
      "_model_module_version": "1.5.0",
      "_model_name": "HBoxModel",
      "_view_count": null,
      "_view_module": "@jupyter-widgets/controls",
      "_view_module_version": "1.5.0",
      "_view_name": "HBoxView",
      "box_style": "",
      "children": [
       "IPY_MODEL_b070eb9dddbc4b29997bbbccf8c53b24",
       "IPY_MODEL_03f4c330b72246879abec966ac424d56",
       "IPY_MODEL_a8792d5ce2d14b16bec217fe48752cfd"
      ],
      "layout": "IPY_MODEL_417167c433ff4411b54b23cc0a20ab24"
     }
    },
    "302e80ebe2c2435d807be5d24d81e700": {
     "model_module": "@jupyter-widgets/controls",
     "model_module_version": "1.5.0",
     "model_name": "HBoxModel",
     "state": {
      "_dom_classes": [],
      "_model_module": "@jupyter-widgets/controls",
      "_model_module_version": "1.5.0",
      "_model_name": "HBoxModel",
      "_view_count": null,
      "_view_module": "@jupyter-widgets/controls",
      "_view_module_version": "1.5.0",
      "_view_name": "HBoxView",
      "box_style": "",
      "children": [
       "IPY_MODEL_ecc246071eae4e9b9d05d1611d4c1d0e",
       "IPY_MODEL_225904fb9c524e9bbd160fe2b3490d68",
       "IPY_MODEL_28a3fa6f8d1a476599ef14f951c89c7f"
      ],
      "layout": "IPY_MODEL_9dd0696ad94b4c4d8a9244bf236272b4"
     }
    },
    "30d4a62369cd4d47a6d2dd9755f29606": {
     "model_module": "@jupyter-widgets/controls",
     "model_module_version": "1.5.0",
     "model_name": "DescriptionStyleModel",
     "state": {
      "_model_module": "@jupyter-widgets/controls",
      "_model_module_version": "1.5.0",
      "_model_name": "DescriptionStyleModel",
      "_view_count": null,
      "_view_module": "@jupyter-widgets/base",
      "_view_module_version": "1.2.0",
      "_view_name": "StyleView",
      "description_width": ""
     }
    },
    "36397a63dba0438a93edd842a7fc4b0c": {
     "model_module": "@jupyter-widgets/base",
     "model_module_version": "1.2.0",
     "model_name": "LayoutModel",
     "state": {
      "_model_module": "@jupyter-widgets/base",
      "_model_module_version": "1.2.0",
      "_model_name": "LayoutModel",
      "_view_count": null,
      "_view_module": "@jupyter-widgets/base",
      "_view_module_version": "1.2.0",
      "_view_name": "LayoutView",
      "align_content": null,
      "align_items": null,
      "align_self": null,
      "border": null,
      "bottom": null,
      "display": null,
      "flex": null,
      "flex_flow": null,
      "grid_area": null,
      "grid_auto_columns": null,
      "grid_auto_flow": null,
      "grid_auto_rows": null,
      "grid_column": null,
      "grid_gap": null,
      "grid_row": null,
      "grid_template_areas": null,
      "grid_template_columns": null,
      "grid_template_rows": null,
      "height": null,
      "justify_content": null,
      "justify_items": null,
      "left": null,
      "margin": null,
      "max_height": null,
      "max_width": null,
      "min_height": null,
      "min_width": null,
      "object_fit": null,
      "object_position": null,
      "order": null,
      "overflow": null,
      "overflow_x": null,
      "overflow_y": null,
      "padding": null,
      "right": null,
      "top": null,
      "visibility": null,
      "width": null
     }
    },
    "370125010ab345a497f260dec660d9f3": {
     "model_module": "@jupyter-widgets/controls",
     "model_module_version": "1.5.0",
     "model_name": "DescriptionStyleModel",
     "state": {
      "_model_module": "@jupyter-widgets/controls",
      "_model_module_version": "1.5.0",
      "_model_name": "DescriptionStyleModel",
      "_view_count": null,
      "_view_module": "@jupyter-widgets/base",
      "_view_module_version": "1.2.0",
      "_view_name": "StyleView",
      "description_width": ""
     }
    },
    "38f63e1ab81e4de8af1ac0e6dae7ea96": {
     "model_module": "@jupyter-widgets/controls",
     "model_module_version": "1.5.0",
     "model_name": "HBoxModel",
     "state": {
      "_dom_classes": [],
      "_model_module": "@jupyter-widgets/controls",
      "_model_module_version": "1.5.0",
      "_model_name": "HBoxModel",
      "_view_count": null,
      "_view_module": "@jupyter-widgets/controls",
      "_view_module_version": "1.5.0",
      "_view_name": "HBoxView",
      "box_style": "",
      "children": [
       "IPY_MODEL_4b00d532b2a643dabaa404c78fae2ac9",
       "IPY_MODEL_ceb7556fe2194a5493e4fb30910456f4",
       "IPY_MODEL_f0e95781e54843ae82cc3c01d1e51d50"
      ],
      "layout": "IPY_MODEL_e8a0adff71014f14b26d3e9e7bb69530"
     }
    },
    "3af226d99dc84772bc9e73488ff64dc0": {
     "model_module": "@jupyter-widgets/base",
     "model_module_version": "1.2.0",
     "model_name": "LayoutModel",
     "state": {
      "_model_module": "@jupyter-widgets/base",
      "_model_module_version": "1.2.0",
      "_model_name": "LayoutModel",
      "_view_count": null,
      "_view_module": "@jupyter-widgets/base",
      "_view_module_version": "1.2.0",
      "_view_name": "LayoutView",
      "align_content": null,
      "align_items": null,
      "align_self": null,
      "border": null,
      "bottom": null,
      "display": null,
      "flex": null,
      "flex_flow": null,
      "grid_area": null,
      "grid_auto_columns": null,
      "grid_auto_flow": null,
      "grid_auto_rows": null,
      "grid_column": null,
      "grid_gap": null,
      "grid_row": null,
      "grid_template_areas": null,
      "grid_template_columns": null,
      "grid_template_rows": null,
      "height": null,
      "justify_content": null,
      "justify_items": null,
      "left": null,
      "margin": null,
      "max_height": null,
      "max_width": null,
      "min_height": null,
      "min_width": null,
      "object_fit": null,
      "object_position": null,
      "order": null,
      "overflow": null,
      "overflow_x": null,
      "overflow_y": null,
      "padding": null,
      "right": null,
      "top": null,
      "visibility": null,
      "width": null
     }
    },
    "3be0002f289140aa8ba8e90fa7998bbe": {
     "model_module": "@jupyter-widgets/controls",
     "model_module_version": "1.5.0",
     "model_name": "DescriptionStyleModel",
     "state": {
      "_model_module": "@jupyter-widgets/controls",
      "_model_module_version": "1.5.0",
      "_model_name": "DescriptionStyleModel",
      "_view_count": null,
      "_view_module": "@jupyter-widgets/base",
      "_view_module_version": "1.2.0",
      "_view_name": "StyleView",
      "description_width": ""
     }
    },
    "40a91f301dd74e8daa3b78c8114bfd30": {
     "model_module": "@jupyter-widgets/controls",
     "model_module_version": "1.5.0",
     "model_name": "DescriptionStyleModel",
     "state": {
      "_model_module": "@jupyter-widgets/controls",
      "_model_module_version": "1.5.0",
      "_model_name": "DescriptionStyleModel",
      "_view_count": null,
      "_view_module": "@jupyter-widgets/base",
      "_view_module_version": "1.2.0",
      "_view_name": "StyleView",
      "description_width": ""
     }
    },
    "417167c433ff4411b54b23cc0a20ab24": {
     "model_module": "@jupyter-widgets/base",
     "model_module_version": "1.2.0",
     "model_name": "LayoutModel",
     "state": {
      "_model_module": "@jupyter-widgets/base",
      "_model_module_version": "1.2.0",
      "_model_name": "LayoutModel",
      "_view_count": null,
      "_view_module": "@jupyter-widgets/base",
      "_view_module_version": "1.2.0",
      "_view_name": "LayoutView",
      "align_content": null,
      "align_items": null,
      "align_self": null,
      "border": null,
      "bottom": null,
      "display": null,
      "flex": null,
      "flex_flow": null,
      "grid_area": null,
      "grid_auto_columns": null,
      "grid_auto_flow": null,
      "grid_auto_rows": null,
      "grid_column": null,
      "grid_gap": null,
      "grid_row": null,
      "grid_template_areas": null,
      "grid_template_columns": null,
      "grid_template_rows": null,
      "height": null,
      "justify_content": null,
      "justify_items": null,
      "left": null,
      "margin": null,
      "max_height": null,
      "max_width": null,
      "min_height": null,
      "min_width": null,
      "object_fit": null,
      "object_position": null,
      "order": null,
      "overflow": null,
      "overflow_x": null,
      "overflow_y": null,
      "padding": null,
      "right": null,
      "top": null,
      "visibility": null,
      "width": null
     }
    },
    "434d919cc49640bba10730e1eedd0fbf": {
     "model_module": "@jupyter-widgets/controls",
     "model_module_version": "1.5.0",
     "model_name": "DescriptionStyleModel",
     "state": {
      "_model_module": "@jupyter-widgets/controls",
      "_model_module_version": "1.5.0",
      "_model_name": "DescriptionStyleModel",
      "_view_count": null,
      "_view_module": "@jupyter-widgets/base",
      "_view_module_version": "1.2.0",
      "_view_name": "StyleView",
      "description_width": ""
     }
    },
    "448b030d280647ee8d3762224a3c2711": {
     "model_module": "@jupyter-widgets/base",
     "model_module_version": "1.2.0",
     "model_name": "LayoutModel",
     "state": {
      "_model_module": "@jupyter-widgets/base",
      "_model_module_version": "1.2.0",
      "_model_name": "LayoutModel",
      "_view_count": null,
      "_view_module": "@jupyter-widgets/base",
      "_view_module_version": "1.2.0",
      "_view_name": "LayoutView",
      "align_content": null,
      "align_items": null,
      "align_self": null,
      "border": null,
      "bottom": null,
      "display": null,
      "flex": null,
      "flex_flow": null,
      "grid_area": null,
      "grid_auto_columns": null,
      "grid_auto_flow": null,
      "grid_auto_rows": null,
      "grid_column": null,
      "grid_gap": null,
      "grid_row": null,
      "grid_template_areas": null,
      "grid_template_columns": null,
      "grid_template_rows": null,
      "height": null,
      "justify_content": null,
      "justify_items": null,
      "left": null,
      "margin": null,
      "max_height": null,
      "max_width": null,
      "min_height": null,
      "min_width": null,
      "object_fit": null,
      "object_position": null,
      "order": null,
      "overflow": null,
      "overflow_x": null,
      "overflow_y": null,
      "padding": null,
      "right": null,
      "top": null,
      "visibility": null,
      "width": null
     }
    },
    "481e2efc7f2046cca230c0a24ce3f61c": {
     "model_module": "@jupyter-widgets/base",
     "model_module_version": "1.2.0",
     "model_name": "LayoutModel",
     "state": {
      "_model_module": "@jupyter-widgets/base",
      "_model_module_version": "1.2.0",
      "_model_name": "LayoutModel",
      "_view_count": null,
      "_view_module": "@jupyter-widgets/base",
      "_view_module_version": "1.2.0",
      "_view_name": "LayoutView",
      "align_content": null,
      "align_items": null,
      "align_self": null,
      "border": null,
      "bottom": null,
      "display": null,
      "flex": null,
      "flex_flow": null,
      "grid_area": null,
      "grid_auto_columns": null,
      "grid_auto_flow": null,
      "grid_auto_rows": null,
      "grid_column": null,
      "grid_gap": null,
      "grid_row": null,
      "grid_template_areas": null,
      "grid_template_columns": null,
      "grid_template_rows": null,
      "height": null,
      "justify_content": null,
      "justify_items": null,
      "left": null,
      "margin": null,
      "max_height": null,
      "max_width": null,
      "min_height": null,
      "min_width": null,
      "object_fit": null,
      "object_position": null,
      "order": null,
      "overflow": null,
      "overflow_x": null,
      "overflow_y": null,
      "padding": null,
      "right": null,
      "top": null,
      "visibility": null,
      "width": null
     }
    },
    "4b00d532b2a643dabaa404c78fae2ac9": {
     "model_module": "@jupyter-widgets/controls",
     "model_module_version": "1.5.0",
     "model_name": "HTMLModel",
     "state": {
      "_dom_classes": [],
      "_model_module": "@jupyter-widgets/controls",
      "_model_module_version": "1.5.0",
      "_model_name": "HTMLModel",
      "_view_count": null,
      "_view_module": "@jupyter-widgets/controls",
      "_view_module_version": "1.5.0",
      "_view_name": "HTMLView",
      "description": "",
      "description_tooltip": null,
      "layout": "IPY_MODEL_bdb4087890734d1b8a2c5f58368debec",
      "placeholder": "​",
      "style": "IPY_MODEL_f99f0b593dcb4a3899605d181b36db9f",
      "value": "model.safetensors: 100%"
     }
    },
    "4b332ebe76bd4a9ab6729c08052fc0f9": {
     "model_module": "@jupyter-widgets/base",
     "model_module_version": "1.2.0",
     "model_name": "LayoutModel",
     "state": {
      "_model_module": "@jupyter-widgets/base",
      "_model_module_version": "1.2.0",
      "_model_name": "LayoutModel",
      "_view_count": null,
      "_view_module": "@jupyter-widgets/base",
      "_view_module_version": "1.2.0",
      "_view_name": "LayoutView",
      "align_content": null,
      "align_items": null,
      "align_self": null,
      "border": null,
      "bottom": null,
      "display": null,
      "flex": null,
      "flex_flow": null,
      "grid_area": null,
      "grid_auto_columns": null,
      "grid_auto_flow": null,
      "grid_auto_rows": null,
      "grid_column": null,
      "grid_gap": null,
      "grid_row": null,
      "grid_template_areas": null,
      "grid_template_columns": null,
      "grid_template_rows": null,
      "height": null,
      "justify_content": null,
      "justify_items": null,
      "left": null,
      "margin": null,
      "max_height": null,
      "max_width": null,
      "min_height": null,
      "min_width": null,
      "object_fit": null,
      "object_position": null,
      "order": null,
      "overflow": null,
      "overflow_x": null,
      "overflow_y": null,
      "padding": null,
      "right": null,
      "top": null,
      "visibility": null,
      "width": null
     }
    },
    "4bc5829a3e0147f088f2e97e1be26c95": {
     "model_module": "@jupyter-widgets/controls",
     "model_module_version": "1.5.0",
     "model_name": "HTMLModel",
     "state": {
      "_dom_classes": [],
      "_model_module": "@jupyter-widgets/controls",
      "_model_module_version": "1.5.0",
      "_model_name": "HTMLModel",
      "_view_count": null,
      "_view_module": "@jupyter-widgets/controls",
      "_view_module_version": "1.5.0",
      "_view_name": "HTMLView",
      "description": "",
      "description_tooltip": null,
      "layout": "IPY_MODEL_3af226d99dc84772bc9e73488ff64dc0",
      "placeholder": "​",
      "style": "IPY_MODEL_0c693b692a5f448f844b90eaea1ab19d",
      "value": " 363/363 [00:00&lt;00:00, 31.1kB/s]"
     }
    },
    "4f8228469433466fa57fc6a4b739885b": {
     "model_module": "@jupyter-widgets/controls",
     "model_module_version": "1.5.0",
     "model_name": "HTMLModel",
     "state": {
      "_dom_classes": [],
      "_model_module": "@jupyter-widgets/controls",
      "_model_module_version": "1.5.0",
      "_model_name": "HTMLModel",
      "_view_count": null,
      "_view_module": "@jupyter-widgets/controls",
      "_view_module_version": "1.5.0",
      "_view_name": "HTMLView",
      "description": "",
      "description_tooltip": null,
      "layout": "IPY_MODEL_0799732928f64d14a6c674569181edb8",
      "placeholder": "​",
      "style": "IPY_MODEL_8a4994f782cd47d19e7fa03f19d7d26d",
      "value": " 83.0/83.0 [00:00&lt;00:00, 6.73kB/s]"
     }
    },
    "52fec95a1f454e8c843a11ca51337c49": {
     "model_module": "@jupyter-widgets/base",
     "model_module_version": "1.2.0",
     "model_name": "LayoutModel",
     "state": {
      "_model_module": "@jupyter-widgets/base",
      "_model_module_version": "1.2.0",
      "_model_name": "LayoutModel",
      "_view_count": null,
      "_view_module": "@jupyter-widgets/base",
      "_view_module_version": "1.2.0",
      "_view_name": "LayoutView",
      "align_content": null,
      "align_items": null,
      "align_self": null,
      "border": null,
      "bottom": null,
      "display": null,
      "flex": null,
      "flex_flow": null,
      "grid_area": null,
      "grid_auto_columns": null,
      "grid_auto_flow": null,
      "grid_auto_rows": null,
      "grid_column": null,
      "grid_gap": null,
      "grid_row": null,
      "grid_template_areas": null,
      "grid_template_columns": null,
      "grid_template_rows": null,
      "height": null,
      "justify_content": null,
      "justify_items": null,
      "left": null,
      "margin": null,
      "max_height": null,
      "max_width": null,
      "min_height": null,
      "min_width": null,
      "object_fit": null,
      "object_position": null,
      "order": null,
      "overflow": null,
      "overflow_x": null,
      "overflow_y": null,
      "padding": null,
      "right": null,
      "top": null,
      "visibility": null,
      "width": null
     }
    },
    "55642176566d4db1831bbe2c049d801a": {
     "model_module": "@jupyter-widgets/base",
     "model_module_version": "1.2.0",
     "model_name": "LayoutModel",
     "state": {
      "_model_module": "@jupyter-widgets/base",
      "_model_module_version": "1.2.0",
      "_model_name": "LayoutModel",
      "_view_count": null,
      "_view_module": "@jupyter-widgets/base",
      "_view_module_version": "1.2.0",
      "_view_name": "LayoutView",
      "align_content": null,
      "align_items": null,
      "align_self": null,
      "border": null,
      "bottom": null,
      "display": null,
      "flex": null,
      "flex_flow": null,
      "grid_area": null,
      "grid_auto_columns": null,
      "grid_auto_flow": null,
      "grid_auto_rows": null,
      "grid_column": null,
      "grid_gap": null,
      "grid_row": null,
      "grid_template_areas": null,
      "grid_template_columns": null,
      "grid_template_rows": null,
      "height": null,
      "justify_content": null,
      "justify_items": null,
      "left": null,
      "margin": null,
      "max_height": null,
      "max_width": null,
      "min_height": null,
      "min_width": null,
      "object_fit": null,
      "object_position": null,
      "order": null,
      "overflow": null,
      "overflow_x": null,
      "overflow_y": null,
      "padding": null,
      "right": null,
      "top": null,
      "visibility": null,
      "width": null
     }
    },
    "558c9d730ed844bc9a6a37f5a29b1705": {
     "model_module": "@jupyter-widgets/base",
     "model_module_version": "1.2.0",
     "model_name": "LayoutModel",
     "state": {
      "_model_module": "@jupyter-widgets/base",
      "_model_module_version": "1.2.0",
      "_model_name": "LayoutModel",
      "_view_count": null,
      "_view_module": "@jupyter-widgets/base",
      "_view_module_version": "1.2.0",
      "_view_name": "LayoutView",
      "align_content": null,
      "align_items": null,
      "align_self": null,
      "border": null,
      "bottom": null,
      "display": null,
      "flex": null,
      "flex_flow": null,
      "grid_area": null,
      "grid_auto_columns": null,
      "grid_auto_flow": null,
      "grid_auto_rows": null,
      "grid_column": null,
      "grid_gap": null,
      "grid_row": null,
      "grid_template_areas": null,
      "grid_template_columns": null,
      "grid_template_rows": null,
      "height": null,
      "justify_content": null,
      "justify_items": null,
      "left": null,
      "margin": null,
      "max_height": null,
      "max_width": null,
      "min_height": null,
      "min_width": null,
      "object_fit": null,
      "object_position": null,
      "order": null,
      "overflow": null,
      "overflow_x": null,
      "overflow_y": null,
      "padding": null,
      "right": null,
      "top": null,
      "visibility": null,
      "width": null
     }
    },
    "57251e7442804b838989470149844616": {
     "model_module": "@jupyter-widgets/controls",
     "model_module_version": "1.5.0",
     "model_name": "HBoxModel",
     "state": {
      "_dom_classes": [],
      "_model_module": "@jupyter-widgets/controls",
      "_model_module_version": "1.5.0",
      "_model_name": "HBoxModel",
      "_view_count": null,
      "_view_module": "@jupyter-widgets/controls",
      "_view_module_version": "1.5.0",
      "_view_name": "HBoxView",
      "box_style": "",
      "children": [
       "IPY_MODEL_d2514ef3c1f44cefbe60e9bf240eed15",
       "IPY_MODEL_2c7e07d2446944548fa1064885f499fa",
       "IPY_MODEL_b765ec6c52b04d8b848a871250591381"
      ],
      "layout": "IPY_MODEL_6ed271e9a8f84a5e9f77fd2395e9e1b6"
     }
    },
    "5f63fb876f694f98a46e84371bae3342": {
     "model_module": "@jupyter-widgets/base",
     "model_module_version": "1.2.0",
     "model_name": "LayoutModel",
     "state": {
      "_model_module": "@jupyter-widgets/base",
      "_model_module_version": "1.2.0",
      "_model_name": "LayoutModel",
      "_view_count": null,
      "_view_module": "@jupyter-widgets/base",
      "_view_module_version": "1.2.0",
      "_view_name": "LayoutView",
      "align_content": null,
      "align_items": null,
      "align_self": null,
      "border": null,
      "bottom": null,
      "display": null,
      "flex": null,
      "flex_flow": null,
      "grid_area": null,
      "grid_auto_columns": null,
      "grid_auto_flow": null,
      "grid_auto_rows": null,
      "grid_column": null,
      "grid_gap": null,
      "grid_row": null,
      "grid_template_areas": null,
      "grid_template_columns": null,
      "grid_template_rows": null,
      "height": null,
      "justify_content": null,
      "justify_items": null,
      "left": null,
      "margin": null,
      "max_height": null,
      "max_width": null,
      "min_height": null,
      "min_width": null,
      "object_fit": null,
      "object_position": null,
      "order": null,
      "overflow": null,
      "overflow_x": null,
      "overflow_y": null,
      "padding": null,
      "right": null,
      "top": null,
      "visibility": null,
      "width": null
     }
    },
    "61f5f2a966e84095be7a294102c936f1": {
     "model_module": "@jupyter-widgets/controls",
     "model_module_version": "1.5.0",
     "model_name": "HBoxModel",
     "state": {
      "_dom_classes": [],
      "_model_module": "@jupyter-widgets/controls",
      "_model_module_version": "1.5.0",
      "_model_name": "HBoxModel",
      "_view_count": null,
      "_view_module": "@jupyter-widgets/controls",
      "_view_module_version": "1.5.0",
      "_view_name": "HBoxView",
      "box_style": "",
      "children": [
       "IPY_MODEL_bcce39d7173143179a48aad8a0155c0a",
       "IPY_MODEL_1af7357e33294260b1c0aa38a29672b6",
       "IPY_MODEL_6498db3bfe334232804746beba248639"
      ],
      "layout": "IPY_MODEL_de88adea80f34889a2411a79bf2351cb"
     }
    },
    "64292e7fc3d94367bd061d416ad2f4a4": {
     "model_module": "@jupyter-widgets/base",
     "model_module_version": "1.2.0",
     "model_name": "LayoutModel",
     "state": {
      "_model_module": "@jupyter-widgets/base",
      "_model_module_version": "1.2.0",
      "_model_name": "LayoutModel",
      "_view_count": null,
      "_view_module": "@jupyter-widgets/base",
      "_view_module_version": "1.2.0",
      "_view_name": "LayoutView",
      "align_content": null,
      "align_items": null,
      "align_self": null,
      "border": null,
      "bottom": null,
      "display": null,
      "flex": null,
      "flex_flow": null,
      "grid_area": null,
      "grid_auto_columns": null,
      "grid_auto_flow": null,
      "grid_auto_rows": null,
      "grid_column": null,
      "grid_gap": null,
      "grid_row": null,
      "grid_template_areas": null,
      "grid_template_columns": null,
      "grid_template_rows": null,
      "height": null,
      "justify_content": null,
      "justify_items": null,
      "left": null,
      "margin": null,
      "max_height": null,
      "max_width": null,
      "min_height": null,
      "min_width": null,
      "object_fit": null,
      "object_position": null,
      "order": null,
      "overflow": null,
      "overflow_x": null,
      "overflow_y": null,
      "padding": null,
      "right": null,
      "top": null,
      "visibility": null,
      "width": null
     }
    },
    "648e084564e4415186186436c22824ce": {
     "model_module": "@jupyter-widgets/controls",
     "model_module_version": "1.5.0",
     "model_name": "HBoxModel",
     "state": {
      "_dom_classes": [],
      "_model_module": "@jupyter-widgets/controls",
      "_model_module_version": "1.5.0",
      "_model_name": "HBoxModel",
      "_view_count": null,
      "_view_module": "@jupyter-widgets/controls",
      "_view_module_version": "1.5.0",
      "_view_name": "HBoxView",
      "box_style": "",
      "children": [
       "IPY_MODEL_f0fc456e6dcf44faa9bc73c6eb31908e",
       "IPY_MODEL_fefd4f79f7e54e6f949e739083e96d0f",
       "IPY_MODEL_fb5844bf05764f0684392d6419dc8404"
      ],
      "layout": "IPY_MODEL_d15f736bdd284a7b96dd3c628c90b1b1"
     }
    },
    "6498db3bfe334232804746beba248639": {
     "model_module": "@jupyter-widgets/controls",
     "model_module_version": "1.5.0",
     "model_name": "HTMLModel",
     "state": {
      "_dom_classes": [],
      "_model_module": "@jupyter-widgets/controls",
      "_model_module_version": "1.5.0",
      "_model_name": "HTMLModel",
      "_view_count": null,
      "_view_module": "@jupyter-widgets/controls",
      "_view_module_version": "1.5.0",
      "_view_name": "HTMLView",
      "description": "",
      "description_tooltip": null,
      "layout": "IPY_MODEL_7c05b5143857471884f4b7ffa8a04ede",
      "placeholder": "​",
      "style": "IPY_MODEL_69b3a6c710ad43f4abb6c8c92c2b721b",
      "value": " 879/880 [01:33&lt;00:00,  9.90it/s, loss=0.1257, lr=9.00e-06, ETA=0:00:00]"
     }
    },
    "64a21f16a3c8473c8a7e7cff73b48a14": {
     "model_module": "@jupyter-widgets/controls",
     "model_module_version": "1.5.0",
     "model_name": "HBoxModel",
     "state": {
      "_dom_classes": [],
      "_model_module": "@jupyter-widgets/controls",
      "_model_module_version": "1.5.0",
      "_model_name": "HBoxModel",
      "_view_count": null,
      "_view_module": "@jupyter-widgets/controls",
      "_view_module_version": "1.5.0",
      "_view_name": "HBoxView",
      "box_style": "",
      "children": [
       "IPY_MODEL_14a0aa5cd1284747a3e220deb5d7a288",
       "IPY_MODEL_c59e920e94b5403a8c129e1142da4594",
       "IPY_MODEL_ad4460230d494cbfbc9c6e225d85f096"
      ],
      "layout": "IPY_MODEL_36397a63dba0438a93edd842a7fc4b0c"
     }
    },
    "69b3a6c710ad43f4abb6c8c92c2b721b": {
     "model_module": "@jupyter-widgets/controls",
     "model_module_version": "1.5.0",
     "model_name": "DescriptionStyleModel",
     "state": {
      "_model_module": "@jupyter-widgets/controls",
      "_model_module_version": "1.5.0",
      "_model_name": "DescriptionStyleModel",
      "_view_count": null,
      "_view_module": "@jupyter-widgets/base",
      "_view_module_version": "1.2.0",
      "_view_name": "StyleView",
      "description_width": ""
     }
    },
    "6ed271e9a8f84a5e9f77fd2395e9e1b6": {
     "model_module": "@jupyter-widgets/base",
     "model_module_version": "1.2.0",
     "model_name": "LayoutModel",
     "state": {
      "_model_module": "@jupyter-widgets/base",
      "_model_module_version": "1.2.0",
      "_model_name": "LayoutModel",
      "_view_count": null,
      "_view_module": "@jupyter-widgets/base",
      "_view_module_version": "1.2.0",
      "_view_name": "LayoutView",
      "align_content": null,
      "align_items": null,
      "align_self": null,
      "border": null,
      "bottom": null,
      "display": null,
      "flex": null,
      "flex_flow": null,
      "grid_area": null,
      "grid_auto_columns": null,
      "grid_auto_flow": null,
      "grid_auto_rows": null,
      "grid_column": null,
      "grid_gap": null,
      "grid_row": null,
      "grid_template_areas": null,
      "grid_template_columns": null,
      "grid_template_rows": null,
      "height": null,
      "justify_content": null,
      "justify_items": null,
      "left": null,
      "margin": null,
      "max_height": null,
      "max_width": null,
      "min_height": null,
      "min_width": null,
      "object_fit": null,
      "object_position": null,
      "order": null,
      "overflow": null,
      "overflow_x": null,
      "overflow_y": null,
      "padding": null,
      "right": null,
      "top": null,
      "visibility": "hidden",
      "width": null
     }
    },
    "71c4d258417848428eb2cbc7ebe8d5eb": {
     "model_module": "@jupyter-widgets/controls",
     "model_module_version": "1.5.0",
     "model_name": "HTMLModel",
     "state": {
      "_dom_classes": [],
      "_model_module": "@jupyter-widgets/controls",
      "_model_module_version": "1.5.0",
      "_model_name": "HTMLModel",
      "_view_count": null,
      "_view_module": "@jupyter-widgets/controls",
      "_view_module_version": "1.5.0",
      "_view_name": "HTMLView",
      "description": "",
      "description_tooltip": null,
      "layout": "IPY_MODEL_c6d1ce495b6647e086e945fad6495f6f",
      "placeholder": "​",
      "style": "IPY_MODEL_eaedc46929c74e01b3b1214da4554acf",
      "value": "config.json: 100%"
     }
    },
    "73ce12cb0fc842c9bf6d7c9991a4bc56": {
     "model_module": "@jupyter-widgets/base",
     "model_module_version": "1.2.0",
     "model_name": "LayoutModel",
     "state": {
      "_model_module": "@jupyter-widgets/base",
      "_model_module_version": "1.2.0",
      "_model_name": "LayoutModel",
      "_view_count": null,
      "_view_module": "@jupyter-widgets/base",
      "_view_module_version": "1.2.0",
      "_view_name": "LayoutView",
      "align_content": null,
      "align_items": null,
      "align_self": null,
      "border": null,
      "bottom": null,
      "display": null,
      "flex": null,
      "flex_flow": null,
      "grid_area": null,
      "grid_auto_columns": null,
      "grid_auto_flow": null,
      "grid_auto_rows": null,
      "grid_column": null,
      "grid_gap": null,
      "grid_row": null,
      "grid_template_areas": null,
      "grid_template_columns": null,
      "grid_template_rows": null,
      "height": null,
      "justify_content": null,
      "justify_items": null,
      "left": null,
      "margin": null,
      "max_height": null,
      "max_width": null,
      "min_height": null,
      "min_width": null,
      "object_fit": null,
      "object_position": null,
      "order": null,
      "overflow": null,
      "overflow_x": null,
      "overflow_y": null,
      "padding": null,
      "right": null,
      "top": null,
      "visibility": null,
      "width": null
     }
    },
    "79a4a63ab9094968a4f2a1473f8716b6": {
     "model_module": "@jupyter-widgets/controls",
     "model_module_version": "1.5.0",
     "model_name": "DescriptionStyleModel",
     "state": {
      "_model_module": "@jupyter-widgets/controls",
      "_model_module_version": "1.5.0",
      "_model_name": "DescriptionStyleModel",
      "_view_count": null,
      "_view_module": "@jupyter-widgets/base",
      "_view_module_version": "1.2.0",
      "_view_name": "StyleView",
      "description_width": ""
     }
    },
    "7c05b5143857471884f4b7ffa8a04ede": {
     "model_module": "@jupyter-widgets/base",
     "model_module_version": "1.2.0",
     "model_name": "LayoutModel",
     "state": {
      "_model_module": "@jupyter-widgets/base",
      "_model_module_version": "1.2.0",
      "_model_name": "LayoutModel",
      "_view_count": null,
      "_view_module": "@jupyter-widgets/base",
      "_view_module_version": "1.2.0",
      "_view_name": "LayoutView",
      "align_content": null,
      "align_items": null,
      "align_self": null,
      "border": null,
      "bottom": null,
      "display": null,
      "flex": null,
      "flex_flow": null,
      "grid_area": null,
      "grid_auto_columns": null,
      "grid_auto_flow": null,
      "grid_auto_rows": null,
      "grid_column": null,
      "grid_gap": null,
      "grid_row": null,
      "grid_template_areas": null,
      "grid_template_columns": null,
      "grid_template_rows": null,
      "height": null,
      "justify_content": null,
      "justify_items": null,
      "left": null,
      "margin": null,
      "max_height": null,
      "max_width": null,
      "min_height": null,
      "min_width": null,
      "object_fit": null,
      "object_position": null,
      "order": null,
      "overflow": null,
      "overflow_x": null,
      "overflow_y": null,
      "padding": null,
      "right": null,
      "top": null,
      "visibility": null,
      "width": null
     }
    },
    "7da164a3b70f41acbe11ae4f983c819d": {
     "model_module": "@jupyter-widgets/base",
     "model_module_version": "1.2.0",
     "model_name": "LayoutModel",
     "state": {
      "_model_module": "@jupyter-widgets/base",
      "_model_module_version": "1.2.0",
      "_model_name": "LayoutModel",
      "_view_count": null,
      "_view_module": "@jupyter-widgets/base",
      "_view_module_version": "1.2.0",
      "_view_name": "LayoutView",
      "align_content": null,
      "align_items": null,
      "align_self": null,
      "border": null,
      "bottom": null,
      "display": null,
      "flex": null,
      "flex_flow": null,
      "grid_area": null,
      "grid_auto_columns": null,
      "grid_auto_flow": null,
      "grid_auto_rows": null,
      "grid_column": null,
      "grid_gap": null,
      "grid_row": null,
      "grid_template_areas": null,
      "grid_template_columns": null,
      "grid_template_rows": null,
      "height": null,
      "justify_content": null,
      "justify_items": null,
      "left": null,
      "margin": null,
      "max_height": null,
      "max_width": null,
      "min_height": null,
      "min_width": null,
      "object_fit": null,
      "object_position": null,
      "order": null,
      "overflow": null,
      "overflow_x": null,
      "overflow_y": null,
      "padding": null,
      "right": null,
      "top": null,
      "visibility": null,
      "width": null
     }
    },
    "88ec023e754a4806ac4526bc888db6d1": {
     "model_module": "@jupyter-widgets/controls",
     "model_module_version": "1.5.0",
     "model_name": "ProgressStyleModel",
     "state": {
      "_model_module": "@jupyter-widgets/controls",
      "_model_module_version": "1.5.0",
      "_model_name": "ProgressStyleModel",
      "_view_count": null,
      "_view_module": "@jupyter-widgets/base",
      "_view_module_version": "1.2.0",
      "_view_name": "StyleView",
      "bar_color": null,
      "description_width": ""
     }
    },
    "8a4994f782cd47d19e7fa03f19d7d26d": {
     "model_module": "@jupyter-widgets/controls",
     "model_module_version": "1.5.0",
     "model_name": "DescriptionStyleModel",
     "state": {
      "_model_module": "@jupyter-widgets/controls",
      "_model_module_version": "1.5.0",
      "_model_name": "DescriptionStyleModel",
      "_view_count": null,
      "_view_module": "@jupyter-widgets/base",
      "_view_module_version": "1.2.0",
      "_view_name": "StyleView",
      "description_width": ""
     }
    },
    "8c5e7a49235140aa8dee5268780c7215": {
     "model_module": "@jupyter-widgets/base",
     "model_module_version": "1.2.0",
     "model_name": "LayoutModel",
     "state": {
      "_model_module": "@jupyter-widgets/base",
      "_model_module_version": "1.2.0",
      "_model_name": "LayoutModel",
      "_view_count": null,
      "_view_module": "@jupyter-widgets/base",
      "_view_module_version": "1.2.0",
      "_view_name": "LayoutView",
      "align_content": null,
      "align_items": null,
      "align_self": null,
      "border": null,
      "bottom": null,
      "display": null,
      "flex": null,
      "flex_flow": null,
      "grid_area": null,
      "grid_auto_columns": null,
      "grid_auto_flow": null,
      "grid_auto_rows": null,
      "grid_column": null,
      "grid_gap": null,
      "grid_row": null,
      "grid_template_areas": null,
      "grid_template_columns": null,
      "grid_template_rows": null,
      "height": null,
      "justify_content": null,
      "justify_items": null,
      "left": null,
      "margin": null,
      "max_height": null,
      "max_width": null,
      "min_height": null,
      "min_width": null,
      "object_fit": null,
      "object_position": null,
      "order": null,
      "overflow": null,
      "overflow_x": null,
      "overflow_y": null,
      "padding": null,
      "right": null,
      "top": null,
      "visibility": null,
      "width": null
     }
    },
    "8cd882e90cce4d1daedff71bd88795a3": {
     "model_module": "@jupyter-widgets/controls",
     "model_module_version": "1.5.0",
     "model_name": "FloatProgressModel",
     "state": {
      "_dom_classes": [],
      "_model_module": "@jupyter-widgets/controls",
      "_model_module_version": "1.5.0",
      "_model_name": "FloatProgressModel",
      "_view_count": null,
      "_view_module": "@jupyter-widgets/controls",
      "_view_module_version": "1.5.0",
      "_view_name": "ProgressView",
      "bar_style": "success",
      "description": "",
      "description_tooltip": null,
      "layout": "IPY_MODEL_4b332ebe76bd4a9ab6729c08052fc0f9",
      "max": 83,
      "min": 0,
      "orientation": "horizontal",
      "style": "IPY_MODEL_9e0879af53a749fca649312fa7c9d917",
      "value": 83
     }
    },
    "950b8556729743768872214e7936265e": {
     "model_module": "@jupyter-widgets/base",
     "model_module_version": "1.2.0",
     "model_name": "LayoutModel",
     "state": {
      "_model_module": "@jupyter-widgets/base",
      "_model_module_version": "1.2.0",
      "_model_name": "LayoutModel",
      "_view_count": null,
      "_view_module": "@jupyter-widgets/base",
      "_view_module_version": "1.2.0",
      "_view_name": "LayoutView",
      "align_content": null,
      "align_items": null,
      "align_self": null,
      "border": null,
      "bottom": null,
      "display": null,
      "flex": null,
      "flex_flow": null,
      "grid_area": null,
      "grid_auto_columns": null,
      "grid_auto_flow": null,
      "grid_auto_rows": null,
      "grid_column": null,
      "grid_gap": null,
      "grid_row": null,
      "grid_template_areas": null,
      "grid_template_columns": null,
      "grid_template_rows": null,
      "height": null,
      "justify_content": null,
      "justify_items": null,
      "left": null,
      "margin": null,
      "max_height": null,
      "max_width": null,
      "min_height": null,
      "min_width": null,
      "object_fit": null,
      "object_position": null,
      "order": null,
      "overflow": null,
      "overflow_x": null,
      "overflow_y": null,
      "padding": null,
      "right": null,
      "top": null,
      "visibility": null,
      "width": null
     }
    },
    "950da84beed249288428546ceeee7cf1": {
     "model_module": "@jupyter-widgets/controls",
     "model_module_version": "1.5.0",
     "model_name": "DescriptionStyleModel",
     "state": {
      "_model_module": "@jupyter-widgets/controls",
      "_model_module_version": "1.5.0",
      "_model_name": "DescriptionStyleModel",
      "_view_count": null,
      "_view_module": "@jupyter-widgets/base",
      "_view_module_version": "1.2.0",
      "_view_name": "StyleView",
      "description_width": ""
     }
    },
    "97329f2359134948a4cf76c8436127e8": {
     "model_module": "@jupyter-widgets/controls",
     "model_module_version": "1.5.0",
     "model_name": "ProgressStyleModel",
     "state": {
      "_model_module": "@jupyter-widgets/controls",
      "_model_module_version": "1.5.0",
      "_model_name": "ProgressStyleModel",
      "_view_count": null,
      "_view_module": "@jupyter-widgets/base",
      "_view_module_version": "1.2.0",
      "_view_name": "StyleView",
      "bar_color": null,
      "description_width": ""
     }
    },
    "98dd42faaaaa41a78ec297610e4e80cb": {
     "model_module": "@jupyter-widgets/controls",
     "model_module_version": "1.5.0",
     "model_name": "HTMLModel",
     "state": {
      "_dom_classes": [],
      "_model_module": "@jupyter-widgets/controls",
      "_model_module_version": "1.5.0",
      "_model_name": "HTMLModel",
      "_view_count": null,
      "_view_module": "@jupyter-widgets/controls",
      "_view_module_version": "1.5.0",
      "_view_name": "HTMLView",
      "description": "",
      "description_tooltip": null,
      "layout": "IPY_MODEL_0546abe2628046a08715d3a0f1a646b2",
      "placeholder": "​",
      "style": "IPY_MODEL_ffd78d216ec244ad9a96115e963d841b",
      "value": " 240k/240k [00:00&lt;00:00, 14.3MB/s]"
     }
    },
    "9d61c9367189481fbffa10252d63aeda": {
     "model_module": "@jupyter-widgets/controls",
     "model_module_version": "1.5.0",
     "model_name": "DescriptionStyleModel",
     "state": {
      "_model_module": "@jupyter-widgets/controls",
      "_model_module_version": "1.5.0",
      "_model_name": "DescriptionStyleModel",
      "_view_count": null,
      "_view_module": "@jupyter-widgets/base",
      "_view_module_version": "1.2.0",
      "_view_name": "StyleView",
      "description_width": ""
     }
    },
    "9dd0696ad94b4c4d8a9244bf236272b4": {
     "model_module": "@jupyter-widgets/base",
     "model_module_version": "1.2.0",
     "model_name": "LayoutModel",
     "state": {
      "_model_module": "@jupyter-widgets/base",
      "_model_module_version": "1.2.0",
      "_model_name": "LayoutModel",
      "_view_count": null,
      "_view_module": "@jupyter-widgets/base",
      "_view_module_version": "1.2.0",
      "_view_name": "LayoutView",
      "align_content": null,
      "align_items": null,
      "align_self": null,
      "border": null,
      "bottom": null,
      "display": null,
      "flex": null,
      "flex_flow": null,
      "grid_area": null,
      "grid_auto_columns": null,
      "grid_auto_flow": null,
      "grid_auto_rows": null,
      "grid_column": null,
      "grid_gap": null,
      "grid_row": null,
      "grid_template_areas": null,
      "grid_template_columns": null,
      "grid_template_rows": null,
      "height": null,
      "justify_content": null,
      "justify_items": null,
      "left": null,
      "margin": null,
      "max_height": null,
      "max_width": null,
      "min_height": null,
      "min_width": null,
      "object_fit": null,
      "object_position": null,
      "order": null,
      "overflow": null,
      "overflow_x": null,
      "overflow_y": null,
      "padding": null,
      "right": null,
      "top": null,
      "visibility": null,
      "width": null
     }
    },
    "9e0879af53a749fca649312fa7c9d917": {
     "model_module": "@jupyter-widgets/controls",
     "model_module_version": "1.5.0",
     "model_name": "ProgressStyleModel",
     "state": {
      "_model_module": "@jupyter-widgets/controls",
      "_model_module_version": "1.5.0",
      "_model_name": "ProgressStyleModel",
      "_view_count": null,
      "_view_module": "@jupyter-widgets/base",
      "_view_module_version": "1.2.0",
      "_view_name": "StyleView",
      "bar_color": null,
      "description_width": ""
     }
    },
    "9f21b38d99ca43f48dd868b2524c31e8": {
     "model_module": "@jupyter-widgets/controls",
     "model_module_version": "1.5.0",
     "model_name": "FloatProgressModel",
     "state": {
      "_dom_classes": [],
      "_model_module": "@jupyter-widgets/controls",
      "_model_module_version": "1.5.0",
      "_model_name": "FloatProgressModel",
      "_view_count": null,
      "_view_module": "@jupyter-widgets/controls",
      "_view_module_version": "1.5.0",
      "_view_name": "ProgressView",
      "bar_style": "success",
      "description": "",
      "description_tooltip": null,
      "layout": "IPY_MODEL_1e923ef8f0954d54994143ff2ab96503",
      "max": 363,
      "min": 0,
      "orientation": "horizontal",
      "style": "IPY_MODEL_88ec023e754a4806ac4526bc888db6d1",
      "value": 363
     }
    },
    "a35453c9d69448c9899896c9239311b8": {
     "model_module": "@jupyter-widgets/base",
     "model_module_version": "1.2.0",
     "model_name": "LayoutModel",
     "state": {
      "_model_module": "@jupyter-widgets/base",
      "_model_module_version": "1.2.0",
      "_model_name": "LayoutModel",
      "_view_count": null,
      "_view_module": "@jupyter-widgets/base",
      "_view_module_version": "1.2.0",
      "_view_name": "LayoutView",
      "align_content": null,
      "align_items": null,
      "align_self": null,
      "border": null,
      "bottom": null,
      "display": null,
      "flex": null,
      "flex_flow": null,
      "grid_area": null,
      "grid_auto_columns": null,
      "grid_auto_flow": null,
      "grid_auto_rows": null,
      "grid_column": null,
      "grid_gap": null,
      "grid_row": null,
      "grid_template_areas": null,
      "grid_template_columns": null,
      "grid_template_rows": null,
      "height": null,
      "justify_content": null,
      "justify_items": null,
      "left": null,
      "margin": null,
      "max_height": null,
      "max_width": null,
      "min_height": null,
      "min_width": null,
      "object_fit": null,
      "object_position": null,
      "order": null,
      "overflow": null,
      "overflow_x": null,
      "overflow_y": null,
      "padding": null,
      "right": null,
      "top": null,
      "visibility": null,
      "width": null
     }
    },
    "a5eb732983984c548594dec9e30b0def": {
     "model_module": "@jupyter-widgets/base",
     "model_module_version": "1.2.0",
     "model_name": "LayoutModel",
     "state": {
      "_model_module": "@jupyter-widgets/base",
      "_model_module_version": "1.2.0",
      "_model_name": "LayoutModel",
      "_view_count": null,
      "_view_module": "@jupyter-widgets/base",
      "_view_module_version": "1.2.0",
      "_view_name": "LayoutView",
      "align_content": null,
      "align_items": null,
      "align_self": null,
      "border": null,
      "bottom": null,
      "display": null,
      "flex": null,
      "flex_flow": null,
      "grid_area": null,
      "grid_auto_columns": null,
      "grid_auto_flow": null,
      "grid_auto_rows": null,
      "grid_column": null,
      "grid_gap": null,
      "grid_row": null,
      "grid_template_areas": null,
      "grid_template_columns": null,
      "grid_template_rows": null,
      "height": null,
      "justify_content": null,
      "justify_items": null,
      "left": null,
      "margin": null,
      "max_height": null,
      "max_width": null,
      "min_height": null,
      "min_width": null,
      "object_fit": null,
      "object_position": null,
      "order": null,
      "overflow": null,
      "overflow_x": null,
      "overflow_y": null,
      "padding": null,
      "right": null,
      "top": null,
      "visibility": null,
      "width": null
     }
    },
    "a8792d5ce2d14b16bec217fe48752cfd": {
     "model_module": "@jupyter-widgets/controls",
     "model_module_version": "1.5.0",
     "model_name": "HTMLModel",
     "state": {
      "_dom_classes": [],
      "_model_module": "@jupyter-widgets/controls",
      "_model_module_version": "1.5.0",
      "_model_name": "HTMLModel",
      "_view_count": null,
      "_view_module": "@jupyter-widgets/controls",
      "_view_module_version": "1.5.0",
      "_view_name": "HTMLView",
      "description": "",
      "description_tooltip": null,
      "layout": "IPY_MODEL_8c5e7a49235140aa8dee5268780c7215",
      "placeholder": "​",
      "style": "IPY_MODEL_fe764f04ea6048d6baccd213be895145",
      "value": " 3/3 [04:58&lt;00:00, 99.21s/it, train_loss=125.9826, eval_loss=6.9746, f1_score=0.7300, epoch_time=98.9s]"
     }
    },
    "ad4460230d494cbfbc9c6e225d85f096": {
     "model_module": "@jupyter-widgets/controls",
     "model_module_version": "1.5.0",
     "model_name": "HTMLModel",
     "state": {
      "_dom_classes": [],
      "_model_module": "@jupyter-widgets/controls",
      "_model_module_version": "1.5.0",
      "_model_name": "HTMLModel",
      "_view_count": null,
      "_view_module": "@jupyter-widgets/controls",
      "_view_module_version": "1.5.0",
      "_view_name": "HTMLView",
      "description": "",
      "description_tooltip": null,
      "layout": "IPY_MODEL_e6289a363ca940749c3c8f5f11348217",
      "placeholder": "​",
      "style": "IPY_MODEL_0e3ab7d02bf14187bbdfb753ffc4f719",
      "value": " 5.17k/5.17k [00:00&lt;00:00, 432kB/s]"
     }
    },
    "b070eb9dddbc4b29997bbbccf8c53b24": {
     "model_module": "@jupyter-widgets/controls",
     "model_module_version": "1.5.0",
     "model_name": "HTMLModel",
     "state": {
      "_dom_classes": [],
      "_model_module": "@jupyter-widgets/controls",
      "_model_module_version": "1.5.0",
      "_model_name": "HTMLModel",
      "_view_count": null,
      "_view_module": "@jupyter-widgets/controls",
      "_view_module_version": "1.5.0",
      "_view_name": "HTMLView",
      "description": "",
      "description_tooltip": null,
      "layout": "IPY_MODEL_52fec95a1f454e8c843a11ca51337c49",
      "placeholder": "​",
      "style": "IPY_MODEL_79a4a63ab9094968a4f2a1473f8716b6",
      "value": "Training Progress: 100%"
     }
    },
    "b1666091dea34d4cba701e04bb988aca": {
     "model_module": "@jupyter-widgets/controls",
     "model_module_version": "1.5.0",
     "model_name": "ProgressStyleModel",
     "state": {
      "_model_module": "@jupyter-widgets/controls",
      "_model_module_version": "1.5.0",
      "_model_name": "ProgressStyleModel",
      "_view_count": null,
      "_view_module": "@jupyter-widgets/base",
      "_view_module_version": "1.2.0",
      "_view_name": "StyleView",
      "bar_color": null,
      "description_width": ""
     }
    },
    "b765ec6c52b04d8b848a871250591381": {
     "model_module": "@jupyter-widgets/controls",
     "model_module_version": "1.5.0",
     "model_name": "HTMLModel",
     "state": {
      "_dom_classes": [],
      "_model_module": "@jupyter-widgets/controls",
      "_model_module_version": "1.5.0",
      "_model_name": "HTMLModel",
      "_view_count": null,
      "_view_module": "@jupyter-widgets/controls",
      "_view_module_version": "1.5.0",
      "_view_name": "HTMLView",
      "description": "",
      "description_tooltip": null,
      "layout": "IPY_MODEL_f4e9e41e48ac4e728998028cae8aec03",
      "placeholder": "​",
      "style": "IPY_MODEL_e2003af57c2c4493aea18a68bc48888c",
      "value": " 879/880 [01:34&lt;00:00,  8.85it/s, loss=0.1216, lr=9.00e-06, ETA=0:03:08]"
     }
    },
    "b8961f3ecfb54842b951ac87971b9a04": {
     "model_module": "@jupyter-widgets/base",
     "model_module_version": "1.2.0",
     "model_name": "LayoutModel",
     "state": {
      "_model_module": "@jupyter-widgets/base",
      "_model_module_version": "1.2.0",
      "_model_name": "LayoutModel",
      "_view_count": null,
      "_view_module": "@jupyter-widgets/base",
      "_view_module_version": "1.2.0",
      "_view_name": "LayoutView",
      "align_content": null,
      "align_items": null,
      "align_self": null,
      "border": null,
      "bottom": null,
      "display": null,
      "flex": null,
      "flex_flow": null,
      "grid_area": null,
      "grid_auto_columns": null,
      "grid_auto_flow": null,
      "grid_auto_rows": null,
      "grid_column": null,
      "grid_gap": null,
      "grid_row": null,
      "grid_template_areas": null,
      "grid_template_columns": null,
      "grid_template_rows": null,
      "height": null,
      "justify_content": null,
      "justify_items": null,
      "left": null,
      "margin": null,
      "max_height": null,
      "max_width": null,
      "min_height": null,
      "min_width": null,
      "object_fit": null,
      "object_position": null,
      "order": null,
      "overflow": null,
      "overflow_x": null,
      "overflow_y": null,
      "padding": null,
      "right": null,
      "top": null,
      "visibility": null,
      "width": null
     }
    },
    "bbc4ae5bf326486d8a02dc2073cd1d31": {
     "model_module": "@jupyter-widgets/controls",
     "model_module_version": "1.5.0",
     "model_name": "HBoxModel",
     "state": {
      "_dom_classes": [],
      "_model_module": "@jupyter-widgets/controls",
      "_model_module_version": "1.5.0",
      "_model_name": "HBoxModel",
      "_view_count": null,
      "_view_module": "@jupyter-widgets/controls",
      "_view_module_version": "1.5.0",
      "_view_name": "HBoxView",
      "box_style": "",
      "children": [
       "IPY_MODEL_e0d824c8bd554e93b4ddf3fc9d2cd4e3",
       "IPY_MODEL_c356dcda740c418789303078934711b7",
       "IPY_MODEL_98dd42faaaaa41a78ec297610e4e80cb"
      ],
      "layout": "IPY_MODEL_55642176566d4db1831bbe2c049d801a"
     }
    },
    "bcce39d7173143179a48aad8a0155c0a": {
     "model_module": "@jupyter-widgets/controls",
     "model_module_version": "1.5.0",
     "model_name": "HTMLModel",
     "state": {
      "_dom_classes": [],
      "_model_module": "@jupyter-widgets/controls",
      "_model_module_version": "1.5.0",
      "_model_name": "HTMLModel",
      "_view_count": null,
      "_view_module": "@jupyter-widgets/controls",
      "_view_module_version": "1.5.0",
      "_view_name": "HTMLView",
      "description": "",
      "description_tooltip": null,
      "layout": "IPY_MODEL_bfba8e9ca75d40239249b2f5f715befc",
      "placeholder": "​",
      "style": "IPY_MODEL_950da84beed249288428546ceeee7cf1",
      "value": "Epoch 3/3: 100%"
     }
    },
    "bdb4087890734d1b8a2c5f58368debec": {
     "model_module": "@jupyter-widgets/base",
     "model_module_version": "1.2.0",
     "model_name": "LayoutModel",
     "state": {
      "_model_module": "@jupyter-widgets/base",
      "_model_module_version": "1.2.0",
      "_model_name": "LayoutModel",
      "_view_count": null,
      "_view_module": "@jupyter-widgets/base",
      "_view_module_version": "1.2.0",
      "_view_name": "LayoutView",
      "align_content": null,
      "align_items": null,
      "align_self": null,
      "border": null,
      "bottom": null,
      "display": null,
      "flex": null,
      "flex_flow": null,
      "grid_area": null,
      "grid_auto_columns": null,
      "grid_auto_flow": null,
      "grid_auto_rows": null,
      "grid_column": null,
      "grid_gap": null,
      "grid_row": null,
      "grid_template_areas": null,
      "grid_template_columns": null,
      "grid_template_rows": null,
      "height": null,
      "justify_content": null,
      "justify_items": null,
      "left": null,
      "margin": null,
      "max_height": null,
      "max_width": null,
      "min_height": null,
      "min_width": null,
      "object_fit": null,
      "object_position": null,
      "order": null,
      "overflow": null,
      "overflow_x": null,
      "overflow_y": null,
      "padding": null,
      "right": null,
      "top": null,
      "visibility": null,
      "width": null
     }
    },
    "bfba8e9ca75d40239249b2f5f715befc": {
     "model_module": "@jupyter-widgets/base",
     "model_module_version": "1.2.0",
     "model_name": "LayoutModel",
     "state": {
      "_model_module": "@jupyter-widgets/base",
      "_model_module_version": "1.2.0",
      "_model_name": "LayoutModel",
      "_view_count": null,
      "_view_module": "@jupyter-widgets/base",
      "_view_module_version": "1.2.0",
      "_view_name": "LayoutView",
      "align_content": null,
      "align_items": null,
      "align_self": null,
      "border": null,
      "bottom": null,
      "display": null,
      "flex": null,
      "flex_flow": null,
      "grid_area": null,
      "grid_auto_columns": null,
      "grid_auto_flow": null,
      "grid_auto_rows": null,
      "grid_column": null,
      "grid_gap": null,
      "grid_row": null,
      "grid_template_areas": null,
      "grid_template_columns": null,
      "grid_template_rows": null,
      "height": null,
      "justify_content": null,
      "justify_items": null,
      "left": null,
      "margin": null,
      "max_height": null,
      "max_width": null,
      "min_height": null,
      "min_width": null,
      "object_fit": null,
      "object_position": null,
      "order": null,
      "overflow": null,
      "overflow_x": null,
      "overflow_y": null,
      "padding": null,
      "right": null,
      "top": null,
      "visibility": null,
      "width": null
     }
    },
    "c1fb9e161a184d77888a11e7f7cfca22": {
     "model_module": "@jupyter-widgets/controls",
     "model_module_version": "1.5.0",
     "model_name": "ProgressStyleModel",
     "state": {
      "_model_module": "@jupyter-widgets/controls",
      "_model_module_version": "1.5.0",
      "_model_name": "ProgressStyleModel",
      "_view_count": null,
      "_view_module": "@jupyter-widgets/base",
      "_view_module_version": "1.2.0",
      "_view_name": "StyleView",
      "bar_color": null,
      "description_width": ""
     }
    },
    "c356dcda740c418789303078934711b7": {
     "model_module": "@jupyter-widgets/controls",
     "model_module_version": "1.5.0",
     "model_name": "FloatProgressModel",
     "state": {
      "_dom_classes": [],
      "_model_module": "@jupyter-widgets/controls",
      "_model_module_version": "1.5.0",
      "_model_name": "FloatProgressModel",
      "_view_count": null,
      "_view_module": "@jupyter-widgets/controls",
      "_view_module_version": "1.5.0",
      "_view_name": "ProgressView",
      "bar_style": "success",
      "description": "",
      "description_tooltip": null,
      "layout": "IPY_MODEL_095cc4e941474d24ab677981a21261f9",
      "max": 239836,
      "min": 0,
      "orientation": "horizontal",
      "style": "IPY_MODEL_dfed8222e4fb4251a564207330786d46",
      "value": 239836
     }
    },
    "c59e920e94b5403a8c129e1142da4594": {
     "model_module": "@jupyter-widgets/controls",
     "model_module_version": "1.5.0",
     "model_name": "FloatProgressModel",
     "state": {
      "_dom_classes": [],
      "_model_module": "@jupyter-widgets/controls",
      "_model_module_version": "1.5.0",
      "_model_name": "FloatProgressModel",
      "_view_count": null,
      "_view_module": "@jupyter-widgets/controls",
      "_view_module_version": "1.5.0",
      "_view_name": "ProgressView",
      "bar_style": "success",
      "description": "",
      "description_tooltip": null,
      "layout": "IPY_MODEL_a5eb732983984c548594dec9e30b0def",
      "max": 5174,
      "min": 0,
      "orientation": "horizontal",
      "style": "IPY_MODEL_c1fb9e161a184d77888a11e7f7cfca22",
      "value": 5174
     }
    },
    "c641f38589e449329c9b613235307e17": {
     "model_module": "@jupyter-widgets/controls",
     "model_module_version": "1.5.0",
     "model_name": "HBoxModel",
     "state": {
      "_dom_classes": [],
      "_model_module": "@jupyter-widgets/controls",
      "_model_module_version": "1.5.0",
      "_model_name": "HBoxModel",
      "_view_count": null,
      "_view_module": "@jupyter-widgets/controls",
      "_view_module_version": "1.5.0",
      "_view_name": "HBoxView",
      "box_style": "",
      "children": [
       "IPY_MODEL_19e37ae58c5b4b68838d1cff24b4fa82",
       "IPY_MODEL_8cd882e90cce4d1daedff71bd88795a3",
       "IPY_MODEL_4f8228469433466fa57fc6a4b739885b"
      ],
      "layout": "IPY_MODEL_73ce12cb0fc842c9bf6d7c9991a4bc56"
     }
    },
    "c6d1ce495b6647e086e945fad6495f6f": {
     "model_module": "@jupyter-widgets/base",
     "model_module_version": "1.2.0",
     "model_name": "LayoutModel",
     "state": {
      "_model_module": "@jupyter-widgets/base",
      "_model_module_version": "1.2.0",
      "_model_name": "LayoutModel",
      "_view_count": null,
      "_view_module": "@jupyter-widgets/base",
      "_view_module_version": "1.2.0",
      "_view_name": "LayoutView",
      "align_content": null,
      "align_items": null,
      "align_self": null,
      "border": null,
      "bottom": null,
      "display": null,
      "flex": null,
      "flex_flow": null,
      "grid_area": null,
      "grid_auto_columns": null,
      "grid_auto_flow": null,
      "grid_auto_rows": null,
      "grid_column": null,
      "grid_gap": null,
      "grid_row": null,
      "grid_template_areas": null,
      "grid_template_columns": null,
      "grid_template_rows": null,
      "height": null,
      "justify_content": null,
      "justify_items": null,
      "left": null,
      "margin": null,
      "max_height": null,
      "max_width": null,
      "min_height": null,
      "min_width": null,
      "object_fit": null,
      "object_position": null,
      "order": null,
      "overflow": null,
      "overflow_x": null,
      "overflow_y": null,
      "padding": null,
      "right": null,
      "top": null,
      "visibility": null,
      "width": null
     }
    },
    "ca63c466113b4a2aa73bc7756ff55e4c": {
     "model_module": "@jupyter-widgets/controls",
     "model_module_version": "1.5.0",
     "model_name": "ProgressStyleModel",
     "state": {
      "_model_module": "@jupyter-widgets/controls",
      "_model_module_version": "1.5.0",
      "_model_name": "ProgressStyleModel",
      "_view_count": null,
      "_view_module": "@jupyter-widgets/base",
      "_view_module_version": "1.2.0",
      "_view_name": "StyleView",
      "bar_color": null,
      "description_width": ""
     }
    },
    "ceb7556fe2194a5493e4fb30910456f4": {
     "model_module": "@jupyter-widgets/controls",
     "model_module_version": "1.5.0",
     "model_name": "FloatProgressModel",
     "state": {
      "_dom_classes": [],
      "_model_module": "@jupyter-widgets/controls",
      "_model_module_version": "1.5.0",
      "_model_name": "FloatProgressModel",
      "_view_count": null,
      "_view_module": "@jupyter-widgets/controls",
      "_view_module_version": "1.5.0",
      "_view_name": "ProgressView",
      "bar_style": "success",
      "description": "",
      "description_tooltip": null,
      "layout": "IPY_MODEL_5f63fb876f694f98a46e84371bae3342",
      "max": 1347330014,
      "min": 0,
      "orientation": "horizontal",
      "style": "IPY_MODEL_d7ca5ad3592f4e599bc805212c07e065",
      "value": 1347330014
     }
    },
    "d05675abf7654c5fb16d156b73c3eceb": {
     "model_module": "@jupyter-widgets/base",
     "model_module_version": "1.2.0",
     "model_name": "LayoutModel",
     "state": {
      "_model_module": "@jupyter-widgets/base",
      "_model_module_version": "1.2.0",
      "_model_name": "LayoutModel",
      "_view_count": null,
      "_view_module": "@jupyter-widgets/base",
      "_view_module_version": "1.2.0",
      "_view_name": "LayoutView",
      "align_content": null,
      "align_items": null,
      "align_self": null,
      "border": null,
      "bottom": null,
      "display": null,
      "flex": null,
      "flex_flow": null,
      "grid_area": null,
      "grid_auto_columns": null,
      "grid_auto_flow": null,
      "grid_auto_rows": null,
      "grid_column": null,
      "grid_gap": null,
      "grid_row": null,
      "grid_template_areas": null,
      "grid_template_columns": null,
      "grid_template_rows": null,
      "height": null,
      "justify_content": null,
      "justify_items": null,
      "left": null,
      "margin": null,
      "max_height": null,
      "max_width": null,
      "min_height": null,
      "min_width": null,
      "object_fit": null,
      "object_position": null,
      "order": null,
      "overflow": null,
      "overflow_x": null,
      "overflow_y": null,
      "padding": null,
      "right": null,
      "top": null,
      "visibility": null,
      "width": null
     }
    },
    "d15f736bdd284a7b96dd3c628c90b1b1": {
     "model_module": "@jupyter-widgets/base",
     "model_module_version": "1.2.0",
     "model_name": "LayoutModel",
     "state": {
      "_model_module": "@jupyter-widgets/base",
      "_model_module_version": "1.2.0",
      "_model_name": "LayoutModel",
      "_view_count": null,
      "_view_module": "@jupyter-widgets/base",
      "_view_module_version": "1.2.0",
      "_view_name": "LayoutView",
      "align_content": null,
      "align_items": null,
      "align_self": null,
      "border": null,
      "bottom": null,
      "display": null,
      "flex": null,
      "flex_flow": null,
      "grid_area": null,
      "grid_auto_columns": null,
      "grid_auto_flow": null,
      "grid_auto_rows": null,
      "grid_column": null,
      "grid_gap": null,
      "grid_row": null,
      "grid_template_areas": null,
      "grid_template_columns": null,
      "grid_template_rows": null,
      "height": null,
      "justify_content": null,
      "justify_items": null,
      "left": null,
      "margin": null,
      "max_height": null,
      "max_width": null,
      "min_height": null,
      "min_width": null,
      "object_fit": null,
      "object_position": null,
      "order": null,
      "overflow": null,
      "overflow_x": null,
      "overflow_y": null,
      "padding": null,
      "right": null,
      "top": null,
      "visibility": "hidden",
      "width": null
     }
    },
    "d2514ef3c1f44cefbe60e9bf240eed15": {
     "model_module": "@jupyter-widgets/controls",
     "model_module_version": "1.5.0",
     "model_name": "HTMLModel",
     "state": {
      "_dom_classes": [],
      "_model_module": "@jupyter-widgets/controls",
      "_model_module_version": "1.5.0",
      "_model_name": "HTMLModel",
      "_view_count": null,
      "_view_module": "@jupyter-widgets/controls",
      "_view_module_version": "1.5.0",
      "_view_name": "HTMLView",
      "description": "",
      "description_tooltip": null,
      "layout": "IPY_MODEL_d05675abf7654c5fb16d156b73c3eceb",
      "placeholder": "​",
      "style": "IPY_MODEL_434d919cc49640bba10730e1eedd0fbf",
      "value": "Epoch 1/3: 100%"
     }
    },
    "d3d718a64f2b4e97acce0bb26028cdd2": {
     "model_module": "@jupyter-widgets/controls",
     "model_module_version": "1.5.0",
     "model_name": "HBoxModel",
     "state": {
      "_dom_classes": [],
      "_model_module": "@jupyter-widgets/controls",
      "_model_module_version": "1.5.0",
      "_model_name": "HBoxModel",
      "_view_count": null,
      "_view_module": "@jupyter-widgets/controls",
      "_view_module_version": "1.5.0",
      "_view_name": "HBoxView",
      "box_style": "",
      "children": [
       "IPY_MODEL_71c4d258417848428eb2cbc7ebe8d5eb",
       "IPY_MODEL_9f21b38d99ca43f48dd868b2524c31e8",
       "IPY_MODEL_4bc5829a3e0147f088f2e97e1be26c95"
      ],
      "layout": "IPY_MODEL_d573e75f36154631ac7aa7f60f3e2452"
     }
    },
    "d573e75f36154631ac7aa7f60f3e2452": {
     "model_module": "@jupyter-widgets/base",
     "model_module_version": "1.2.0",
     "model_name": "LayoutModel",
     "state": {
      "_model_module": "@jupyter-widgets/base",
      "_model_module_version": "1.2.0",
      "_model_name": "LayoutModel",
      "_view_count": null,
      "_view_module": "@jupyter-widgets/base",
      "_view_module_version": "1.2.0",
      "_view_name": "LayoutView",
      "align_content": null,
      "align_items": null,
      "align_self": null,
      "border": null,
      "bottom": null,
      "display": null,
      "flex": null,
      "flex_flow": null,
      "grid_area": null,
      "grid_auto_columns": null,
      "grid_auto_flow": null,
      "grid_auto_rows": null,
      "grid_column": null,
      "grid_gap": null,
      "grid_row": null,
      "grid_template_areas": null,
      "grid_template_columns": null,
      "grid_template_rows": null,
      "height": null,
      "justify_content": null,
      "justify_items": null,
      "left": null,
      "margin": null,
      "max_height": null,
      "max_width": null,
      "min_height": null,
      "min_width": null,
      "object_fit": null,
      "object_position": null,
      "order": null,
      "overflow": null,
      "overflow_x": null,
      "overflow_y": null,
      "padding": null,
      "right": null,
      "top": null,
      "visibility": null,
      "width": null
     }
    },
    "d7ca5ad3592f4e599bc805212c07e065": {
     "model_module": "@jupyter-widgets/controls",
     "model_module_version": "1.5.0",
     "model_name": "ProgressStyleModel",
     "state": {
      "_model_module": "@jupyter-widgets/controls",
      "_model_module_version": "1.5.0",
      "_model_name": "ProgressStyleModel",
      "_view_count": null,
      "_view_module": "@jupyter-widgets/base",
      "_view_module_version": "1.2.0",
      "_view_name": "StyleView",
      "bar_color": null,
      "description_width": ""
     }
    },
    "db2e63ea60d94c58931743695b3414f7": {
     "model_module": "@jupyter-widgets/controls",
     "model_module_version": "1.5.0",
     "model_name": "DescriptionStyleModel",
     "state": {
      "_model_module": "@jupyter-widgets/controls",
      "_model_module_version": "1.5.0",
      "_model_name": "DescriptionStyleModel",
      "_view_count": null,
      "_view_module": "@jupyter-widgets/base",
      "_view_module_version": "1.2.0",
      "_view_name": "StyleView",
      "description_width": ""
     }
    },
    "de88adea80f34889a2411a79bf2351cb": {
     "model_module": "@jupyter-widgets/base",
     "model_module_version": "1.2.0",
     "model_name": "LayoutModel",
     "state": {
      "_model_module": "@jupyter-widgets/base",
      "_model_module_version": "1.2.0",
      "_model_name": "LayoutModel",
      "_view_count": null,
      "_view_module": "@jupyter-widgets/base",
      "_view_module_version": "1.2.0",
      "_view_name": "LayoutView",
      "align_content": null,
      "align_items": null,
      "align_self": null,
      "border": null,
      "bottom": null,
      "display": null,
      "flex": null,
      "flex_flow": null,
      "grid_area": null,
      "grid_auto_columns": null,
      "grid_auto_flow": null,
      "grid_auto_rows": null,
      "grid_column": null,
      "grid_gap": null,
      "grid_row": null,
      "grid_template_areas": null,
      "grid_template_columns": null,
      "grid_template_rows": null,
      "height": null,
      "justify_content": null,
      "justify_items": null,
      "left": null,
      "margin": null,
      "max_height": null,
      "max_width": null,
      "min_height": null,
      "min_width": null,
      "object_fit": null,
      "object_position": null,
      "order": null,
      "overflow": null,
      "overflow_x": null,
      "overflow_y": null,
      "padding": null,
      "right": null,
      "top": null,
      "visibility": "hidden",
      "width": null
     }
    },
    "dfed8222e4fb4251a564207330786d46": {
     "model_module": "@jupyter-widgets/controls",
     "model_module_version": "1.5.0",
     "model_name": "ProgressStyleModel",
     "state": {
      "_model_module": "@jupyter-widgets/controls",
      "_model_module_version": "1.5.0",
      "_model_name": "ProgressStyleModel",
      "_view_count": null,
      "_view_module": "@jupyter-widgets/base",
      "_view_module_version": "1.2.0",
      "_view_name": "StyleView",
      "bar_color": null,
      "description_width": ""
     }
    },
    "e0d824c8bd554e93b4ddf3fc9d2cd4e3": {
     "model_module": "@jupyter-widgets/controls",
     "model_module_version": "1.5.0",
     "model_name": "HTMLModel",
     "state": {
      "_dom_classes": [],
      "_model_module": "@jupyter-widgets/controls",
      "_model_module_version": "1.5.0",
      "_model_name": "HTMLModel",
      "_view_count": null,
      "_view_module": "@jupyter-widgets/controls",
      "_view_module_version": "1.5.0",
      "_view_name": "HTMLView",
      "description": "",
      "description_tooltip": null,
      "layout": "IPY_MODEL_fa68956f29ce414ca233920802c042ec",
      "placeholder": "​",
      "style": "IPY_MODEL_9d61c9367189481fbffa10252d63aeda",
      "value": "vocab.txt: 100%"
     }
    },
    "e2003af57c2c4493aea18a68bc48888c": {
     "model_module": "@jupyter-widgets/controls",
     "model_module_version": "1.5.0",
     "model_name": "DescriptionStyleModel",
     "state": {
      "_model_module": "@jupyter-widgets/controls",
      "_model_module_version": "1.5.0",
      "_model_name": "DescriptionStyleModel",
      "_view_count": null,
      "_view_module": "@jupyter-widgets/base",
      "_view_module_version": "1.2.0",
      "_view_name": "StyleView",
      "description_width": ""
     }
    },
    "e6289a363ca940749c3c8f5f11348217": {
     "model_module": "@jupyter-widgets/base",
     "model_module_version": "1.2.0",
     "model_name": "LayoutModel",
     "state": {
      "_model_module": "@jupyter-widgets/base",
      "_model_module_version": "1.2.0",
      "_model_name": "LayoutModel",
      "_view_count": null,
      "_view_module": "@jupyter-widgets/base",
      "_view_module_version": "1.2.0",
      "_view_name": "LayoutView",
      "align_content": null,
      "align_items": null,
      "align_self": null,
      "border": null,
      "bottom": null,
      "display": null,
      "flex": null,
      "flex_flow": null,
      "grid_area": null,
      "grid_auto_columns": null,
      "grid_auto_flow": null,
      "grid_auto_rows": null,
      "grid_column": null,
      "grid_gap": null,
      "grid_row": null,
      "grid_template_areas": null,
      "grid_template_columns": null,
      "grid_template_rows": null,
      "height": null,
      "justify_content": null,
      "justify_items": null,
      "left": null,
      "margin": null,
      "max_height": null,
      "max_width": null,
      "min_height": null,
      "min_width": null,
      "object_fit": null,
      "object_position": null,
      "order": null,
      "overflow": null,
      "overflow_x": null,
      "overflow_y": null,
      "padding": null,
      "right": null,
      "top": null,
      "visibility": null,
      "width": null
     }
    },
    "e8a0adff71014f14b26d3e9e7bb69530": {
     "model_module": "@jupyter-widgets/base",
     "model_module_version": "1.2.0",
     "model_name": "LayoutModel",
     "state": {
      "_model_module": "@jupyter-widgets/base",
      "_model_module_version": "1.2.0",
      "_model_name": "LayoutModel",
      "_view_count": null,
      "_view_module": "@jupyter-widgets/base",
      "_view_module_version": "1.2.0",
      "_view_name": "LayoutView",
      "align_content": null,
      "align_items": null,
      "align_self": null,
      "border": null,
      "bottom": null,
      "display": null,
      "flex": null,
      "flex_flow": null,
      "grid_area": null,
      "grid_auto_columns": null,
      "grid_auto_flow": null,
      "grid_auto_rows": null,
      "grid_column": null,
      "grid_gap": null,
      "grid_row": null,
      "grid_template_areas": null,
      "grid_template_columns": null,
      "grid_template_rows": null,
      "height": null,
      "justify_content": null,
      "justify_items": null,
      "left": null,
      "margin": null,
      "max_height": null,
      "max_width": null,
      "min_height": null,
      "min_width": null,
      "object_fit": null,
      "object_position": null,
      "order": null,
      "overflow": null,
      "overflow_x": null,
      "overflow_y": null,
      "padding": null,
      "right": null,
      "top": null,
      "visibility": null,
      "width": null
     }
    },
    "e9aef5d0975b4b72b106317bd2f4fe77": {
     "model_module": "@jupyter-widgets/base",
     "model_module_version": "1.2.0",
     "model_name": "LayoutModel",
     "state": {
      "_model_module": "@jupyter-widgets/base",
      "_model_module_version": "1.2.0",
      "_model_name": "LayoutModel",
      "_view_count": null,
      "_view_module": "@jupyter-widgets/base",
      "_view_module_version": "1.2.0",
      "_view_name": "LayoutView",
      "align_content": null,
      "align_items": null,
      "align_self": null,
      "border": null,
      "bottom": null,
      "display": null,
      "flex": null,
      "flex_flow": null,
      "grid_area": null,
      "grid_auto_columns": null,
      "grid_auto_flow": null,
      "grid_auto_rows": null,
      "grid_column": null,
      "grid_gap": null,
      "grid_row": null,
      "grid_template_areas": null,
      "grid_template_columns": null,
      "grid_template_rows": null,
      "height": null,
      "justify_content": null,
      "justify_items": null,
      "left": null,
      "margin": null,
      "max_height": null,
      "max_width": null,
      "min_height": null,
      "min_width": null,
      "object_fit": null,
      "object_position": null,
      "order": null,
      "overflow": null,
      "overflow_x": null,
      "overflow_y": null,
      "padding": null,
      "right": null,
      "top": null,
      "visibility": null,
      "width": null
     }
    },
    "eaedc46929c74e01b3b1214da4554acf": {
     "model_module": "@jupyter-widgets/controls",
     "model_module_version": "1.5.0",
     "model_name": "DescriptionStyleModel",
     "state": {
      "_model_module": "@jupyter-widgets/controls",
      "_model_module_version": "1.5.0",
      "_model_name": "DescriptionStyleModel",
      "_view_count": null,
      "_view_module": "@jupyter-widgets/base",
      "_view_module_version": "1.2.0",
      "_view_name": "StyleView",
      "description_width": ""
     }
    },
    "ecc246071eae4e9b9d05d1611d4c1d0e": {
     "model_module": "@jupyter-widgets/controls",
     "model_module_version": "1.5.0",
     "model_name": "HTMLModel",
     "state": {
      "_dom_classes": [],
      "_model_module": "@jupyter-widgets/controls",
      "_model_module_version": "1.5.0",
      "_model_name": "HTMLModel",
      "_view_count": null,
      "_view_module": "@jupyter-widgets/controls",
      "_view_module_version": "1.5.0",
      "_view_name": "HTMLView",
      "description": "",
      "description_tooltip": null,
      "layout": "IPY_MODEL_ffa5f6aa460b4cecaedb6217d3fb49a2",
      "placeholder": "​",
      "style": "IPY_MODEL_f8a4c9a526a34e80838968391003e6ba",
      "value": "model.safetensors: 100%"
     }
    },
    "ecd384bf51a24456895a0a150879a2f3": {
     "model_module": "@jupyter-widgets/controls",
     "model_module_version": "1.5.0",
     "model_name": "ProgressStyleModel",
     "state": {
      "_model_module": "@jupyter-widgets/controls",
      "_model_module_version": "1.5.0",
      "_model_name": "ProgressStyleModel",
      "_view_count": null,
      "_view_module": "@jupyter-widgets/base",
      "_view_module_version": "1.2.0",
      "_view_name": "StyleView",
      "bar_color": null,
      "description_width": ""
     }
    },
    "f0e95781e54843ae82cc3c01d1e51d50": {
     "model_module": "@jupyter-widgets/controls",
     "model_module_version": "1.5.0",
     "model_name": "HTMLModel",
     "state": {
      "_dom_classes": [],
      "_model_module": "@jupyter-widgets/controls",
      "_model_module_version": "1.5.0",
      "_model_name": "HTMLModel",
      "_view_count": null,
      "_view_module": "@jupyter-widgets/controls",
      "_view_module_version": "1.5.0",
      "_view_name": "HTMLView",
      "description": "",
      "description_tooltip": null,
      "layout": "IPY_MODEL_033922545a9f4687a6942d1c00535c46",
      "placeholder": "​",
      "style": "IPY_MODEL_30d4a62369cd4d47a6d2dd9755f29606",
      "value": " 1.35G/1.35G [00:56&lt;00:00, 23.9MB/s]"
     }
    },
    "f0fc456e6dcf44faa9bc73c6eb31908e": {
     "model_module": "@jupyter-widgets/controls",
     "model_module_version": "1.5.0",
     "model_name": "HTMLModel",
     "state": {
      "_dom_classes": [],
      "_model_module": "@jupyter-widgets/controls",
      "_model_module_version": "1.5.0",
      "_model_name": "HTMLModel",
      "_view_count": null,
      "_view_module": "@jupyter-widgets/controls",
      "_view_module_version": "1.5.0",
      "_view_name": "HTMLView",
      "description": "",
      "description_tooltip": null,
      "layout": "IPY_MODEL_2b2bf52aee06420cb8d7e0da4c567fef",
      "placeholder": "​",
      "style": "IPY_MODEL_40a91f301dd74e8daa3b78c8114bfd30",
      "value": "Epoch 2/3: 100%"
     }
    },
    "f4e9e41e48ac4e728998028cae8aec03": {
     "model_module": "@jupyter-widgets/base",
     "model_module_version": "1.2.0",
     "model_name": "LayoutModel",
     "state": {
      "_model_module": "@jupyter-widgets/base",
      "_model_module_version": "1.2.0",
      "_model_name": "LayoutModel",
      "_view_count": null,
      "_view_module": "@jupyter-widgets/base",
      "_view_module_version": "1.2.0",
      "_view_name": "LayoutView",
      "align_content": null,
      "align_items": null,
      "align_self": null,
      "border": null,
      "bottom": null,
      "display": null,
      "flex": null,
      "flex_flow": null,
      "grid_area": null,
      "grid_auto_columns": null,
      "grid_auto_flow": null,
      "grid_auto_rows": null,
      "grid_column": null,
      "grid_gap": null,
      "grid_row": null,
      "grid_template_areas": null,
      "grid_template_columns": null,
      "grid_template_rows": null,
      "height": null,
      "justify_content": null,
      "justify_items": null,
      "left": null,
      "margin": null,
      "max_height": null,
      "max_width": null,
      "min_height": null,
      "min_width": null,
      "object_fit": null,
      "object_position": null,
      "order": null,
      "overflow": null,
      "overflow_x": null,
      "overflow_y": null,
      "padding": null,
      "right": null,
      "top": null,
      "visibility": null,
      "width": null
     }
    },
    "f8a4c9a526a34e80838968391003e6ba": {
     "model_module": "@jupyter-widgets/controls",
     "model_module_version": "1.5.0",
     "model_name": "DescriptionStyleModel",
     "state": {
      "_model_module": "@jupyter-widgets/controls",
      "_model_module_version": "1.5.0",
      "_model_name": "DescriptionStyleModel",
      "_view_count": null,
      "_view_module": "@jupyter-widgets/base",
      "_view_module_version": "1.2.0",
      "_view_name": "StyleView",
      "description_width": ""
     }
    },
    "f99f0b593dcb4a3899605d181b36db9f": {
     "model_module": "@jupyter-widgets/controls",
     "model_module_version": "1.5.0",
     "model_name": "DescriptionStyleModel",
     "state": {
      "_model_module": "@jupyter-widgets/controls",
      "_model_module_version": "1.5.0",
      "_model_name": "DescriptionStyleModel",
      "_view_count": null,
      "_view_module": "@jupyter-widgets/base",
      "_view_module_version": "1.2.0",
      "_view_name": "StyleView",
      "description_width": ""
     }
    },
    "f9fc2759ee0945ab91f112c55f16751f": {
     "model_module": "@jupyter-widgets/controls",
     "model_module_version": "1.5.0",
     "model_name": "DescriptionStyleModel",
     "state": {
      "_model_module": "@jupyter-widgets/controls",
      "_model_module_version": "1.5.0",
      "_model_name": "DescriptionStyleModel",
      "_view_count": null,
      "_view_module": "@jupyter-widgets/base",
      "_view_module_version": "1.2.0",
      "_view_name": "StyleView",
      "description_width": ""
     }
    },
    "fa68956f29ce414ca233920802c042ec": {
     "model_module": "@jupyter-widgets/base",
     "model_module_version": "1.2.0",
     "model_name": "LayoutModel",
     "state": {
      "_model_module": "@jupyter-widgets/base",
      "_model_module_version": "1.2.0",
      "_model_name": "LayoutModel",
      "_view_count": null,
      "_view_module": "@jupyter-widgets/base",
      "_view_module_version": "1.2.0",
      "_view_name": "LayoutView",
      "align_content": null,
      "align_items": null,
      "align_self": null,
      "border": null,
      "bottom": null,
      "display": null,
      "flex": null,
      "flex_flow": null,
      "grid_area": null,
      "grid_auto_columns": null,
      "grid_auto_flow": null,
      "grid_auto_rows": null,
      "grid_column": null,
      "grid_gap": null,
      "grid_row": null,
      "grid_template_areas": null,
      "grid_template_columns": null,
      "grid_template_rows": null,
      "height": null,
      "justify_content": null,
      "justify_items": null,
      "left": null,
      "margin": null,
      "max_height": null,
      "max_width": null,
      "min_height": null,
      "min_width": null,
      "object_fit": null,
      "object_position": null,
      "order": null,
      "overflow": null,
      "overflow_x": null,
      "overflow_y": null,
      "padding": null,
      "right": null,
      "top": null,
      "visibility": null,
      "width": null
     }
    },
    "fb5844bf05764f0684392d6419dc8404": {
     "model_module": "@jupyter-widgets/controls",
     "model_module_version": "1.5.0",
     "model_name": "HTMLModel",
     "state": {
      "_dom_classes": [],
      "_model_module": "@jupyter-widgets/controls",
      "_model_module_version": "1.5.0",
      "_model_name": "HTMLModel",
      "_view_count": null,
      "_view_module": "@jupyter-widgets/controls",
      "_view_module_version": "1.5.0",
      "_view_name": "HTMLView",
      "description": "",
      "description_tooltip": null,
      "layout": "IPY_MODEL_a35453c9d69448c9899896c9239311b8",
      "placeholder": "​",
      "style": "IPY_MODEL_f9fc2759ee0945ab91f112c55f16751f",
      "value": " 879/880 [01:33&lt;00:00,  8.99it/s, loss=0.0683, lr=9.00e-06, ETA=0:01:36]"
     }
    },
    "fe764f04ea6048d6baccd213be895145": {
     "model_module": "@jupyter-widgets/controls",
     "model_module_version": "1.5.0",
     "model_name": "DescriptionStyleModel",
     "state": {
      "_model_module": "@jupyter-widgets/controls",
      "_model_module_version": "1.5.0",
      "_model_name": "DescriptionStyleModel",
      "_view_count": null,
      "_view_module": "@jupyter-widgets/base",
      "_view_module_version": "1.2.0",
      "_view_name": "StyleView",
      "description_width": ""
     }
    },
    "fefd4f79f7e54e6f949e739083e96d0f": {
     "model_module": "@jupyter-widgets/controls",
     "model_module_version": "1.5.0",
     "model_name": "FloatProgressModel",
     "state": {
      "_dom_classes": [],
      "_model_module": "@jupyter-widgets/controls",
      "_model_module_version": "1.5.0",
      "_model_name": "FloatProgressModel",
      "_view_count": null,
      "_view_module": "@jupyter-widgets/controls",
      "_view_module_version": "1.5.0",
      "_view_name": "ProgressView",
      "bar_style": "",
      "description": "",
      "description_tooltip": null,
      "layout": "IPY_MODEL_e9aef5d0975b4b72b106317bd2f4fe77",
      "max": 880,
      "min": 0,
      "orientation": "horizontal",
      "style": "IPY_MODEL_b1666091dea34d4cba701e04bb988aca",
      "value": 880
     }
    },
    "ffa5f6aa460b4cecaedb6217d3fb49a2": {
     "model_module": "@jupyter-widgets/base",
     "model_module_version": "1.2.0",
     "model_name": "LayoutModel",
     "state": {
      "_model_module": "@jupyter-widgets/base",
      "_model_module_version": "1.2.0",
      "_model_name": "LayoutModel",
      "_view_count": null,
      "_view_module": "@jupyter-widgets/base",
      "_view_module_version": "1.2.0",
      "_view_name": "LayoutView",
      "align_content": null,
      "align_items": null,
      "align_self": null,
      "border": null,
      "bottom": null,
      "display": null,
      "flex": null,
      "flex_flow": null,
      "grid_area": null,
      "grid_auto_columns": null,
      "grid_auto_flow": null,
      "grid_auto_rows": null,
      "grid_column": null,
      "grid_gap": null,
      "grid_row": null,
      "grid_template_areas": null,
      "grid_template_columns": null,
      "grid_template_rows": null,
      "height": null,
      "justify_content": null,
      "justify_items": null,
      "left": null,
      "margin": null,
      "max_height": null,
      "max_width": null,
      "min_height": null,
      "min_width": null,
      "object_fit": null,
      "object_position": null,
      "order": null,
      "overflow": null,
      "overflow_x": null,
      "overflow_y": null,
      "padding": null,
      "right": null,
      "top": null,
      "visibility": null,
      "width": null
     }
    },
    "ffd78d216ec244ad9a96115e963d841b": {
     "model_module": "@jupyter-widgets/controls",
     "model_module_version": "1.5.0",
     "model_name": "DescriptionStyleModel",
     "state": {
      "_model_module": "@jupyter-widgets/controls",
      "_model_module_version": "1.5.0",
      "_model_name": "DescriptionStyleModel",
      "_view_count": null,
      "_view_module": "@jupyter-widgets/base",
      "_view_module_version": "1.2.0",
      "_view_name": "StyleView",
      "description_width": ""
     }
    }
   }
  }
 },
 "nbformat": 4,
 "nbformat_minor": 5
}
